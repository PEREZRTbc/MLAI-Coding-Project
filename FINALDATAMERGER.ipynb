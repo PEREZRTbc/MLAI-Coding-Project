{
 "cells": [
  {
   "cell_type": "code",
   "execution_count": 789,
   "id": "31367755-08aa-4cc8-be8b-9ed145d4c551",
   "metadata": {},
   "outputs": [],
   "source": [
    "import numpy as np\n",
    "import pandas as pd\n",
    "df = pd.read_csv(\"dataABNB.csv\")"
   ]
  },
  {
   "cell_type": "code",
   "execution_count": 790,
   "id": "2bbdfa57-63d1-4272-9b27-7935aeb324c0",
   "metadata": {},
   "outputs": [],
   "source": [
    "#sample function from chatgpt\n",
    "import ast\n",
    "\n",
    "def clean_sentiment_positive(example):\n",
    "    try:\n",
    "        sentiment_dict = ast.literal_eval(example)\n",
    "        return sentiment_dict.get('positive')\n",
    "    except (SyntaxError, ValueError):\n",
    "        return None\n",
    "\n",
    "def clean_sentiment_negative(example):\n",
    "    try:\n",
    "        sentiment_dict = ast.literal_eval(example)\n",
    "        return sentiment_dict.get('negative')\n",
    "    except (SyntaxError, ValueError):\n",
    "        return None\n",
    "\n",
    "def clean_sentiment_neutral(example):\n",
    "    try:\n",
    "        sentiment_dict = ast.literal_eval(example)\n",
    "        return sentiment_dict.get('neutral')\n",
    "    except (SyntaxError, ValueError):\n",
    "        return None"
   ]
  },
  {
   "cell_type": "code",
   "execution_count": 791,
   "id": "d9b4065a-7257-4eb7-9f1d-ba4ad21bf9d7",
   "metadata": {},
   "outputs": [],
   "source": [
    "df['positive_sentiment'] = df['sentiment'].apply(clean_sentiment_positive)\n",
    "df['negative_sentiment'] = df['sentiment'].apply(clean_sentiment_negative)\n",
    "df['neutral_sentiment'] = df['sentiment'].apply(clean_sentiment_neutral)"
   ]
  },
  {
   "cell_type": "code",
   "execution_count": 792,
   "id": "e49c6534-73d0-4039-860f-afb27e766bb6",
   "metadata": {
    "scrolled": true
   },
   "outputs": [
    {
     "data": {
      "text/plain": [
       "<bound method IndexOpsMixin.value_counts of 0      0.011808\n",
       "1      0.902408\n",
       "2      0.231911\n",
       "3      0.119594\n",
       "4      0.031647\n",
       "         ...   \n",
       "585    0.060828\n",
       "586    0.295718\n",
       "587    0.016089\n",
       "588    0.045828\n",
       "589    0.747968\n",
       "Name: positive_sentiment, Length: 590, dtype: float64>"
      ]
     },
     "execution_count": 792,
     "metadata": {},
     "output_type": "execute_result"
    }
   ],
   "source": [
    "df['positive_sentiment'].value_counts"
   ]
  },
  {
   "cell_type": "code",
   "execution_count": 793,
   "id": "b8d19372-a9f1-4e09-950a-5c42af459d33",
   "metadata": {
    "scrolled": true
   },
   "outputs": [
    {
     "data": {
      "text/plain": [
       "<bound method NDFrame.head of                                                    url        authorsByline  \\\n",
       "0    https://www.ft.com/content/3f553a29-89af-4d10-...       George Hammond   \n",
       "1    https://www.ft.com/content/bbabdc53-05f4-4162-...             Dave Lee   \n",
       "2    https://www.ft.com/content/16f1bee2-a768-451e-...         Elaine Moore   \n",
       "3    https://www.ft.com/content/3196b6c0-ce8e-4874-...        Chris Nuttall   \n",
       "4    https://www.ft.com/content/ffa67c61-6813-4542-...         Sophia Smith   \n",
       "..                                                 ...                  ...   \n",
       "585  https://www.defenseworld.net/2023/06/20/b-rile...  Defense World Staff   \n",
       "586  https://news.airbnb.com/en-uk/airbnb-becomes-h...               Airbnb   \n",
       "587  https://lookcharms.com/stock-market-wall-stree...           lookcharms   \n",
       "588  https://www.news4jax.com/news/local/2023/06/20...     Ivanhoe Newswire   \n",
       "589  https://hubliexpress.com/showcasing-indias-her...               kishan   \n",
       "\n",
       "                            articleId                         clusterId  \\\n",
       "0    87a41936930f429fa57f5ce6f2bd0134  177e5ad186be45a7a9071ee5e4937814   \n",
       "1    254f9806f98346a785c4d87559a32da5  a6645d9e5e2641b881a0c0bb067b48a7   \n",
       "2    9522c44765e54c9e9cb31e92b0290fb2  da1c26785b324637a798835eb231fff2   \n",
       "3    1c18de005ac542189882c9fc811b8588  fcb2d9b50fe245bfab67b0791799caa3   \n",
       "4    f3e68091561b479f88ce32db6c20d327  e9635f7809cc463184eea64d1c26580b   \n",
       "..                                ...                               ...   \n",
       "585  b7b93d3ff6cd465fbb1699938e3c4b9b  bb738dc3471a4efdb948deb5eaa2997a   \n",
       "586  d5d03c04d01a4d8eadef67b874cb9cba  94443b0d22dc4ba08e9aa0150b49da50   \n",
       "587  5b2d57e75e7d4fe7a78974331f5146fc  408e3f45b6964634a25a2ec1027c30a7   \n",
       "588  9525bf8e21124e83886320cc4c6c74f0  16e36aa8e4b346849f4b7ed3a6abc86b   \n",
       "589  e56e0b9be45d4f40b13792f071425f63  94443b0d22dc4ba08e9aa0150b49da50   \n",
       "\n",
       "                                                source  \\\n",
       "0    {'domain': 'ft.com', 'paywall': True, 'locatio...   \n",
       "1    {'domain': 'ft.com', 'paywall': True, 'locatio...   \n",
       "2    {'domain': 'ft.com', 'paywall': True, 'locatio...   \n",
       "3    {'domain': 'ft.com', 'paywall': True, 'locatio...   \n",
       "4    {'domain': 'ft.com', 'paywall': True, 'locatio...   \n",
       "..                                                 ...   \n",
       "585   {'domain': 'defenseworld.net', 'location': None}   \n",
       "586    {'domain': 'news.airbnb.com', 'location': None}   \n",
       "587     {'domain': 'lookcharms.com', 'location': None}   \n",
       "588  {'domain': 'news4jax.com', 'paywall': False, '...   \n",
       "589   {'domain': 'hubliexpress.com', 'location': None}   \n",
       "\n",
       "                                              imageUrl country language  \\\n",
       "0    https://www.ft.com/__origami/service/image/v2/...      gb       en   \n",
       "1    https://www.ft.com/__origami/service/image/v2/...      gb       en   \n",
       "2    https://www.ft.com/__origami/service/image/v2/...      gb       en   \n",
       "3    https://www.ft.com/__origami/service/image/v2/...      gb       en   \n",
       "4    https://www.ft.com/__origami/service/image/v2/...      gb       en   \n",
       "..                                                 ...     ...      ...   \n",
       "585  https://www.americanbankingnews.com/wp-content...      us       en   \n",
       "586  https://news.airbnb.com/wp-content/uploads/sit...      us       en   \n",
       "587  https://www.lesaffaires.com/uploads/images/nor...      us       en   \n",
       "588  https://res.cloudinary.com/graham-media-group/...      us       en   \n",
       "589  https://hubliexpress.com/whirtaxi/2023/06/1687...      us       en   \n",
       "\n",
       "                              pubDate                           addDate  ...  \\\n",
       "0    2022-02-06T19:00:23.567000+00:00  2022-02-06T19:00:23.567000+00:00  ...   \n",
       "1    2022-02-15T22:31:47.325000+00:00  2022-02-15T22:31:47.325000+00:00  ...   \n",
       "2    2022-02-16T12:30:41.883000+00:00  2022-02-16T12:30:41.883000+00:00  ...   \n",
       "3    2022-02-16T18:37:38.604000+00:00  2022-02-16T18:37:38.604000+00:00  ...   \n",
       "4    2022-04-06T04:00:32.554000+00:00  2022-04-06T04:00:32.554000+00:00  ...   \n",
       "..                                ...                               ...  ...   \n",
       "585         2023-06-20T08:26:52+00:00  2023-06-20T08:51:58.740123+00:00  ...   \n",
       "586         2023-06-20T09:01:44+00:00  2023-06-20T09:13:24.481817+00:00  ...   \n",
       "587         2023-06-20T09:52:28+00:00  2023-06-20T10:12:41.898461+00:00  ...   \n",
       "588  2023-06-20T10:00:06.314000+00:00  2023-06-20T10:09:51.765576+00:00  ...   \n",
       "589         2023-06-20T09:22:02+00:00  2023-06-20T10:11:03.936512+00:00  ...   \n",
       "\n",
       "                       reprintGroupId  places  \\\n",
       "0    b06af4ed37694981b2376b3171ba08d2      []   \n",
       "1    eb4d684fba7a43768c30e796cf1970b1      []   \n",
       "2    15e2e398146f4a67a2b11c6954b6dda3      []   \n",
       "3    5ab7c12c271b43f6aa536e81ef2a6308      []   \n",
       "4    399df26d75bd4af0a702f5795b78c217      []   \n",
       "..                                ...     ...   \n",
       "585  94f752e5992a42e6bb14751970a33392      []   \n",
       "586  a60ca64d6704418bb207cbffd30d3228      []   \n",
       "587  43a454256d384b699d7c887492361e95      []   \n",
       "588  49ce94b23d0346cbb81f2f987e335c38      []   \n",
       "589  5e6c99867c7647a58d0aaaa44ce2d114      []   \n",
       "\n",
       "                                                people StockSymbol  \\\n",
       "0                                                   []        ABNB   \n",
       "1                                                   []        ABNB   \n",
       "2                                                   []        ABNB   \n",
       "3    [{'wikidataId': 'Q92747', 'name': 'Eric Schmid...        ABNB   \n",
       "4                                                   []        ABNB   \n",
       "..                                                 ...         ...   \n",
       "585                                                 []        ABNB   \n",
       "586                                                 []        ABNB   \n",
       "587  [{'wikidataId': 'Q6279', 'name': 'Joe Biden'},...        ABNB   \n",
       "588                                                 []        ABNB   \n",
       "589  [{'wikidataId': 'Q5512319', 'name': 'G. Kishan...        ABNB   \n",
       "\n",
       "    translatedTitle translatedDescription translatedSummary  \\\n",
       "0               NaN                   NaN               NaN   \n",
       "1               NaN                   NaN               NaN   \n",
       "2               NaN                   NaN               NaN   \n",
       "3               NaN                   NaN               NaN   \n",
       "4               NaN                   NaN               NaN   \n",
       "..              ...                   ...               ...   \n",
       "585             NaN                   NaN               NaN   \n",
       "586             NaN                   NaN               NaN   \n",
       "587             NaN                   NaN               NaN   \n",
       "588             NaN                   NaN               NaN   \n",
       "589             NaN                   NaN               NaN   \n",
       "\n",
       "    positive_sentiment negative_sentiment  neutral_sentiment  \n",
       "0             0.011808           0.893342           0.094850  \n",
       "1             0.902408           0.056243           0.041349  \n",
       "2             0.231911           0.321614           0.446475  \n",
       "3             0.119594           0.013067           0.867338  \n",
       "4             0.031647           0.095279           0.873074  \n",
       "..                 ...                ...                ...  \n",
       "585           0.060828           0.093708           0.845464  \n",
       "586           0.295718           0.010646           0.693636  \n",
       "587           0.016089           0.960978           0.022934  \n",
       "588           0.045828           0.037276           0.916896  \n",
       "589           0.747968           0.008014           0.244018  \n",
       "\n",
       "[590 rows x 41 columns]>"
      ]
     },
     "execution_count": 793,
     "metadata": {},
     "output_type": "execute_result"
    }
   ],
   "source": [
    "df.head"
   ]
  },
  {
   "cell_type": "code",
   "execution_count": 794,
   "id": "ea7c01e7-e6cf-4d26-b03b-8e9710e997b8",
   "metadata": {},
   "outputs": [],
   "source": [
    "def clean_source(example):\n",
    "    try:\n",
    "        source_dict = ast.literal_eval(example)\n",
    "        return source_dict.get('domain')\n",
    "    except (SyntaxError, ValueError):\n",
    "        return None\n",
    "\n",
    "df['source'] = df['source'].apply(clean_source)\n",
    "\n",
    "#def clean_companies(example):\n",
    "#    try:\n",
    "#        source_dict = ast.literal_eval(example)\n",
    "#        return source_dict.get('domain')\n",
    "#    except (SyntaxError, ValueError):\n",
    "#        return None\n",
    "\n"
   ]
  },
  {
   "cell_type": "code",
   "execution_count": 795,
   "id": "cb4ecb72-2a43-4c54-a8ab-1db2d183addf",
   "metadata": {},
   "outputs": [
    {
     "data": {
      "text/plain": [
       "source\n",
       "ft.com              27\n",
       "fool.com            23\n",
       "nasdaq.com          19\n",
       "etfdailynews.com    12\n",
       "defenseworld.net    11\n",
       "                    ..\n",
       "bostonglobe.com      1\n",
       "thetravel.com        1\n",
       "latintimes.com       1\n",
       "costar.com           1\n",
       "hubliexpress.com     1\n",
       "Name: count, Length: 377, dtype: int64"
      ]
     },
     "execution_count": 795,
     "metadata": {},
     "output_type": "execute_result"
    }
   ],
   "source": [
    "df['source'].value_counts()"
   ]
  },
  {
   "cell_type": "code",
   "execution_count": 796,
   "id": "850d814b-28a8-4543-88d7-564efed8d098",
   "metadata": {},
   "outputs": [],
   "source": [
    "df['n_companies'] = df['companies'].apply(len)"
   ]
  },
  {
   "cell_type": "code",
   "execution_count": 797,
   "id": "f3e4d351-53e6-4731-a20b-51b534e4e184",
   "metadata": {
    "scrolled": true
   },
   "outputs": [
    {
     "data": {
      "text/plain": [
       "n_companies\n",
       "116     411\n",
       "342       8\n",
       "244       6\n",
       "1125      6\n",
       "216       5\n",
       "       ... \n",
       "275       1\n",
       "322       1\n",
       "417       1\n",
       "703       1\n",
       "233       1\n",
       "Name: count, Length: 115, dtype: int64"
      ]
     },
     "execution_count": 797,
     "metadata": {},
     "output_type": "execute_result"
    }
   ],
   "source": [
    "df['n_companies'].value_counts()"
   ]
  },
  {
   "cell_type": "code",
   "execution_count": 798,
   "id": "05d6f97c-ac2c-4b5a-9d0d-e92363038d1f",
   "metadata": {},
   "outputs": [],
   "source": [
    "def count_companies(companies_list_str):\n",
    "    try:\n",
    "        companies_list = ast.literal_eval(companies_list_str)\n",
    "        return len(companies_list)\n",
    "    except (SyntaxError, ValueError):\n",
    "        return 1\n",
    "\n",
    "df['n_companies'] = df['companies'].apply(count_companies)"
   ]
  },
  {
   "cell_type": "code",
   "execution_count": 799,
   "id": "a5f46e73-f203-4149-9d88-131b2127020c",
   "metadata": {},
   "outputs": [
    {
     "data": {
      "text/plain": [
       "n_companies\n",
       "1     411\n",
       "2      74\n",
       "3      37\n",
       "5      21\n",
       "4      19\n",
       "7      10\n",
       "6       4\n",
       "9       3\n",
       "8       3\n",
       "15      1\n",
       "10      1\n",
       "21      1\n",
       "24      1\n",
       "29      1\n",
       "35      1\n",
       "18      1\n",
       "12      1\n",
       "Name: count, dtype: int64"
      ]
     },
     "execution_count": 799,
     "metadata": {},
     "output_type": "execute_result"
    }
   ],
   "source": [
    "df['n_companies'].value_counts()\n",
    "#there are a few outlier here."
   ]
  },
  {
   "cell_type": "code",
   "execution_count": 800,
   "id": "c8af3984-9e0b-4d82-8c55-9e19f68e4482",
   "metadata": {},
   "outputs": [],
   "source": [
    "#make a title sentiment analyzer using textblob\n",
    "#polarity ranges from -1 to 1, 0 is no polarity\n",
    "from textblob import TextBlob\n",
    "\n",
    "#Create a function to get the polarity\n",
    "def title_polarity(example):\n",
    "    return TextBlob(example).sentiment.polarity\n",
    " #Create new column‘Polarity’\n",
    "df['title_polarity'] = df['title'].apply(title_polarity)\n",
    "\n",
    "#Create a function to get the subjectivity\n",
    "def title_subjectivity(example):\n",
    "    return TextBlob(example).sentiment.subjectivity\n",
    " #Create new column ‘Subjectivity'\n",
    "df['title_subjectivity'] = df['title'].apply(title_subjectivity)"
   ]
  },
  {
   "cell_type": "code",
   "execution_count": 801,
   "id": "8502202a-f5ca-4eaa-b8ce-4ba379f70f19",
   "metadata": {},
   "outputs": [
    {
     "data": {
      "text/plain": [
       "url                       object\n",
       "authorsByline             object\n",
       "articleId                 object\n",
       "clusterId                 object\n",
       "source                    object\n",
       "imageUrl                  object\n",
       "country                   object\n",
       "language                  object\n",
       "pubDate                   object\n",
       "addDate                   object\n",
       "refreshDate               object\n",
       "score                    float64\n",
       "title                     object\n",
       "description               object\n",
       "content                   object\n",
       "medium                    object\n",
       "links                     object\n",
       "labels                    object\n",
       "matchedAuthors            object\n",
       "claim                    float64\n",
       "verdict                  float64\n",
       "keywords                  object\n",
       "topics                    object\n",
       "categories                object\n",
       "entities                  object\n",
       "companies                 object\n",
       "sentiment                 object\n",
       "summary                   object\n",
       "translation              float64\n",
       "locations                 object\n",
       "reprint                     bool\n",
       "reprintGroupId            object\n",
       "places                    object\n",
       "people                    object\n",
       "StockSymbol               object\n",
       "translatedTitle          float64\n",
       "translatedDescription    float64\n",
       "translatedSummary        float64\n",
       "positive_sentiment       float64\n",
       "negative_sentiment       float64\n",
       "neutral_sentiment        float64\n",
       "n_companies                int64\n",
       "title_polarity           float64\n",
       "title_subjectivity       float64\n",
       "dtype: object"
      ]
     },
     "execution_count": 801,
     "metadata": {},
     "output_type": "execute_result"
    }
   ],
   "source": [
    "df.dtypes"
   ]
  },
  {
   "cell_type": "code",
   "execution_count": 802,
   "id": "1c4858a4-f2e6-4864-9abe-f37eeb9de75d",
   "metadata": {},
   "outputs": [
    {
     "data": {
      "text/plain": [
       "authorsByline\n",
       "The Motley Fool                                   16\n",
       "admin                                             12\n",
       "MarketBeat News                                   12\n",
       "Defense World Staff                               11\n",
       "AM Reporter Staff                                  9\n",
       "                                                  ..\n",
       "Sam Kemmis, NerdWallet, and Nexstar Media Wire     1\n",
       ", Nexstar Media Wire, NerdWallet, Sam Kemmis       1\n",
       "NerdWallet, Kimberly Palmer                        1\n",
       "Brett Fieldcamp                                    1\n",
       "kishan                                             1\n",
       "Name: count, Length: 335, dtype: int64"
      ]
     },
     "execution_count": 802,
     "metadata": {},
     "output_type": "execute_result"
    }
   ],
   "source": [
    "#Not worth keeping the author variable\n",
    "df['authorsByline'].value_counts()"
   ]
  },
  {
   "cell_type": "code",
   "execution_count": 803,
   "id": "589c9040-5473-4452-8906-a4b93dbd8794",
   "metadata": {},
   "outputs": [
    {
     "data": {
      "text/plain": [
       "score\n",
       "2.0    590\n",
       "Name: count, dtype: int64"
      ]
     },
     "execution_count": 803,
     "metadata": {},
     "output_type": "execute_result"
    }
   ],
   "source": [
    "#unchanging attribute\n",
    "df['score'].value_counts()"
   ]
  },
  {
   "cell_type": "code",
   "execution_count": 804,
   "id": "d04afaa4-0874-459e-8b33-7c6501f28317",
   "metadata": {},
   "outputs": [
    {
     "data": {
      "text/plain": [
       "dtype('O')"
      ]
     },
     "execution_count": 804,
     "metadata": {},
     "output_type": "execute_result"
    }
   ],
   "source": [
    "df['pubDate'].dtype"
   ]
  },
  {
   "cell_type": "code",
   "execution_count": 805,
   "id": "e715f54b-6b3c-430d-bdd5-20725038f6ee",
   "metadata": {},
   "outputs": [
    {
     "data": {
      "text/plain": [
       "pubDate\n",
       "2022-11-16T17:59:55+00:00           7\n",
       "2023-04-11T13:45:00+00:00           4\n",
       "2023-06-15T10:04:13.300000+00:00    4\n",
       "2023-04-16T09:00:00+00:00           3\n",
       "2023-01-06T11:04:00+00:00           3\n",
       "                                   ..\n",
       "2022-12-02T10:51:52+00:00           1\n",
       "2022-12-02T11:10:00+00:00           1\n",
       "2022-12-02T11:33:01+00:00           1\n",
       "2022-11-28T05:41:59+00:00           1\n",
       "2023-06-20T09:22:02+00:00           1\n",
       "Name: count, Length: 532, dtype: int64"
      ]
     },
     "execution_count": 805,
     "metadata": {},
     "output_type": "execute_result"
    }
   ],
   "source": [
    "df['pubDate'].value_counts()"
   ]
  },
  {
   "cell_type": "code",
   "execution_count": 806,
   "id": "40d33b7c-e162-41ac-86e2-2520d015e4a6",
   "metadata": {},
   "outputs": [],
   "source": [
    "#cleaning the date formats\n",
    "df['pubDateart'] = df['pubDate'].apply(lambda x: x.split('T')[0])\n",
    "df['addDateart'] = df['addDate'].apply(lambda x: x.split('T')[0])"
   ]
  },
  {
   "cell_type": "code",
   "execution_count": 807,
   "id": "4c0269b7-4248-49b2-8394-6d2791fc629a",
   "metadata": {},
   "outputs": [],
   "source": [
    "#cleaning the date formats\n",
    "df['pubTime'] = df['pubDate'].apply(lambda x: x.split('T')[1].split('+')[0])\n",
    "df['addTime'] = df['addDate'].apply(lambda x: x.split('T')[1].split('+')[0])"
   ]
  },
  {
   "cell_type": "code",
   "execution_count": 808,
   "id": "5135b5aa-5f6c-4785-9336-e8c751199821",
   "metadata": {},
   "outputs": [],
   "source": [
    "from datetime import datetime\n",
    "\n",
    "\n",
    "#a function that changes all dates in to datetime format\n",
    "def clean_pubDate(example):\n",
    "    return pd.to_datetime(example)\n",
    "    \n",
    "df['pubDateart'] = df['pubDateart'].apply(clean_pubDate)"
   ]
  },
  {
   "cell_type": "code",
   "execution_count": 809,
   "id": "c016846d-6ec8-41e9-b4fd-db7fd6a67755",
   "metadata": {},
   "outputs": [
    {
     "data": {
      "text/plain": [
       "pubTime\n",
       "17:59:55    7\n",
       "09:00:00    6\n",
       "10:00:00    5\n",
       "12:00:00    4\n",
       "13:45:00    4\n",
       "           ..\n",
       "11:10:00    1\n",
       "11:33:01    1\n",
       "05:41:59    1\n",
       "21:20:51    1\n",
       "09:22:02    1\n",
       "Name: count, Length: 506, dtype: int64"
      ]
     },
     "execution_count": 809,
     "metadata": {},
     "output_type": "execute_result"
    }
   ],
   "source": [
    "df['pubTime'].value_counts()"
   ]
  },
  {
   "cell_type": "code",
   "execution_count": 810,
   "id": "50aeb350-e2ef-471a-bf78-8708137174a3",
   "metadata": {},
   "outputs": [],
   "source": [
    "from dateutil import parser\n",
    "\n",
    "def clean_pubTime(example):\n",
    "    try:\n",
    "        parsed_time = parser.parse(example)\n",
    "        return parsed_time.time()\n",
    "    except ValueError:\n",
    "        return None\n",
    "\n",
    "df['pubTime'] = df['pubTime'].apply(clean_pubTime)"
   ]
  },
  {
   "cell_type": "code",
   "execution_count": 811,
   "id": "a01be344-af20-419e-bbb2-97486eed9da7",
   "metadata": {},
   "outputs": [
    {
     "data": {
      "text/plain": [
       "pubTime\n",
       "17:59:55           7\n",
       "09:00:00           6\n",
       "10:00:00           5\n",
       "11:00:00           4\n",
       "10:04:13.300000    4\n",
       "                  ..\n",
       "11:33:01           1\n",
       "05:41:59           1\n",
       "21:20:51           1\n",
       "08:08:02           1\n",
       "09:22:02           1\n",
       "Name: count, Length: 505, dtype: int64"
      ]
     },
     "execution_count": 811,
     "metadata": {},
     "output_type": "execute_result"
    }
   ],
   "source": [
    "df['pubTime'].value_counts()"
   ]
  },
  {
   "cell_type": "code",
   "execution_count": null,
   "id": "be027b5d-b9a3-40aa-80ff-f63755d5a2b3",
   "metadata": {},
   "outputs": [],
   "source": []
  },
  {
   "cell_type": "code",
   "execution_count": 812,
   "id": "d8785c62-15ad-4537-98cb-d7be3b5d1351",
   "metadata": {},
   "outputs": [],
   "source": [
    "##changing the dates when an article is late in the day\n",
    "from datetime import timedelta\n",
    "\n",
    "def adjust_date_time(example):\n",
    "    # Parse date and time strings\n",
    "    # Check if time is past 17:00\n",
    "    if df.pubTime() > df.pubTime(\"17:00:00\", \"%H:%M:%S\").time():\n",
    "        # Increment date by one day\n",
    "        adjusted_date = df.pubDateart + timedelta(days=1)\n",
    "        adjusted_date_str = adjusted_date.strftime(\"%Y-%m-%d\")\n",
    "        return adjusted_date_str\n",
    "    else:\n",
    "        return example\n",
    "\n",
    "    df['pubDateart'] = df[['pubDateart','pubTime']].apply(adjust_date_time)\n",
    "#where are we running this?"
   ]
  },
  {
   "cell_type": "code",
   "execution_count": 813,
   "id": "a17e2028-c827-4673-a08b-77a6aa90af46",
   "metadata": {},
   "outputs": [],
   "source": [
    "#adjust dates to the following Monday when 'pubDate' falls on a Saturday or Sunday.\n",
    "# Adjust dates to the following Monday for Saturday and Sunday dates\n",
    "def adjust_pubDate(example):\n",
    "    if example.weekday() in [5, 6]:  # Saturday or Sunday\n",
    "        return example + pd.offsets.BDay()  # Adjust to the following Monday\n",
    "    else:\n",
    "        return example  # No adjustment needed for weekdays\n",
    "\n",
    "# Assuming 'df' is your DataFrame\n",
    "df['pubDateart'] = df['pubDateart'].apply(adjust_pubDate)"
   ]
  },
  {
   "cell_type": "code",
   "execution_count": 814,
   "id": "dc1b0d77-2ced-4ee9-a9cb-d58608e5f5aa",
   "metadata": {},
   "outputs": [
    {
     "data": {
      "text/plain": [
       "pubDateart\n",
       "2023-01-02    13\n",
       "2022-12-19    10\n",
       "2022-12-07    10\n",
       "2023-02-10    10\n",
       "2022-10-24    10\n",
       "              ..\n",
       "2022-08-17     1\n",
       "2022-09-05     1\n",
       "2022-02-15     1\n",
       "2022-12-28     1\n",
       "2022-02-07     1\n",
       "Name: count, Length: 83, dtype: int64"
      ]
     },
     "execution_count": 814,
     "metadata": {},
     "output_type": "execute_result"
    }
   ],
   "source": [
    "df['pubDateart'].value_counts()"
   ]
  },
  {
   "cell_type": "code",
   "execution_count": 815,
   "id": "ce4a0491-fc37-4c1d-b037-dfb944039b08",
   "metadata": {},
   "outputs": [],
   "source": [
    "df.rename(columns={'pubDateart': 'articleDate'}, inplace=True)"
   ]
  },
  {
   "cell_type": "code",
   "execution_count": 816,
   "id": "51defe9d-4b82-4411-a7f3-dca7e5455668",
   "metadata": {
    "scrolled": true
   },
   "outputs": [
    {
     "data": {
      "text/plain": [
       "country\n",
       "us    419\n",
       "gb     84\n",
       "in     25\n",
       "ca     22\n",
       "au      6\n",
       "ie      4\n",
       "pk      4\n",
       "za      4\n",
       "ph      4\n",
       "ng      3\n",
       "gr      2\n",
       "fr      2\n",
       "de      2\n",
       "sg      1\n",
       "my      1\n",
       "cy      1\n",
       "am      1\n",
       "ke      1\n",
       "ru      1\n",
       "Name: count, dtype: int64"
      ]
     },
     "execution_count": 816,
     "metadata": {},
     "output_type": "execute_result"
    }
   ],
   "source": [
    "df['country'].value_counts()"
   ]
  },
  {
   "cell_type": "code",
   "execution_count": 817,
   "id": "6358ac0c-9e2e-4a78-a14a-6fae4a087806",
   "metadata": {},
   "outputs": [
    {
     "data": {
      "text/plain": [
       "url                              object\n",
       "authorsByline                    object\n",
       "articleId                        object\n",
       "clusterId                        object\n",
       "source                           object\n",
       "imageUrl                         object\n",
       "country                          object\n",
       "language                         object\n",
       "pubDate                          object\n",
       "addDate                          object\n",
       "refreshDate                      object\n",
       "score                           float64\n",
       "title                            object\n",
       "description                      object\n",
       "content                          object\n",
       "medium                           object\n",
       "links                            object\n",
       "labels                           object\n",
       "matchedAuthors                   object\n",
       "claim                           float64\n",
       "verdict                         float64\n",
       "keywords                         object\n",
       "topics                           object\n",
       "categories                       object\n",
       "entities                         object\n",
       "companies                        object\n",
       "sentiment                        object\n",
       "summary                          object\n",
       "translation                     float64\n",
       "locations                        object\n",
       "reprint                            bool\n",
       "reprintGroupId                   object\n",
       "places                           object\n",
       "people                           object\n",
       "StockSymbol                      object\n",
       "translatedTitle                 float64\n",
       "translatedDescription           float64\n",
       "translatedSummary               float64\n",
       "positive_sentiment              float64\n",
       "negative_sentiment              float64\n",
       "neutral_sentiment               float64\n",
       "n_companies                       int64\n",
       "title_polarity                  float64\n",
       "title_subjectivity              float64\n",
       "articleDate              datetime64[ns]\n",
       "addDateart                       object\n",
       "pubTime                          object\n",
       "addTime                          object\n",
       "dtype: object"
      ]
     },
     "execution_count": 817,
     "metadata": {},
     "output_type": "execute_result"
    }
   ],
   "source": [
    "df.dtypes"
   ]
  },
  {
   "cell_type": "code",
   "execution_count": 818,
   "id": "a3e139cb-6214-412f-b35d-d1956adb442e",
   "metadata": {},
   "outputs": [],
   "source": [
    "#now that the cleaning is done, we can merge both of the datasets\n",
    "df_cleaned = df[['articleDate','n_companies','StockSymbol','source','companies', 'country',\n",
    "                               'entities','positive_sentiment', 'negative_sentiment', 'neutral_sentiment', 'title_polarity', 'title_subjectivity']]"
   ]
  },
  {
   "cell_type": "code",
   "execution_count": 819,
   "id": "f2de3a0c-8f08-4cd1-986e-77d7d5d35dc8",
   "metadata": {},
   "outputs": [],
   "source": [
    "#daily daily data into weekly data\n",
    "#AAPL\n",
    "yahoo = pd.read_csv(\"Finance_Data_Daily_Limited.csv\")\n",
    "#first, we want to take the limited data and create a subset with only apple tickers (or the given company)\n",
    "yahoo_apple = yahoo[yahoo['ticker'] == 'ABNB']\n",
    "\n"
   ]
  },
  {
   "cell_type": "code",
   "execution_count": 820,
   "id": "972869e1-edac-48c1-bd46-cb3814ef41a2",
   "metadata": {},
   "outputs": [
    {
     "data": {
      "text/plain": [
       "Series([], Name: Date, dtype: datetime64[ns])"
      ]
     },
     "execution_count": 820,
     "metadata": {},
     "output_type": "execute_result"
    }
   ],
   "source": [
    "pd.to_datetime(yahoo_apple['Date'])"
   ]
  },
  {
   "cell_type": "code",
   "execution_count": 821,
   "id": "3b411bb3-88ed-4769-af61-f43b13a098db",
   "metadata": {},
   "outputs": [
    {
     "ename": "TypeError",
     "evalue": "Only valid with DatetimeIndex, TimedeltaIndex or PeriodIndex, but got an instance of 'Index'",
     "output_type": "error",
     "traceback": [
      "\u001b[1;31m---------------------------------------------------------------------------\u001b[0m",
      "\u001b[1;31mTypeError\u001b[0m                                 Traceback (most recent call last)",
      "Cell \u001b[1;32mIn[821], line 2\u001b[0m\n\u001b[0;32m      1\u001b[0m \u001b[38;5;66;03m#now, we want a function that condenses the rows into weekly rows of data\u001b[39;00m\n\u001b[1;32m----> 2\u001b[0m weekly_yahoo_apple \u001b[38;5;241m=\u001b[39m yahoo_apple\u001b[38;5;241m.\u001b[39mgroupby(pd\u001b[38;5;241m.\u001b[39mGrouper(key\u001b[38;5;241m=\u001b[39m\u001b[38;5;124m'\u001b[39m\u001b[38;5;124mDate\u001b[39m\u001b[38;5;124m'\u001b[39m, freq\u001b[38;5;241m=\u001b[39m\u001b[38;5;124m'\u001b[39m\u001b[38;5;124mW-MON\u001b[39m\u001b[38;5;124m'\u001b[39m,closed\u001b[38;5;241m=\u001b[39m\u001b[38;5;124m'\u001b[39m\u001b[38;5;124mleft\u001b[39m\u001b[38;5;124m'\u001b[39m))\u001b[38;5;241m.\u001b[39magg(\n\u001b[0;32m      3\u001b[0m     start_date\u001b[38;5;241m=\u001b[39m (\u001b[38;5;124m'\u001b[39m\u001b[38;5;124mDate\u001b[39m\u001b[38;5;124m'\u001b[39m, \u001b[38;5;124m'\u001b[39m\u001b[38;5;124mmin\u001b[39m\u001b[38;5;124m'\u001b[39m),\n\u001b[0;32m      4\u001b[0m     end_date\u001b[38;5;241m=\u001b[39m (\u001b[38;5;124m'\u001b[39m\u001b[38;5;124mDate\u001b[39m\u001b[38;5;124m'\u001b[39m, \u001b[38;5;124m'\u001b[39m\u001b[38;5;124mmax\u001b[39m\u001b[38;5;124m'\u001b[39m),\n\u001b[0;32m      5\u001b[0m     \u001b[38;5;28mopen\u001b[39m\u001b[38;5;241m=\u001b[39m (\u001b[38;5;124m'\u001b[39m\u001b[38;5;124mopen\u001b[39m\u001b[38;5;124m'\u001b[39m, \u001b[38;5;124m'\u001b[39m\u001b[38;5;124mfirst\u001b[39m\u001b[38;5;124m'\u001b[39m),\n\u001b[0;32m      6\u001b[0m     high\u001b[38;5;241m=\u001b[39m (\u001b[38;5;124m'\u001b[39m\u001b[38;5;124mhigh\u001b[39m\u001b[38;5;124m'\u001b[39m, \u001b[38;5;124m'\u001b[39m\u001b[38;5;124mmax\u001b[39m\u001b[38;5;124m'\u001b[39m),\n\u001b[0;32m      7\u001b[0m     low\u001b[38;5;241m=\u001b[39m (\u001b[38;5;124m'\u001b[39m\u001b[38;5;124mlow\u001b[39m\u001b[38;5;124m'\u001b[39m, \u001b[38;5;124m'\u001b[39m\u001b[38;5;124mmin\u001b[39m\u001b[38;5;124m'\u001b[39m),\n\u001b[0;32m      8\u001b[0m     close\u001b[38;5;241m=\u001b[39m (\u001b[38;5;124m'\u001b[39m\u001b[38;5;124mclose\u001b[39m\u001b[38;5;124m'\u001b[39m, \u001b[38;5;124m'\u001b[39m\u001b[38;5;124mlast\u001b[39m\u001b[38;5;124m'\u001b[39m),\n\u001b[0;32m      9\u001b[0m     volume_start \u001b[38;5;241m=\u001b[39m(\u001b[38;5;124m'\u001b[39m\u001b[38;5;124mvolume\u001b[39m\u001b[38;5;124m'\u001b[39m, \u001b[38;5;124m'\u001b[39m\u001b[38;5;124mfirst\u001b[39m\u001b[38;5;124m'\u001b[39m),\n\u001b[0;32m     10\u001b[0m     volume_end\u001b[38;5;241m=\u001b[39m (\u001b[38;5;124m'\u001b[39m\u001b[38;5;124mvolume\u001b[39m\u001b[38;5;124m'\u001b[39m, \u001b[38;5;124m'\u001b[39m\u001b[38;5;124mlast\u001b[39m\u001b[38;5;124m'\u001b[39m),\n\u001b[0;32m     11\u001b[0m     volume_mean\u001b[38;5;241m=\u001b[39m (\u001b[38;5;124m'\u001b[39m\u001b[38;5;124mvolume\u001b[39m\u001b[38;5;124m'\u001b[39m, \u001b[38;5;124m'\u001b[39m\u001b[38;5;124mmean\u001b[39m\u001b[38;5;124m'\u001b[39m)\n\u001b[0;32m     12\u001b[0m )\u001b[38;5;241m.\u001b[39mreset_index()\n",
      "File \u001b[1;32m~\\anaconda3\\Lib\\site-packages\\pandas\\core\\frame.py:8869\u001b[0m, in \u001b[0;36mDataFrame.groupby\u001b[1;34m(self, by, axis, level, as_index, sort, group_keys, observed, dropna)\u001b[0m\n\u001b[0;32m   8866\u001b[0m \u001b[38;5;28;01mif\u001b[39;00m level \u001b[38;5;129;01mis\u001b[39;00m \u001b[38;5;28;01mNone\u001b[39;00m \u001b[38;5;129;01mand\u001b[39;00m by \u001b[38;5;129;01mis\u001b[39;00m \u001b[38;5;28;01mNone\u001b[39;00m:\n\u001b[0;32m   8867\u001b[0m     \u001b[38;5;28;01mraise\u001b[39;00m \u001b[38;5;167;01mTypeError\u001b[39;00m(\u001b[38;5;124m\"\u001b[39m\u001b[38;5;124mYou have to supply one of \u001b[39m\u001b[38;5;124m'\u001b[39m\u001b[38;5;124mby\u001b[39m\u001b[38;5;124m'\u001b[39m\u001b[38;5;124m and \u001b[39m\u001b[38;5;124m'\u001b[39m\u001b[38;5;124mlevel\u001b[39m\u001b[38;5;124m'\u001b[39m\u001b[38;5;124m\"\u001b[39m)\n\u001b[1;32m-> 8869\u001b[0m \u001b[38;5;28;01mreturn\u001b[39;00m DataFrameGroupBy(\n\u001b[0;32m   8870\u001b[0m     obj\u001b[38;5;241m=\u001b[39m\u001b[38;5;28mself\u001b[39m,\n\u001b[0;32m   8871\u001b[0m     keys\u001b[38;5;241m=\u001b[39mby,\n\u001b[0;32m   8872\u001b[0m     axis\u001b[38;5;241m=\u001b[39maxis,\n\u001b[0;32m   8873\u001b[0m     level\u001b[38;5;241m=\u001b[39mlevel,\n\u001b[0;32m   8874\u001b[0m     as_index\u001b[38;5;241m=\u001b[39mas_index,\n\u001b[0;32m   8875\u001b[0m     sort\u001b[38;5;241m=\u001b[39msort,\n\u001b[0;32m   8876\u001b[0m     group_keys\u001b[38;5;241m=\u001b[39mgroup_keys,\n\u001b[0;32m   8877\u001b[0m     observed\u001b[38;5;241m=\u001b[39mobserved,\n\u001b[0;32m   8878\u001b[0m     dropna\u001b[38;5;241m=\u001b[39mdropna,\n\u001b[0;32m   8879\u001b[0m )\n",
      "File \u001b[1;32m~\\anaconda3\\Lib\\site-packages\\pandas\\core\\groupby\\groupby.py:1278\u001b[0m, in \u001b[0;36mGroupBy.__init__\u001b[1;34m(self, obj, keys, axis, level, grouper, exclusions, selection, as_index, sort, group_keys, observed, dropna)\u001b[0m\n\u001b[0;32m   1275\u001b[0m \u001b[38;5;28mself\u001b[39m\u001b[38;5;241m.\u001b[39mdropna \u001b[38;5;241m=\u001b[39m dropna\n\u001b[0;32m   1277\u001b[0m \u001b[38;5;28;01mif\u001b[39;00m grouper \u001b[38;5;129;01mis\u001b[39;00m \u001b[38;5;28;01mNone\u001b[39;00m:\n\u001b[1;32m-> 1278\u001b[0m     grouper, exclusions, obj \u001b[38;5;241m=\u001b[39m get_grouper(\n\u001b[0;32m   1279\u001b[0m         obj,\n\u001b[0;32m   1280\u001b[0m         keys,\n\u001b[0;32m   1281\u001b[0m         axis\u001b[38;5;241m=\u001b[39maxis,\n\u001b[0;32m   1282\u001b[0m         level\u001b[38;5;241m=\u001b[39mlevel,\n\u001b[0;32m   1283\u001b[0m         sort\u001b[38;5;241m=\u001b[39msort,\n\u001b[0;32m   1284\u001b[0m         observed\u001b[38;5;241m=\u001b[39m\u001b[38;5;28;01mFalse\u001b[39;00m \u001b[38;5;28;01mif\u001b[39;00m observed \u001b[38;5;129;01mis\u001b[39;00m lib\u001b[38;5;241m.\u001b[39mno_default \u001b[38;5;28;01melse\u001b[39;00m observed,\n\u001b[0;32m   1285\u001b[0m         dropna\u001b[38;5;241m=\u001b[39m\u001b[38;5;28mself\u001b[39m\u001b[38;5;241m.\u001b[39mdropna,\n\u001b[0;32m   1286\u001b[0m     )\n\u001b[0;32m   1288\u001b[0m \u001b[38;5;28;01mif\u001b[39;00m observed \u001b[38;5;129;01mis\u001b[39;00m lib\u001b[38;5;241m.\u001b[39mno_default:\n\u001b[0;32m   1289\u001b[0m     \u001b[38;5;28;01mif\u001b[39;00m \u001b[38;5;28many\u001b[39m(ping\u001b[38;5;241m.\u001b[39m_passed_categorical \u001b[38;5;28;01mfor\u001b[39;00m ping \u001b[38;5;129;01min\u001b[39;00m grouper\u001b[38;5;241m.\u001b[39mgroupings):\n",
      "File \u001b[1;32m~\\anaconda3\\Lib\\site-packages\\pandas\\core\\groupby\\grouper.py:895\u001b[0m, in \u001b[0;36mget_grouper\u001b[1;34m(obj, key, axis, level, sort, observed, validate, dropna)\u001b[0m\n\u001b[0;32m    893\u001b[0m \u001b[38;5;66;03m# a passed-in Grouper, directly convert\u001b[39;00m\n\u001b[0;32m    894\u001b[0m \u001b[38;5;28;01mif\u001b[39;00m \u001b[38;5;28misinstance\u001b[39m(key, Grouper):\n\u001b[1;32m--> 895\u001b[0m     grouper, obj \u001b[38;5;241m=\u001b[39m key\u001b[38;5;241m.\u001b[39m_get_grouper(obj, validate\u001b[38;5;241m=\u001b[39m\u001b[38;5;28;01mFalse\u001b[39;00m)\n\u001b[0;32m    896\u001b[0m     \u001b[38;5;28;01mif\u001b[39;00m key\u001b[38;5;241m.\u001b[39mkey \u001b[38;5;129;01mis\u001b[39;00m \u001b[38;5;28;01mNone\u001b[39;00m:\n\u001b[0;32m    897\u001b[0m         \u001b[38;5;28;01mreturn\u001b[39;00m grouper, \u001b[38;5;28mfrozenset\u001b[39m(), obj\n",
      "File \u001b[1;32m~\\anaconda3\\Lib\\site-packages\\pandas\\core\\resample.py:2170\u001b[0m, in \u001b[0;36mTimeGrouper._get_grouper\u001b[1;34m(self, obj, validate)\u001b[0m\n\u001b[0;32m   2166\u001b[0m \u001b[38;5;28;01mdef\u001b[39;00m \u001b[38;5;21m_get_grouper\u001b[39m(\n\u001b[0;32m   2167\u001b[0m     \u001b[38;5;28mself\u001b[39m, obj: NDFrameT, validate: \u001b[38;5;28mbool\u001b[39m \u001b[38;5;241m=\u001b[39m \u001b[38;5;28;01mTrue\u001b[39;00m\n\u001b[0;32m   2168\u001b[0m ) \u001b[38;5;241m-\u001b[39m\u001b[38;5;241m>\u001b[39m \u001b[38;5;28mtuple\u001b[39m[BinGrouper, NDFrameT]:\n\u001b[0;32m   2169\u001b[0m     \u001b[38;5;66;03m# create the resampler and return our binner\u001b[39;00m\n\u001b[1;32m-> 2170\u001b[0m     r \u001b[38;5;241m=\u001b[39m \u001b[38;5;28mself\u001b[39m\u001b[38;5;241m.\u001b[39m_get_resampler(obj)\n\u001b[0;32m   2171\u001b[0m     \u001b[38;5;28;01mreturn\u001b[39;00m r\u001b[38;5;241m.\u001b[39mgrouper, cast(NDFrameT, r\u001b[38;5;241m.\u001b[39mobj)\n",
      "File \u001b[1;32m~\\anaconda3\\Lib\\site-packages\\pandas\\core\\resample.py:2160\u001b[0m, in \u001b[0;36mTimeGrouper._get_resampler\u001b[1;34m(self, obj, kind)\u001b[0m\n\u001b[0;32m   2151\u001b[0m \u001b[38;5;28;01melif\u001b[39;00m \u001b[38;5;28misinstance\u001b[39m(ax, TimedeltaIndex):\n\u001b[0;32m   2152\u001b[0m     \u001b[38;5;28;01mreturn\u001b[39;00m TimedeltaIndexResampler(\n\u001b[0;32m   2153\u001b[0m         obj,\n\u001b[0;32m   2154\u001b[0m         timegrouper\u001b[38;5;241m=\u001b[39m\u001b[38;5;28mself\u001b[39m,\n\u001b[1;32m   (...)\u001b[0m\n\u001b[0;32m   2157\u001b[0m         gpr_index\u001b[38;5;241m=\u001b[39max,\n\u001b[0;32m   2158\u001b[0m     )\n\u001b[1;32m-> 2160\u001b[0m \u001b[38;5;28;01mraise\u001b[39;00m \u001b[38;5;167;01mTypeError\u001b[39;00m(\n\u001b[0;32m   2161\u001b[0m     \u001b[38;5;124m\"\u001b[39m\u001b[38;5;124mOnly valid with DatetimeIndex, \u001b[39m\u001b[38;5;124m\"\u001b[39m\n\u001b[0;32m   2162\u001b[0m     \u001b[38;5;124m\"\u001b[39m\u001b[38;5;124mTimedeltaIndex or PeriodIndex, \u001b[39m\u001b[38;5;124m\"\u001b[39m\n\u001b[0;32m   2163\u001b[0m     \u001b[38;5;124mf\u001b[39m\u001b[38;5;124m\"\u001b[39m\u001b[38;5;124mbut got an instance of \u001b[39m\u001b[38;5;124m'\u001b[39m\u001b[38;5;132;01m{\u001b[39;00m\u001b[38;5;28mtype\u001b[39m(ax)\u001b[38;5;241m.\u001b[39m\u001b[38;5;18m__name__\u001b[39m\u001b[38;5;132;01m}\u001b[39;00m\u001b[38;5;124m'\u001b[39m\u001b[38;5;124m\"\u001b[39m\n\u001b[0;32m   2164\u001b[0m )\n",
      "\u001b[1;31mTypeError\u001b[0m: Only valid with DatetimeIndex, TimedeltaIndex or PeriodIndex, but got an instance of 'Index'"
     ]
    }
   ],
   "source": [
    "#now, we want a function that condenses the rows into weekly rows of data\n",
    "weekly_yahoo_apple = yahoo_apple.groupby(pd.Grouper(key='Date', freq='W-MON',closed='left')).agg(\n",
    "    start_date= ('Date', 'min'),\n",
    "    end_date= ('Date', 'max'),\n",
    "    open= ('open', 'first'),\n",
    "    high= ('high', 'max'),\n",
    "    low= ('low', 'min'),\n",
    "    close= ('close', 'last'),\n",
    "    volume_start =('volume', 'first'),\n",
    "    volume_end= ('volume', 'last'),\n",
    "    volume_mean= ('volume', 'mean')\n",
    ").reset_index()"
   ]
  },
  {
   "cell_type": "code",
   "execution_count": 822,
   "id": "455c268f-9f87-45c4-803b-e844e9683e4f",
   "metadata": {},
   "outputs": [
    {
     "data": {
      "text/plain": [
       "(104, 10)"
      ]
     },
     "execution_count": 822,
     "metadata": {},
     "output_type": "execute_result"
    }
   ],
   "source": [
    "weekly_yahoo_apple.shape"
   ]
  },
  {
   "cell_type": "code",
   "execution_count": 823,
   "id": "2ad741d7-a9ef-489e-96c1-44629c0e5f91",
   "metadata": {},
   "outputs": [
    {
     "data": {
      "text/html": [
       "<div>\n",
       "<style scoped>\n",
       "    .dataframe tbody tr th:only-of-type {\n",
       "        vertical-align: middle;\n",
       "    }\n",
       "\n",
       "    .dataframe tbody tr th {\n",
       "        vertical-align: top;\n",
       "    }\n",
       "\n",
       "    .dataframe thead th {\n",
       "        text-align: right;\n",
       "    }\n",
       "</style>\n",
       "<table border=\"1\" class=\"dataframe\">\n",
       "  <thead>\n",
       "    <tr style=\"text-align: right;\">\n",
       "      <th></th>\n",
       "      <th>Date</th>\n",
       "      <th>start_date</th>\n",
       "      <th>end_date</th>\n",
       "      <th>open</th>\n",
       "      <th>high</th>\n",
       "      <th>low</th>\n",
       "      <th>close</th>\n",
       "      <th>volume_start</th>\n",
       "      <th>volume_end</th>\n",
       "      <th>volume_mean</th>\n",
       "    </tr>\n",
       "  </thead>\n",
       "  <tbody>\n",
       "    <tr>\n",
       "      <th>0</th>\n",
       "      <td>2022-01-10</td>\n",
       "      <td>2022-01-03</td>\n",
       "      <td>2022-01-07</td>\n",
       "      <td>177.830002</td>\n",
       "      <td>182.940002</td>\n",
       "      <td>171.029999</td>\n",
       "      <td>172.169998</td>\n",
       "      <td>104487900</td>\n",
       "      <td>86709100</td>\n",
       "      <td>96389800.0</td>\n",
       "    </tr>\n",
       "    <tr>\n",
       "      <th>1</th>\n",
       "      <td>2022-01-17</td>\n",
       "      <td>2022-01-10</td>\n",
       "      <td>2022-01-14</td>\n",
       "      <td>169.080002</td>\n",
       "      <td>177.179993</td>\n",
       "      <td>168.169998</td>\n",
       "      <td>173.070007</td>\n",
       "      <td>106765600</td>\n",
       "      <td>80440800</td>\n",
       "      <td>84531140.0</td>\n",
       "    </tr>\n",
       "    <tr>\n",
       "      <th>2</th>\n",
       "      <td>2022-01-24</td>\n",
       "      <td>2022-01-18</td>\n",
       "      <td>2022-01-21</td>\n",
       "      <td>171.509995</td>\n",
       "      <td>172.539993</td>\n",
       "      <td>162.300003</td>\n",
       "      <td>162.410004</td>\n",
       "      <td>90956700</td>\n",
       "      <td>122848900</td>\n",
       "      <td>100010275.0</td>\n",
       "    </tr>\n",
       "    <tr>\n",
       "      <th>3</th>\n",
       "      <td>2022-01-31</td>\n",
       "      <td>2022-01-24</td>\n",
       "      <td>2022-01-28</td>\n",
       "      <td>160.020004</td>\n",
       "      <td>170.350006</td>\n",
       "      <td>154.699997</td>\n",
       "      <td>170.330002</td>\n",
       "      <td>162294600</td>\n",
       "      <td>179935700</td>\n",
       "      <td>137651720.0</td>\n",
       "    </tr>\n",
       "    <tr>\n",
       "      <th>4</th>\n",
       "      <td>2022-02-07</td>\n",
       "      <td>2022-01-31</td>\n",
       "      <td>2022-02-04</td>\n",
       "      <td>170.160004</td>\n",
       "      <td>176.240005</td>\n",
       "      <td>169.509995</td>\n",
       "      <td>172.389999</td>\n",
       "      <td>115541600</td>\n",
       "      <td>82465400</td>\n",
       "      <td>91710660.0</td>\n",
       "    </tr>\n",
       "  </tbody>\n",
       "</table>\n",
       "</div>"
      ],
      "text/plain": [
       "        Date start_date   end_date        open        high         low  \\\n",
       "0 2022-01-10 2022-01-03 2022-01-07  177.830002  182.940002  171.029999   \n",
       "1 2022-01-17 2022-01-10 2022-01-14  169.080002  177.179993  168.169998   \n",
       "2 2022-01-24 2022-01-18 2022-01-21  171.509995  172.539993  162.300003   \n",
       "3 2022-01-31 2022-01-24 2022-01-28  160.020004  170.350006  154.699997   \n",
       "4 2022-02-07 2022-01-31 2022-02-04  170.160004  176.240005  169.509995   \n",
       "\n",
       "        close  volume_start  volume_end  volume_mean  \n",
       "0  172.169998     104487900    86709100   96389800.0  \n",
       "1  173.070007     106765600    80440800   84531140.0  \n",
       "2  162.410004      90956700   122848900  100010275.0  \n",
       "3  170.330002     162294600   179935700  137651720.0  \n",
       "4  172.389999     115541600    82465400   91710660.0  "
      ]
     },
     "execution_count": 823,
     "metadata": {},
     "output_type": "execute_result"
    }
   ],
   "source": [
    "weekly_yahoo_apple.head(5)"
   ]
  },
  {
   "cell_type": "code",
   "execution_count": 824,
   "id": "0a31c281-b258-405b-999a-65394420b1b1",
   "metadata": {},
   "outputs": [
    {
     "data": {
      "text/plain": [
       "Date            0\n",
       "start_date      0\n",
       "end_date        0\n",
       "open            0\n",
       "high            0\n",
       "low             0\n",
       "close           0\n",
       "volume_start    0\n",
       "volume_end      0\n",
       "volume_mean     0\n",
       "dtype: int64"
      ]
     },
     "execution_count": 824,
     "metadata": {},
     "output_type": "execute_result"
    }
   ],
   "source": [
    "weekly_yahoo_apple.isna().sum()"
   ]
  },
  {
   "cell_type": "code",
   "execution_count": null,
   "id": "2de731de-d9f5-416e-8e4b-a5a5fd3a37f2",
   "metadata": {},
   "outputs": [],
   "source": []
  },
  {
   "cell_type": "code",
   "execution_count": 825,
   "id": "6b8612f3-d511-45ef-8078-fe2199ef28d8",
   "metadata": {},
   "outputs": [
    {
     "name": "stderr",
     "output_type": "stream",
     "text": [
      "C:\\Users\\pchri\\AppData\\Local\\Temp\\ipykernel_9340\\1280500596.py:7: SettingWithCopyWarning: \n",
      "A value is trying to be set on a copy of a slice from a DataFrame.\n",
      "Try using .loc[row_indexer,col_indexer] = value instead\n",
      "\n",
      "See the caveats in the documentation: https://pandas.pydata.org/pandas-docs/stable/user_guide/indexing.html#returning-a-view-versus-a-copy\n",
      "  df_cleaned.at[k, 'open'] = weekly_yahoo_apple.at[i, 'open']\n",
      "C:\\Users\\pchri\\AppData\\Local\\Temp\\ipykernel_9340\\1280500596.py:8: SettingWithCopyWarning: \n",
      "A value is trying to be set on a copy of a slice from a DataFrame.\n",
      "Try using .loc[row_indexer,col_indexer] = value instead\n",
      "\n",
      "See the caveats in the documentation: https://pandas.pydata.org/pandas-docs/stable/user_guide/indexing.html#returning-a-view-versus-a-copy\n",
      "  df_cleaned.at[k, 'close'] = weekly_yahoo_apple.at[i, 'close']\n",
      "C:\\Users\\pchri\\AppData\\Local\\Temp\\ipykernel_9340\\1280500596.py:9: SettingWithCopyWarning: \n",
      "A value is trying to be set on a copy of a slice from a DataFrame.\n",
      "Try using .loc[row_indexer,col_indexer] = value instead\n",
      "\n",
      "See the caveats in the documentation: https://pandas.pydata.org/pandas-docs/stable/user_guide/indexing.html#returning-a-view-versus-a-copy\n",
      "  df_cleaned.at[k, 'high'] = weekly_yahoo_apple.at[i, 'high']\n",
      "C:\\Users\\pchri\\AppData\\Local\\Temp\\ipykernel_9340\\1280500596.py:10: SettingWithCopyWarning: \n",
      "A value is trying to be set on a copy of a slice from a DataFrame.\n",
      "Try using .loc[row_indexer,col_indexer] = value instead\n",
      "\n",
      "See the caveats in the documentation: https://pandas.pydata.org/pandas-docs/stable/user_guide/indexing.html#returning-a-view-versus-a-copy\n",
      "  df_cleaned.at[k, 'low'] = weekly_yahoo_apple.at[i, 'low']\n",
      "C:\\Users\\pchri\\AppData\\Local\\Temp\\ipykernel_9340\\1280500596.py:11: SettingWithCopyWarning: \n",
      "A value is trying to be set on a copy of a slice from a DataFrame.\n",
      "Try using .loc[row_indexer,col_indexer] = value instead\n",
      "\n",
      "See the caveats in the documentation: https://pandas.pydata.org/pandas-docs/stable/user_guide/indexing.html#returning-a-view-versus-a-copy\n",
      "  df_cleaned.at[k, 'volume_start'] = weekly_yahoo_apple.at[i, 'volume_start']\n",
      "C:\\Users\\pchri\\AppData\\Local\\Temp\\ipykernel_9340\\1280500596.py:12: SettingWithCopyWarning: \n",
      "A value is trying to be set on a copy of a slice from a DataFrame.\n",
      "Try using .loc[row_indexer,col_indexer] = value instead\n",
      "\n",
      "See the caveats in the documentation: https://pandas.pydata.org/pandas-docs/stable/user_guide/indexing.html#returning-a-view-versus-a-copy\n",
      "  df_cleaned.at[k, 'volume_end'] = weekly_yahoo_apple.at[i, 'volume_end']\n",
      "C:\\Users\\pchri\\AppData\\Local\\Temp\\ipykernel_9340\\1280500596.py:13: SettingWithCopyWarning: \n",
      "A value is trying to be set on a copy of a slice from a DataFrame.\n",
      "Try using .loc[row_indexer,col_indexer] = value instead\n",
      "\n",
      "See the caveats in the documentation: https://pandas.pydata.org/pandas-docs/stable/user_guide/indexing.html#returning-a-view-versus-a-copy\n",
      "  df_cleaned.at[k, 'volume_mean'] = weekly_yahoo_apple.at[i, 'volume_mean']\n"
     ]
    }
   ],
   "source": [
    "#merge both data sets\n",
    "#do this after we convert daily data into weekly data\n",
    "#this merges the two datasets\n",
    "for k, k_row in df_cleaned.iterrows():\n",
    "    for i, i_row in weekly_yahoo_apple.iterrows():\n",
    "        if weekly_yahoo_apple.loc[i, 'start_date'] <= df_cleaned.loc[k, 'articleDate'] <= weekly_yahoo_apple.loc[i, 'end_date']:\n",
    "            df_cleaned.at[k, 'open'] = weekly_yahoo_apple.at[i, 'open']\n",
    "            df_cleaned.at[k, 'close'] = weekly_yahoo_apple.at[i, 'close']\n",
    "            df_cleaned.at[k, 'high'] = weekly_yahoo_apple.at[i, 'high']\n",
    "            df_cleaned.at[k, 'low'] = weekly_yahoo_apple.at[i, 'low']\n",
    "            df_cleaned.at[k, 'volume_start'] = weekly_yahoo_apple.at[i, 'volume_start']\n",
    "            df_cleaned.at[k, 'volume_end'] = weekly_yahoo_apple.at[i, 'volume_end']\n",
    "            df_cleaned.at[k, 'volume_mean'] = weekly_yahoo_apple.at[i, 'volume_mean']\n",
    "            break\n"
   ]
  },
  {
   "cell_type": "code",
   "execution_count": 826,
   "id": "dda5b2f0-f159-4835-b710-d9170ef9ea16",
   "metadata": {},
   "outputs": [
    {
     "data": {
      "text/plain": [
       "articleDate            0\n",
       "n_companies            0\n",
       "StockSymbol            0\n",
       "source                 0\n",
       "companies              0\n",
       "country                3\n",
       "entities               0\n",
       "positive_sentiment     0\n",
       "negative_sentiment     0\n",
       "neutral_sentiment      0\n",
       "title_polarity         0\n",
       "title_subjectivity     0\n",
       "open                  25\n",
       "close                 25\n",
       "high                  25\n",
       "low                   25\n",
       "volume_start          25\n",
       "volume_end            25\n",
       "volume_mean           25\n",
       "dtype: int64"
      ]
     },
     "execution_count": 826,
     "metadata": {},
     "output_type": "execute_result"
    }
   ],
   "source": [
    "df_cleaned.isna().sum()"
   ]
  },
  {
   "cell_type": "code",
   "execution_count": 827,
   "id": "08837546-d8aa-4bb8-a35f-1fe9d7687c69",
   "metadata": {},
   "outputs": [
    {
     "data": {
      "text/plain": [
       "articleDate           datetime64[ns]\n",
       "n_companies                    int64\n",
       "StockSymbol                   object\n",
       "source                        object\n",
       "companies                     object\n",
       "country                       object\n",
       "entities                      object\n",
       "positive_sentiment           float64\n",
       "negative_sentiment           float64\n",
       "neutral_sentiment            float64\n",
       "title_polarity               float64\n",
       "title_subjectivity           float64\n",
       "open                         float64\n",
       "close                        float64\n",
       "high                         float64\n",
       "low                          float64\n",
       "volume_start                 float64\n",
       "volume_end                   float64\n",
       "volume_mean                  float64\n",
       "dtype: object"
      ]
     },
     "execution_count": 827,
     "metadata": {},
     "output_type": "execute_result"
    }
   ],
   "source": [
    "df_cleaned.dtypes"
   ]
  },
  {
   "cell_type": "code",
   "execution_count": 828,
   "id": "57eae61e-dd91-4f56-a3c2-b670110a2891",
   "metadata": {},
   "outputs": [
    {
     "data": {
      "text/html": [
       "<div>\n",
       "<style scoped>\n",
       "    .dataframe tbody tr th:only-of-type {\n",
       "        vertical-align: middle;\n",
       "    }\n",
       "\n",
       "    .dataframe tbody tr th {\n",
       "        vertical-align: top;\n",
       "    }\n",
       "\n",
       "    .dataframe thead th {\n",
       "        text-align: right;\n",
       "    }\n",
       "</style>\n",
       "<table border=\"1\" class=\"dataframe\">\n",
       "  <thead>\n",
       "    <tr style=\"text-align: right;\">\n",
       "      <th></th>\n",
       "      <th>articleDate</th>\n",
       "      <th>n_companies</th>\n",
       "      <th>StockSymbol</th>\n",
       "      <th>source</th>\n",
       "      <th>companies</th>\n",
       "      <th>country</th>\n",
       "      <th>entities</th>\n",
       "      <th>positive_sentiment</th>\n",
       "      <th>negative_sentiment</th>\n",
       "      <th>neutral_sentiment</th>\n",
       "      <th>title_polarity</th>\n",
       "      <th>title_subjectivity</th>\n",
       "      <th>open</th>\n",
       "      <th>close</th>\n",
       "      <th>high</th>\n",
       "      <th>low</th>\n",
       "      <th>volume_start</th>\n",
       "      <th>volume_end</th>\n",
       "      <th>volume_mean</th>\n",
       "    </tr>\n",
       "  </thead>\n",
       "  <tbody>\n",
       "    <tr>\n",
       "      <th>0</th>\n",
       "      <td>2022-02-07</td>\n",
       "      <td>2</td>\n",
       "      <td>ABNB</td>\n",
       "      <td>ft.com</td>\n",
       "      <td>[{'id': '0ac918c3981a4c2f9a93e68f6484f17f', 'n...</td>\n",
       "      <td>gb</td>\n",
       "      <td>[{'data': 'Westminster', 'type': 'GPE', 'menti...</td>\n",
       "      <td>0.011808</td>\n",
       "      <td>0.893342</td>\n",
       "      <td>0.094850</td>\n",
       "      <td>0.000</td>\n",
       "      <td>0.000</td>\n",
       "      <td>172.860001</td>\n",
       "      <td>168.639999</td>\n",
       "      <td>176.649994</td>\n",
       "      <td>168.039993</td>\n",
       "      <td>77251200.0</td>\n",
       "      <td>98670700.0</td>\n",
       "      <td>82580400.0</td>\n",
       "    </tr>\n",
       "    <tr>\n",
       "      <th>1</th>\n",
       "      <td>2022-02-15</td>\n",
       "      <td>1</td>\n",
       "      <td>ABNB</td>\n",
       "      <td>ft.com</td>\n",
       "      <td>[{'id': '90a28a5603a64095a5595b107fbafa14', 'n...</td>\n",
       "      <td>gb</td>\n",
       "      <td>[{'data': 'Airbnb', 'type': 'ORG', 'mentions':...</td>\n",
       "      <td>0.902408</td>\n",
       "      <td>0.056243</td>\n",
       "      <td>0.041349</td>\n",
       "      <td>0.500</td>\n",
       "      <td>0.500</td>\n",
       "      <td>167.369995</td>\n",
       "      <td>167.300003</td>\n",
       "      <td>173.339996</td>\n",
       "      <td>166.190002</td>\n",
       "      <td>86185500.0</td>\n",
       "      <td>82772700.0</td>\n",
       "      <td>72450460.0</td>\n",
       "    </tr>\n",
       "    <tr>\n",
       "      <th>2</th>\n",
       "      <td>2022-02-16</td>\n",
       "      <td>2</td>\n",
       "      <td>ABNB</td>\n",
       "      <td>ft.com</td>\n",
       "      <td>[{'id': '7cb761c58f6843c8955d263b8511e8d0', 'n...</td>\n",
       "      <td>gb</td>\n",
       "      <td>[{'data': 'The Lex Newsletter', 'type': 'ORG',...</td>\n",
       "      <td>0.231911</td>\n",
       "      <td>0.321614</td>\n",
       "      <td>0.446475</td>\n",
       "      <td>0.000</td>\n",
       "      <td>0.125</td>\n",
       "      <td>167.369995</td>\n",
       "      <td>167.300003</td>\n",
       "      <td>173.339996</td>\n",
       "      <td>166.190002</td>\n",
       "      <td>86185500.0</td>\n",
       "      <td>82772700.0</td>\n",
       "      <td>72450460.0</td>\n",
       "    </tr>\n",
       "    <tr>\n",
       "      <th>3</th>\n",
       "      <td>2022-02-16</td>\n",
       "      <td>5</td>\n",
       "      <td>ABNB</td>\n",
       "      <td>ft.com</td>\n",
       "      <td>[{'id': 'e2da5ba5b18d41a3b5af079bfbd3232c', 'n...</td>\n",
       "      <td>gb</td>\n",
       "      <td>[{'data': 'Facebook', 'type': 'ORG', 'mentions...</td>\n",
       "      <td>0.119594</td>\n",
       "      <td>0.013067</td>\n",
       "      <td>0.867338</td>\n",
       "      <td>0.725</td>\n",
       "      <td>0.575</td>\n",
       "      <td>167.369995</td>\n",
       "      <td>167.300003</td>\n",
       "      <td>173.339996</td>\n",
       "      <td>166.190002</td>\n",
       "      <td>86185500.0</td>\n",
       "      <td>82772700.0</td>\n",
       "      <td>72450460.0</td>\n",
       "    </tr>\n",
       "    <tr>\n",
       "      <th>4</th>\n",
       "      <td>2022-04-06</td>\n",
       "      <td>1</td>\n",
       "      <td>ABNB</td>\n",
       "      <td>ft.com</td>\n",
       "      <td>[{'id': '90a28a5603a64095a5595b107fbafa14', 'n...</td>\n",
       "      <td>gb</td>\n",
       "      <td>[{'data': 'Slack', 'type': 'PRODUCT', 'mention...</td>\n",
       "      <td>0.031647</td>\n",
       "      <td>0.095279</td>\n",
       "      <td>0.873074</td>\n",
       "      <td>-0.400</td>\n",
       "      <td>0.700</td>\n",
       "      <td>174.570007</td>\n",
       "      <td>170.089996</td>\n",
       "      <td>178.490005</td>\n",
       "      <td>169.199997</td>\n",
       "      <td>76468400.0</td>\n",
       "      <td>76575500.0</td>\n",
       "      <td>78619840.0</td>\n",
       "    </tr>\n",
       "  </tbody>\n",
       "</table>\n",
       "</div>"
      ],
      "text/plain": [
       "  articleDate  n_companies StockSymbol  source  \\\n",
       "0  2022-02-07            2        ABNB  ft.com   \n",
       "1  2022-02-15            1        ABNB  ft.com   \n",
       "2  2022-02-16            2        ABNB  ft.com   \n",
       "3  2022-02-16            5        ABNB  ft.com   \n",
       "4  2022-04-06            1        ABNB  ft.com   \n",
       "\n",
       "                                           companies country  \\\n",
       "0  [{'id': '0ac918c3981a4c2f9a93e68f6484f17f', 'n...      gb   \n",
       "1  [{'id': '90a28a5603a64095a5595b107fbafa14', 'n...      gb   \n",
       "2  [{'id': '7cb761c58f6843c8955d263b8511e8d0', 'n...      gb   \n",
       "3  [{'id': 'e2da5ba5b18d41a3b5af079bfbd3232c', 'n...      gb   \n",
       "4  [{'id': '90a28a5603a64095a5595b107fbafa14', 'n...      gb   \n",
       "\n",
       "                                            entities  positive_sentiment  \\\n",
       "0  [{'data': 'Westminster', 'type': 'GPE', 'menti...            0.011808   \n",
       "1  [{'data': 'Airbnb', 'type': 'ORG', 'mentions':...            0.902408   \n",
       "2  [{'data': 'The Lex Newsletter', 'type': 'ORG',...            0.231911   \n",
       "3  [{'data': 'Facebook', 'type': 'ORG', 'mentions...            0.119594   \n",
       "4  [{'data': 'Slack', 'type': 'PRODUCT', 'mention...            0.031647   \n",
       "\n",
       "   negative_sentiment  neutral_sentiment  title_polarity  title_subjectivity  \\\n",
       "0            0.893342           0.094850           0.000               0.000   \n",
       "1            0.056243           0.041349           0.500               0.500   \n",
       "2            0.321614           0.446475           0.000               0.125   \n",
       "3            0.013067           0.867338           0.725               0.575   \n",
       "4            0.095279           0.873074          -0.400               0.700   \n",
       "\n",
       "         open       close        high         low  volume_start  volume_end  \\\n",
       "0  172.860001  168.639999  176.649994  168.039993    77251200.0  98670700.0   \n",
       "1  167.369995  167.300003  173.339996  166.190002    86185500.0  82772700.0   \n",
       "2  167.369995  167.300003  173.339996  166.190002    86185500.0  82772700.0   \n",
       "3  167.369995  167.300003  173.339996  166.190002    86185500.0  82772700.0   \n",
       "4  174.570007  170.089996  178.490005  169.199997    76468400.0  76575500.0   \n",
       "\n",
       "   volume_mean  \n",
       "0   82580400.0  \n",
       "1   72450460.0  \n",
       "2   72450460.0  \n",
       "3   72450460.0  \n",
       "4   78619840.0  "
      ]
     },
     "execution_count": 828,
     "metadata": {},
     "output_type": "execute_result"
    }
   ],
   "source": [
    "df_cleaned.head(5)"
   ]
  },
  {
   "cell_type": "code",
   "execution_count": 829,
   "id": "b2928d91-53b2-4972-9058-03163ca4c0f1",
   "metadata": {},
   "outputs": [
    {
     "data": {
      "text/html": [
       "<div>\n",
       "<style scoped>\n",
       "    .dataframe tbody tr th:only-of-type {\n",
       "        vertical-align: middle;\n",
       "    }\n",
       "\n",
       "    .dataframe tbody tr th {\n",
       "        vertical-align: top;\n",
       "    }\n",
       "\n",
       "    .dataframe thead th {\n",
       "        text-align: right;\n",
       "    }\n",
       "</style>\n",
       "<table border=\"1\" class=\"dataframe\">\n",
       "  <thead>\n",
       "    <tr style=\"text-align: right;\">\n",
       "      <th></th>\n",
       "      <th>articleDate</th>\n",
       "      <th>n_companies</th>\n",
       "      <th>StockSymbol</th>\n",
       "      <th>source</th>\n",
       "      <th>companies</th>\n",
       "      <th>country</th>\n",
       "      <th>entities</th>\n",
       "      <th>positive_sentiment</th>\n",
       "      <th>negative_sentiment</th>\n",
       "      <th>neutral_sentiment</th>\n",
       "      <th>title_polarity</th>\n",
       "      <th>title_subjectivity</th>\n",
       "      <th>open</th>\n",
       "      <th>close</th>\n",
       "      <th>high</th>\n",
       "      <th>low</th>\n",
       "      <th>volume_start</th>\n",
       "      <th>volume_end</th>\n",
       "      <th>volume_mean</th>\n",
       "    </tr>\n",
       "  </thead>\n",
       "  <tbody>\n",
       "    <tr>\n",
       "      <th>0</th>\n",
       "      <td>2022-02-07</td>\n",
       "      <td>2</td>\n",
       "      <td>ABNB</td>\n",
       "      <td>ft.com</td>\n",
       "      <td>[{'id': '0ac918c3981a4c2f9a93e68f6484f17f', 'n...</td>\n",
       "      <td>gb</td>\n",
       "      <td>[{'data': 'Westminster', 'type': 'GPE', 'menti...</td>\n",
       "      <td>0.011808</td>\n",
       "      <td>0.893342</td>\n",
       "      <td>0.094850</td>\n",
       "      <td>0.000</td>\n",
       "      <td>0.000</td>\n",
       "      <td>172.860001</td>\n",
       "      <td>168.639999</td>\n",
       "      <td>176.649994</td>\n",
       "      <td>168.039993</td>\n",
       "      <td>77251200.0</td>\n",
       "      <td>98670700.0</td>\n",
       "      <td>82580400.0</td>\n",
       "    </tr>\n",
       "    <tr>\n",
       "      <th>1</th>\n",
       "      <td>2022-02-15</td>\n",
       "      <td>1</td>\n",
       "      <td>ABNB</td>\n",
       "      <td>ft.com</td>\n",
       "      <td>[{'id': '90a28a5603a64095a5595b107fbafa14', 'n...</td>\n",
       "      <td>gb</td>\n",
       "      <td>[{'data': 'Airbnb', 'type': 'ORG', 'mentions':...</td>\n",
       "      <td>0.902408</td>\n",
       "      <td>0.056243</td>\n",
       "      <td>0.041349</td>\n",
       "      <td>0.500</td>\n",
       "      <td>0.500</td>\n",
       "      <td>167.369995</td>\n",
       "      <td>167.300003</td>\n",
       "      <td>173.339996</td>\n",
       "      <td>166.190002</td>\n",
       "      <td>86185500.0</td>\n",
       "      <td>82772700.0</td>\n",
       "      <td>72450460.0</td>\n",
       "    </tr>\n",
       "    <tr>\n",
       "      <th>2</th>\n",
       "      <td>2022-02-16</td>\n",
       "      <td>2</td>\n",
       "      <td>ABNB</td>\n",
       "      <td>ft.com</td>\n",
       "      <td>[{'id': '7cb761c58f6843c8955d263b8511e8d0', 'n...</td>\n",
       "      <td>gb</td>\n",
       "      <td>[{'data': 'The Lex Newsletter', 'type': 'ORG',...</td>\n",
       "      <td>0.231911</td>\n",
       "      <td>0.321614</td>\n",
       "      <td>0.446475</td>\n",
       "      <td>0.000</td>\n",
       "      <td>0.125</td>\n",
       "      <td>167.369995</td>\n",
       "      <td>167.300003</td>\n",
       "      <td>173.339996</td>\n",
       "      <td>166.190002</td>\n",
       "      <td>86185500.0</td>\n",
       "      <td>82772700.0</td>\n",
       "      <td>72450460.0</td>\n",
       "    </tr>\n",
       "    <tr>\n",
       "      <th>3</th>\n",
       "      <td>2022-02-16</td>\n",
       "      <td>5</td>\n",
       "      <td>ABNB</td>\n",
       "      <td>ft.com</td>\n",
       "      <td>[{'id': 'e2da5ba5b18d41a3b5af079bfbd3232c', 'n...</td>\n",
       "      <td>gb</td>\n",
       "      <td>[{'data': 'Facebook', 'type': 'ORG', 'mentions...</td>\n",
       "      <td>0.119594</td>\n",
       "      <td>0.013067</td>\n",
       "      <td>0.867338</td>\n",
       "      <td>0.725</td>\n",
       "      <td>0.575</td>\n",
       "      <td>167.369995</td>\n",
       "      <td>167.300003</td>\n",
       "      <td>173.339996</td>\n",
       "      <td>166.190002</td>\n",
       "      <td>86185500.0</td>\n",
       "      <td>82772700.0</td>\n",
       "      <td>72450460.0</td>\n",
       "    </tr>\n",
       "    <tr>\n",
       "      <th>4</th>\n",
       "      <td>2022-04-06</td>\n",
       "      <td>1</td>\n",
       "      <td>ABNB</td>\n",
       "      <td>ft.com</td>\n",
       "      <td>[{'id': '90a28a5603a64095a5595b107fbafa14', 'n...</td>\n",
       "      <td>gb</td>\n",
       "      <td>[{'data': 'Slack', 'type': 'PRODUCT', 'mention...</td>\n",
       "      <td>0.031647</td>\n",
       "      <td>0.095279</td>\n",
       "      <td>0.873074</td>\n",
       "      <td>-0.400</td>\n",
       "      <td>0.700</td>\n",
       "      <td>174.570007</td>\n",
       "      <td>170.089996</td>\n",
       "      <td>178.490005</td>\n",
       "      <td>169.199997</td>\n",
       "      <td>76468400.0</td>\n",
       "      <td>76575500.0</td>\n",
       "      <td>78619840.0</td>\n",
       "    </tr>\n",
       "  </tbody>\n",
       "</table>\n",
       "</div>"
      ],
      "text/plain": [
       "  articleDate  n_companies StockSymbol  source  \\\n",
       "0  2022-02-07            2        ABNB  ft.com   \n",
       "1  2022-02-15            1        ABNB  ft.com   \n",
       "2  2022-02-16            2        ABNB  ft.com   \n",
       "3  2022-02-16            5        ABNB  ft.com   \n",
       "4  2022-04-06            1        ABNB  ft.com   \n",
       "\n",
       "                                           companies country  \\\n",
       "0  [{'id': '0ac918c3981a4c2f9a93e68f6484f17f', 'n...      gb   \n",
       "1  [{'id': '90a28a5603a64095a5595b107fbafa14', 'n...      gb   \n",
       "2  [{'id': '7cb761c58f6843c8955d263b8511e8d0', 'n...      gb   \n",
       "3  [{'id': 'e2da5ba5b18d41a3b5af079bfbd3232c', 'n...      gb   \n",
       "4  [{'id': '90a28a5603a64095a5595b107fbafa14', 'n...      gb   \n",
       "\n",
       "                                            entities  positive_sentiment  \\\n",
       "0  [{'data': 'Westminster', 'type': 'GPE', 'menti...            0.011808   \n",
       "1  [{'data': 'Airbnb', 'type': 'ORG', 'mentions':...            0.902408   \n",
       "2  [{'data': 'The Lex Newsletter', 'type': 'ORG',...            0.231911   \n",
       "3  [{'data': 'Facebook', 'type': 'ORG', 'mentions...            0.119594   \n",
       "4  [{'data': 'Slack', 'type': 'PRODUCT', 'mention...            0.031647   \n",
       "\n",
       "   negative_sentiment  neutral_sentiment  title_polarity  title_subjectivity  \\\n",
       "0            0.893342           0.094850           0.000               0.000   \n",
       "1            0.056243           0.041349           0.500               0.500   \n",
       "2            0.321614           0.446475           0.000               0.125   \n",
       "3            0.013067           0.867338           0.725               0.575   \n",
       "4            0.095279           0.873074          -0.400               0.700   \n",
       "\n",
       "         open       close        high         low  volume_start  volume_end  \\\n",
       "0  172.860001  168.639999  176.649994  168.039993    77251200.0  98670700.0   \n",
       "1  167.369995  167.300003  173.339996  166.190002    86185500.0  82772700.0   \n",
       "2  167.369995  167.300003  173.339996  166.190002    86185500.0  82772700.0   \n",
       "3  167.369995  167.300003  173.339996  166.190002    86185500.0  82772700.0   \n",
       "4  174.570007  170.089996  178.490005  169.199997    76468400.0  76575500.0   \n",
       "\n",
       "   volume_mean  \n",
       "0   82580400.0  \n",
       "1   72450460.0  \n",
       "2   72450460.0  \n",
       "3   72450460.0  \n",
       "4   78619840.0  "
      ]
     },
     "execution_count": 829,
     "metadata": {},
     "output_type": "execute_result"
    }
   ],
   "source": [
    "df_cleaned.head(5)"
   ]
  },
  {
   "cell_type": "code",
   "execution_count": 830,
   "id": "e75ba7df-7f24-411c-9426-e508878d765b",
   "metadata": {},
   "outputs": [
    {
     "data": {
      "text/plain": [
       "(590, 19)"
      ]
     },
     "execution_count": 830,
     "metadata": {},
     "output_type": "execute_result"
    }
   ],
   "source": [
    "df_cleaned.shape"
   ]
  },
  {
   "cell_type": "code",
   "execution_count": 831,
   "id": "7f4a6d92-e077-4f0c-881e-10c079d9c2dd",
   "metadata": {},
   "outputs": [],
   "source": [
    "df_cleaned.to_csv('mergeddata_ABNB.csv', index=False) "
   ]
  },
  {
   "cell_type": "code",
   "execution_count": null,
   "id": "23e6eb45-7fce-468a-8715-8f046ff95177",
   "metadata": {},
   "outputs": [],
   "source": []
  }
 ],
 "metadata": {
  "kernelspec": {
   "display_name": "Python 3 (ipykernel)",
   "language": "python",
   "name": "python3"
  },
  "language_info": {
   "codemirror_mode": {
    "name": "ipython",
    "version": 3
   },
   "file_extension": ".py",
   "mimetype": "text/x-python",
   "name": "python",
   "nbconvert_exporter": "python",
   "pygments_lexer": "ipython3",
   "version": "3.11.7"
  }
 },
 "nbformat": 4,
 "nbformat_minor": 5
}
