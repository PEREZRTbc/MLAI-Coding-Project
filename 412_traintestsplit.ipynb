{
 "cells": [
  {
   "cell_type": "code",
   "execution_count": null,
   "id": "bd7c6f86-4fa0-4541-8487-866c0e43234c",
   "metadata": {},
   "outputs": [],
   "source": [
    "#train test split"
   ]
  },
  {
   "cell_type": "code",
   "execution_count": 41,
   "id": "d0ec22f2-e9db-4e3e-ae72-4b40d91b0eba",
   "metadata": {
    "tags": []
   },
   "outputs": [],
   "source": [
    "from sklearn.ensemble import GradientBoostingRegressor"
   ]
  },
  {
   "cell_type": "code",
   "execution_count": 1,
   "id": "a35eb329-7f56-4a36-bea6-3caf0980a74c",
   "metadata": {
    "tags": []
   },
   "outputs": [],
   "source": [
    "import pandas as pd\n",
    "import numpy as np\n",
    "from sklearn.model_selection import train_test_split\n",
    "import sklearn.metrics\n",
    "from sklearn.pipeline import Pipeline\n",
    "from sklearn.preprocessing import StandardScaler\n",
    "from sklearn.compose import ColumnTransformer\n",
    "from sklearn.pipeline import FeatureUnion\n",
    "from sklearn.preprocessing import OneHotEncoder"
   ]
  },
  {
   "cell_type": "code",
   "execution_count": 5,
   "id": "6dea0555-a03b-4c82-9765-e94e83641d22",
   "metadata": {
    "tags": []
   },
   "outputs": [],
   "source": [
    "df = pd.read_csv('final_ml_data.csv')"
   ]
  },
  {
   "cell_type": "code",
   "execution_count": 7,
   "id": "34172bda-cd08-4c99-8bd0-ff1c902d31e0",
   "metadata": {
    "tags": []
   },
   "outputs": [
    {
     "data": {
      "text/plain": [
       "(17471, 21)"
      ]
     },
     "execution_count": 7,
     "metadata": {},
     "output_type": "execute_result"
    }
   ],
   "source": [
    "df.shape"
   ]
  },
  {
   "cell_type": "code",
   "execution_count": 12,
   "id": "5c4a1ea4-8bf2-4802-9de4-374ffd11d7fb",
   "metadata": {
    "tags": []
   },
   "outputs": [
    {
     "data": {
      "text/plain": [
       "articleDate            object\n",
       "n_companies             int64\n",
       "StockSymbol            object\n",
       "source                 object\n",
       "companies              object\n",
       "entities               object\n",
       "positive_sentiment    float64\n",
       "negative_sentiment    float64\n",
       "neutral_sentiment     float64\n",
       "title_polarity        float64\n",
       "title_subjectivity    float64\n",
       "open                  float64\n",
       "close                 float64\n",
       "high                  float64\n",
       "low                   float64\n",
       "volume_start          float64\n",
       "volume_end            float64\n",
       "volume_mean           float64\n",
       "country_isUS            int64\n",
       "open_marketcap        float64\n",
       "close_marketcap       float64\n",
       "dtype: object"
      ]
     },
     "execution_count": 12,
     "metadata": {},
     "output_type": "execute_result"
    }
   ],
   "source": [
    "df.dtypes"
   ]
  },
  {
   "cell_type": "code",
   "execution_count": 8,
   "id": "f625326f-c14d-45e0-b971-66c1d2e21a72",
   "metadata": {
    "tags": []
   },
   "outputs": [
    {
     "data": {
      "text/html": [
       "<div>\n",
       "<style scoped>\n",
       "    .dataframe tbody tr th:only-of-type {\n",
       "        vertical-align: middle;\n",
       "    }\n",
       "\n",
       "    .dataframe tbody tr th {\n",
       "        vertical-align: top;\n",
       "    }\n",
       "\n",
       "    .dataframe thead th {\n",
       "        text-align: right;\n",
       "    }\n",
       "</style>\n",
       "<table border=\"1\" class=\"dataframe\">\n",
       "  <thead>\n",
       "    <tr style=\"text-align: right;\">\n",
       "      <th></th>\n",
       "      <th>articleDate</th>\n",
       "      <th>n_companies</th>\n",
       "      <th>StockSymbol</th>\n",
       "      <th>source</th>\n",
       "      <th>companies</th>\n",
       "      <th>entities</th>\n",
       "      <th>positive_sentiment</th>\n",
       "      <th>negative_sentiment</th>\n",
       "      <th>neutral_sentiment</th>\n",
       "      <th>title_polarity</th>\n",
       "      <th>...</th>\n",
       "      <th>open</th>\n",
       "      <th>close</th>\n",
       "      <th>high</th>\n",
       "      <th>low</th>\n",
       "      <th>volume_start</th>\n",
       "      <th>volume_end</th>\n",
       "      <th>volume_mean</th>\n",
       "      <th>country_isUS</th>\n",
       "      <th>open_marketcap</th>\n",
       "      <th>close_marketcap</th>\n",
       "    </tr>\n",
       "  </thead>\n",
       "  <tbody>\n",
       "    <tr>\n",
       "      <th>0</th>\n",
       "      <td>2022-01-03</td>\n",
       "      <td>2</td>\n",
       "      <td>AAPL</td>\n",
       "      <td>mixed-news.com</td>\n",
       "      <td>[{'id': '806457af1fd9418db78388760f52c06f', 'n...</td>\n",
       "      <td>[{'data': 'Apple', 'type': 'ORG', 'mentions': ...</td>\n",
       "      <td>0.038229</td>\n",
       "      <td>0.064935</td>\n",
       "      <td>0.896836</td>\n",
       "      <td>0.000000</td>\n",
       "      <td>...</td>\n",
       "      <td>177.830002</td>\n",
       "      <td>172.169998</td>\n",
       "      <td>182.940002</td>\n",
       "      <td>171.029999</td>\n",
       "      <td>104487900.0</td>\n",
       "      <td>86709100.0</td>\n",
       "      <td>96389800.0</td>\n",
       "      <td>1</td>\n",
       "      <td>1.858108e+10</td>\n",
       "      <td>1.492871e+10</td>\n",
       "    </tr>\n",
       "    <tr>\n",
       "      <th>1</th>\n",
       "      <td>2022-01-03</td>\n",
       "      <td>1</td>\n",
       "      <td>AAPL</td>\n",
       "      <td>mixed-news.com</td>\n",
       "      <td>[{'id': '5985872d662c4a3f941a9c581a9fce71', 'n...</td>\n",
       "      <td>[{'data': 'Apple', 'type': 'ORG', 'mentions': ...</td>\n",
       "      <td>0.048013</td>\n",
       "      <td>0.028628</td>\n",
       "      <td>0.923359</td>\n",
       "      <td>0.000000</td>\n",
       "      <td>...</td>\n",
       "      <td>177.830002</td>\n",
       "      <td>172.169998</td>\n",
       "      <td>182.940002</td>\n",
       "      <td>171.029999</td>\n",
       "      <td>104487900.0</td>\n",
       "      <td>86709100.0</td>\n",
       "      <td>96389800.0</td>\n",
       "      <td>1</td>\n",
       "      <td>1.858108e+10</td>\n",
       "      <td>1.492871e+10</td>\n",
       "    </tr>\n",
       "    <tr>\n",
       "      <th>2</th>\n",
       "      <td>2022-01-03</td>\n",
       "      <td>1</td>\n",
       "      <td>AAPL</td>\n",
       "      <td>ft.com</td>\n",
       "      <td>[{'id': '5985872d662c4a3f941a9c581a9fce71', 'n...</td>\n",
       "      <td>[{'data': 'Apple', 'type': 'ORG', 'mentions': ...</td>\n",
       "      <td>0.548833</td>\n",
       "      <td>0.371926</td>\n",
       "      <td>0.079241</td>\n",
       "      <td>0.068182</td>\n",
       "      <td>...</td>\n",
       "      <td>177.830002</td>\n",
       "      <td>172.169998</td>\n",
       "      <td>182.940002</td>\n",
       "      <td>171.029999</td>\n",
       "      <td>104487900.0</td>\n",
       "      <td>86709100.0</td>\n",
       "      <td>96389800.0</td>\n",
       "      <td>0</td>\n",
       "      <td>1.858108e+10</td>\n",
       "      <td>1.492871e+10</td>\n",
       "    </tr>\n",
       "    <tr>\n",
       "      <th>3</th>\n",
       "      <td>2022-01-04</td>\n",
       "      <td>2</td>\n",
       "      <td>AAPL</td>\n",
       "      <td>ft.com</td>\n",
       "      <td>[{'id': 'aff4495e1d3d40278d6bb5f9d2a3bd25', 'n...</td>\n",
       "      <td>[{'data': 'US', 'type': 'GPE', 'mentions': 4},...</td>\n",
       "      <td>0.050658</td>\n",
       "      <td>0.097955</td>\n",
       "      <td>0.851387</td>\n",
       "      <td>0.000000</td>\n",
       "      <td>...</td>\n",
       "      <td>177.830002</td>\n",
       "      <td>172.169998</td>\n",
       "      <td>182.940002</td>\n",
       "      <td>171.029999</td>\n",
       "      <td>104487900.0</td>\n",
       "      <td>86709100.0</td>\n",
       "      <td>96389800.0</td>\n",
       "      <td>0</td>\n",
       "      <td>1.858108e+10</td>\n",
       "      <td>1.492871e+10</td>\n",
       "    </tr>\n",
       "    <tr>\n",
       "      <th>4</th>\n",
       "      <td>2022-01-04</td>\n",
       "      <td>3</td>\n",
       "      <td>AAPL</td>\n",
       "      <td>ft.com</td>\n",
       "      <td>[{'id': 'f1e3e2243cd142408136bd8f43282c4a', 'n...</td>\n",
       "      <td>[{'data': 'City', 'type': 'ORG', 'mentions': 2...</td>\n",
       "      <td>0.065301</td>\n",
       "      <td>0.769178</td>\n",
       "      <td>0.165521</td>\n",
       "      <td>0.250000</td>\n",
       "      <td>...</td>\n",
       "      <td>177.830002</td>\n",
       "      <td>172.169998</td>\n",
       "      <td>182.940002</td>\n",
       "      <td>171.029999</td>\n",
       "      <td>104487900.0</td>\n",
       "      <td>86709100.0</td>\n",
       "      <td>96389800.0</td>\n",
       "      <td>0</td>\n",
       "      <td>1.858108e+10</td>\n",
       "      <td>1.492871e+10</td>\n",
       "    </tr>\n",
       "    <tr>\n",
       "      <th>...</th>\n",
       "      <td>...</td>\n",
       "      <td>...</td>\n",
       "      <td>...</td>\n",
       "      <td>...</td>\n",
       "      <td>...</td>\n",
       "      <td>...</td>\n",
       "      <td>...</td>\n",
       "      <td>...</td>\n",
       "      <td>...</td>\n",
       "      <td>...</td>\n",
       "      <td>...</td>\n",
       "      <td>...</td>\n",
       "      <td>...</td>\n",
       "      <td>...</td>\n",
       "      <td>...</td>\n",
       "      <td>...</td>\n",
       "      <td>...</td>\n",
       "      <td>...</td>\n",
       "      <td>...</td>\n",
       "      <td>...</td>\n",
       "      <td>...</td>\n",
       "    </tr>\n",
       "    <tr>\n",
       "      <th>17466</th>\n",
       "      <td>2023-12-27</td>\n",
       "      <td>1</td>\n",
       "      <td>XOM</td>\n",
       "      <td>marketbeat.com</td>\n",
       "      <td>[{'id': '52b581be4bea4c7ca107c0261d5d942e', 'n...</td>\n",
       "      <td>[{'data': 'Exxon Mobil Co.', 'type': 'ORG', 'm...</td>\n",
       "      <td>0.536791</td>\n",
       "      <td>0.039401</td>\n",
       "      <td>0.423808</td>\n",
       "      <td>0.000000</td>\n",
       "      <td>...</td>\n",
       "      <td>193.610001</td>\n",
       "      <td>192.529999</td>\n",
       "      <td>194.660004</td>\n",
       "      <td>191.089996</td>\n",
       "      <td>28919300.0</td>\n",
       "      <td>42628800.0</td>\n",
       "      <td>38421425.0</td>\n",
       "      <td>1</td>\n",
       "      <td>5.599066e+09</td>\n",
       "      <td>8.207323e+09</td>\n",
       "    </tr>\n",
       "    <tr>\n",
       "      <th>17467</th>\n",
       "      <td>2023-12-27</td>\n",
       "      <td>13</td>\n",
       "      <td>XOM</td>\n",
       "      <td>ii.co.uk</td>\n",
       "      <td>[{'id': '4de51cf8472b4ce7a5aecdf52a1de4c0', 'n...</td>\n",
       "      <td>[{'data': 'US', 'type': 'GPE', 'mentions': 8},...</td>\n",
       "      <td>0.740931</td>\n",
       "      <td>0.040317</td>\n",
       "      <td>0.218752</td>\n",
       "      <td>0.000000</td>\n",
       "      <td>...</td>\n",
       "      <td>193.610001</td>\n",
       "      <td>192.529999</td>\n",
       "      <td>194.660004</td>\n",
       "      <td>191.089996</td>\n",
       "      <td>28919300.0</td>\n",
       "      <td>42628800.0</td>\n",
       "      <td>38421425.0</td>\n",
       "      <td>0</td>\n",
       "      <td>5.599066e+09</td>\n",
       "      <td>8.207323e+09</td>\n",
       "    </tr>\n",
       "    <tr>\n",
       "      <th>17468</th>\n",
       "      <td>2023-12-27</td>\n",
       "      <td>8</td>\n",
       "      <td>XOM</td>\n",
       "      <td>cyprus-mail.com</td>\n",
       "      <td>[{'id': '2fc8215b27ff48ec9227ea6ae39c5054', 'n...</td>\n",
       "      <td>[{'data': 'U.S.', 'type': 'GPE', 'mentions': 8...</td>\n",
       "      <td>0.188013</td>\n",
       "      <td>0.415904</td>\n",
       "      <td>0.396084</td>\n",
       "      <td>0.000000</td>\n",
       "      <td>...</td>\n",
       "      <td>193.610001</td>\n",
       "      <td>192.529999</td>\n",
       "      <td>194.660004</td>\n",
       "      <td>191.089996</td>\n",
       "      <td>28919300.0</td>\n",
       "      <td>42628800.0</td>\n",
       "      <td>38421425.0</td>\n",
       "      <td>0</td>\n",
       "      <td>5.599066e+09</td>\n",
       "      <td>8.207323e+09</td>\n",
       "    </tr>\n",
       "    <tr>\n",
       "      <th>17469</th>\n",
       "      <td>2023-12-28</td>\n",
       "      <td>1</td>\n",
       "      <td>XOM</td>\n",
       "      <td>defenseworld.net</td>\n",
       "      <td>[{'id': '52b581be4bea4c7ca107c0261d5d942e', 'n...</td>\n",
       "      <td>[{'data': 'Exeter Financial LLC', 'type': 'ORG...</td>\n",
       "      <td>0.484463</td>\n",
       "      <td>0.045062</td>\n",
       "      <td>0.470475</td>\n",
       "      <td>0.000000</td>\n",
       "      <td>...</td>\n",
       "      <td>193.610001</td>\n",
       "      <td>192.529999</td>\n",
       "      <td>194.660004</td>\n",
       "      <td>191.089996</td>\n",
       "      <td>28919300.0</td>\n",
       "      <td>42628800.0</td>\n",
       "      <td>38421425.0</td>\n",
       "      <td>1</td>\n",
       "      <td>5.599066e+09</td>\n",
       "      <td>8.207323e+09</td>\n",
       "    </tr>\n",
       "    <tr>\n",
       "      <th>17470</th>\n",
       "      <td>2023-12-28</td>\n",
       "      <td>1</td>\n",
       "      <td>XOM</td>\n",
       "      <td>defenseworld.net</td>\n",
       "      <td>[{'id': '52b581be4bea4c7ca107c0261d5d942e', 'n...</td>\n",
       "      <td>[{'data': 'Exxon Mobil Co.', 'type': 'ORG', 'm...</td>\n",
       "      <td>0.298455</td>\n",
       "      <td>0.118125</td>\n",
       "      <td>0.583420</td>\n",
       "      <td>0.000000</td>\n",
       "      <td>...</td>\n",
       "      <td>193.610001</td>\n",
       "      <td>192.529999</td>\n",
       "      <td>194.660004</td>\n",
       "      <td>191.089996</td>\n",
       "      <td>28919300.0</td>\n",
       "      <td>42628800.0</td>\n",
       "      <td>38421425.0</td>\n",
       "      <td>1</td>\n",
       "      <td>5.599066e+09</td>\n",
       "      <td>8.207323e+09</td>\n",
       "    </tr>\n",
       "  </tbody>\n",
       "</table>\n",
       "<p>17471 rows × 21 columns</p>\n",
       "</div>"
      ],
      "text/plain": [
       "      articleDate  n_companies StockSymbol            source  \\\n",
       "0      2022-01-03            2        AAPL    mixed-news.com   \n",
       "1      2022-01-03            1        AAPL    mixed-news.com   \n",
       "2      2022-01-03            1        AAPL            ft.com   \n",
       "3      2022-01-04            2        AAPL            ft.com   \n",
       "4      2022-01-04            3        AAPL            ft.com   \n",
       "...           ...          ...         ...               ...   \n",
       "17466  2023-12-27            1         XOM    marketbeat.com   \n",
       "17467  2023-12-27           13         XOM          ii.co.uk   \n",
       "17468  2023-12-27            8         XOM   cyprus-mail.com   \n",
       "17469  2023-12-28            1         XOM  defenseworld.net   \n",
       "17470  2023-12-28            1         XOM  defenseworld.net   \n",
       "\n",
       "                                               companies  \\\n",
       "0      [{'id': '806457af1fd9418db78388760f52c06f', 'n...   \n",
       "1      [{'id': '5985872d662c4a3f941a9c581a9fce71', 'n...   \n",
       "2      [{'id': '5985872d662c4a3f941a9c581a9fce71', 'n...   \n",
       "3      [{'id': 'aff4495e1d3d40278d6bb5f9d2a3bd25', 'n...   \n",
       "4      [{'id': 'f1e3e2243cd142408136bd8f43282c4a', 'n...   \n",
       "...                                                  ...   \n",
       "17466  [{'id': '52b581be4bea4c7ca107c0261d5d942e', 'n...   \n",
       "17467  [{'id': '4de51cf8472b4ce7a5aecdf52a1de4c0', 'n...   \n",
       "17468  [{'id': '2fc8215b27ff48ec9227ea6ae39c5054', 'n...   \n",
       "17469  [{'id': '52b581be4bea4c7ca107c0261d5d942e', 'n...   \n",
       "17470  [{'id': '52b581be4bea4c7ca107c0261d5d942e', 'n...   \n",
       "\n",
       "                                                entities  positive_sentiment  \\\n",
       "0      [{'data': 'Apple', 'type': 'ORG', 'mentions': ...            0.038229   \n",
       "1      [{'data': 'Apple', 'type': 'ORG', 'mentions': ...            0.048013   \n",
       "2      [{'data': 'Apple', 'type': 'ORG', 'mentions': ...            0.548833   \n",
       "3      [{'data': 'US', 'type': 'GPE', 'mentions': 4},...            0.050658   \n",
       "4      [{'data': 'City', 'type': 'ORG', 'mentions': 2...            0.065301   \n",
       "...                                                  ...                 ...   \n",
       "17466  [{'data': 'Exxon Mobil Co.', 'type': 'ORG', 'm...            0.536791   \n",
       "17467  [{'data': 'US', 'type': 'GPE', 'mentions': 8},...            0.740931   \n",
       "17468  [{'data': 'U.S.', 'type': 'GPE', 'mentions': 8...            0.188013   \n",
       "17469  [{'data': 'Exeter Financial LLC', 'type': 'ORG...            0.484463   \n",
       "17470  [{'data': 'Exxon Mobil Co.', 'type': 'ORG', 'm...            0.298455   \n",
       "\n",
       "       negative_sentiment  neutral_sentiment  title_polarity  ...        open  \\\n",
       "0                0.064935           0.896836        0.000000  ...  177.830002   \n",
       "1                0.028628           0.923359        0.000000  ...  177.830002   \n",
       "2                0.371926           0.079241        0.068182  ...  177.830002   \n",
       "3                0.097955           0.851387        0.000000  ...  177.830002   \n",
       "4                0.769178           0.165521        0.250000  ...  177.830002   \n",
       "...                   ...                ...             ...  ...         ...   \n",
       "17466            0.039401           0.423808        0.000000  ...  193.610001   \n",
       "17467            0.040317           0.218752        0.000000  ...  193.610001   \n",
       "17468            0.415904           0.396084        0.000000  ...  193.610001   \n",
       "17469            0.045062           0.470475        0.000000  ...  193.610001   \n",
       "17470            0.118125           0.583420        0.000000  ...  193.610001   \n",
       "\n",
       "            close        high         low  volume_start  volume_end  \\\n",
       "0      172.169998  182.940002  171.029999   104487900.0  86709100.0   \n",
       "1      172.169998  182.940002  171.029999   104487900.0  86709100.0   \n",
       "2      172.169998  182.940002  171.029999   104487900.0  86709100.0   \n",
       "3      172.169998  182.940002  171.029999   104487900.0  86709100.0   \n",
       "4      172.169998  182.940002  171.029999   104487900.0  86709100.0   \n",
       "...           ...         ...         ...           ...         ...   \n",
       "17466  192.529999  194.660004  191.089996    28919300.0  42628800.0   \n",
       "17467  192.529999  194.660004  191.089996    28919300.0  42628800.0   \n",
       "17468  192.529999  194.660004  191.089996    28919300.0  42628800.0   \n",
       "17469  192.529999  194.660004  191.089996    28919300.0  42628800.0   \n",
       "17470  192.529999  194.660004  191.089996    28919300.0  42628800.0   \n",
       "\n",
       "       volume_mean  country_isUS  open_marketcap  close_marketcap  \n",
       "0       96389800.0             1    1.858108e+10     1.492871e+10  \n",
       "1       96389800.0             1    1.858108e+10     1.492871e+10  \n",
       "2       96389800.0             0    1.858108e+10     1.492871e+10  \n",
       "3       96389800.0             0    1.858108e+10     1.492871e+10  \n",
       "4       96389800.0             0    1.858108e+10     1.492871e+10  \n",
       "...            ...           ...             ...              ...  \n",
       "17466   38421425.0             1    5.599066e+09     8.207323e+09  \n",
       "17467   38421425.0             0    5.599066e+09     8.207323e+09  \n",
       "17468   38421425.0             0    5.599066e+09     8.207323e+09  \n",
       "17469   38421425.0             1    5.599066e+09     8.207323e+09  \n",
       "17470   38421425.0             1    5.599066e+09     8.207323e+09  \n",
       "\n",
       "[17471 rows x 21 columns]"
      ]
     },
     "execution_count": 8,
     "metadata": {},
     "output_type": "execute_result"
    }
   ],
   "source": [
    "#do we want to include day of week?\n",
    "#a dummy variable for if number of companies exceeds a certain threshold?"
   ]
  },
  {
   "cell_type": "code",
   "execution_count": 19,
   "id": "f05134a6-9dfe-4dae-986c-92b2e67a2394",
   "metadata": {
    "tags": []
   },
   "outputs": [
    {
     "data": {
      "text/plain": [
       "articleDate           0\n",
       "n_companies           0\n",
       "StockSymbol           0\n",
       "source                0\n",
       "companies             0\n",
       "entities              0\n",
       "positive_sentiment    0\n",
       "negative_sentiment    0\n",
       "neutral_sentiment     0\n",
       "title_polarity        0\n",
       "title_subjectivity    0\n",
       "open                  0\n",
       "close                 0\n",
       "high                  0\n",
       "low                   0\n",
       "volume_start          0\n",
       "volume_end            0\n",
       "volume_mean           0\n",
       "country_isUS          0\n",
       "open_marketcap        0\n",
       "close_marketcap       0\n",
       "dtype: int64"
      ]
     },
     "execution_count": 19,
     "metadata": {},
     "output_type": "execute_result"
    }
   ],
   "source": [
    "df.isna().sum()"
   ]
  },
  {
   "cell_type": "code",
   "execution_count": 9,
   "id": "dece19c3-cae9-4f99-aeba-aca062138b13",
   "metadata": {
    "tags": []
   },
   "outputs": [
    {
     "data": {
      "text/plain": [
       "StockSymbol\n",
       "XOM      1858\n",
       "MSFT     1192\n",
       "GOOGL    1182\n",
       "META     1173\n",
       "AAPL     1160\n",
       "JPM      1109\n",
       "TSLA     1085\n",
       "MA        973\n",
       "AMZN      940\n",
       "JNJ       940\n",
       "LLY       937\n",
       "V         935\n",
       "PG        926\n",
       "AVGO      924\n",
       "UNH       923\n",
       "NVDA      649\n",
       "ABNB      565\n",
       "Name: count, dtype: int64"
      ]
     },
     "execution_count": 9,
     "metadata": {},
     "output_type": "execute_result"
    }
   ],
   "source": [
    "df['StockSymbol'].value_counts()"
   ]
  },
  {
   "cell_type": "code",
   "execution_count": 11,
   "id": "d1226e97-0eb8-4893-8f56-d5ee3f1d475e",
   "metadata": {
    "tags": []
   },
   "outputs": [
    {
     "data": {
      "text/plain": [
       "articleDate           0\n",
       "n_companies           0\n",
       "StockSymbol           0\n",
       "source                0\n",
       "companies             0\n",
       "entities              0\n",
       "positive_sentiment    0\n",
       "negative_sentiment    0\n",
       "neutral_sentiment     0\n",
       "title_polarity        0\n",
       "title_subjectivity    0\n",
       "open                  0\n",
       "close                 0\n",
       "high                  0\n",
       "low                   0\n",
       "volume_start          0\n",
       "volume_end            0\n",
       "volume_mean           0\n",
       "country_isUS          0\n",
       "open_marketcap        0\n",
       "close_marketcap       0\n",
       "dtype: int64"
      ]
     },
     "execution_count": 11,
     "metadata": {},
     "output_type": "execute_result"
    }
   ],
   "source": [
    "df.isna().sum()"
   ]
  },
  {
   "cell_type": "code",
   "execution_count": 16,
   "id": "1dc1310c-cd28-4d34-9817-18aeaaf6b65c",
   "metadata": {
    "tags": []
   },
   "outputs": [
    {
     "data": {
      "text/plain": [
       "n_companies\n",
       "1     7197\n",
       "2     3747\n",
       "3     2010\n",
       "4     1180\n",
       "5      813\n",
       "6      554\n",
       "7      454\n",
       "8      309\n",
       "9      298\n",
       "11     198\n",
       "10     174\n",
       "12     100\n",
       "13      85\n",
       "14      55\n",
       "15      54\n",
       "16      25\n",
       "19      25\n",
       "18      25\n",
       "20      19\n",
       "17      18\n",
       "25      16\n",
       "21      12\n",
       "35      11\n",
       "34       9\n",
       "29       8\n",
       "22       8\n",
       "24       8\n",
       "37       7\n",
       "43       7\n",
       "23       6\n",
       "26       5\n",
       "45       4\n",
       "28       4\n",
       "38       3\n",
       "27       2\n",
       "36       2\n",
       "49       2\n",
       "33       2\n",
       "39       2\n",
       "32       2\n",
       "30       2\n",
       "57       2\n",
       "42       1\n",
       "46       1\n",
       "48       1\n",
       "41       1\n",
       "44       1\n",
       "47       1\n",
       "53       1\n",
       "Name: count, dtype: int64"
      ]
     },
     "execution_count": 16,
     "metadata": {},
     "output_type": "execute_result"
    }
   ],
   "source": [
    "df['n_companies'].value_counts()"
   ]
  },
  {
   "cell_type": "code",
   "execution_count": 13,
   "id": "f3405406-1811-4d87-ba13-c2ab5b8bd4fe",
   "metadata": {
    "tags": []
   },
   "outputs": [],
   "source": [
    "#define X and y\n",
    "X = df[ ['country_isUS', 'articleDate', 'n_companies', 'source', 'positive_sentiment', 'negative_sentiment',\n",
    "'neutral_sentiment', 'title_polarity', 'title_subjectivity', 'open_marketcap', 'high', 'low', 'StockSymbol'] ]\n",
    "y = df[ ['close_marketcap', 'StockSymbol'] ]"
   ]
  },
  {
   "cell_type": "code",
   "execution_count": 45,
   "id": "2ff0d279-bb43-49f8-9a96-e1895f7879a8",
   "metadata": {
    "tags": []
   },
   "outputs": [],
   "source": [
    "def train_test_full(df):\n",
    "    df_XOM = df [ df['StockSymbol'] == 'XOM' ]\n",
    "    X_train_XOM, X_test_XOM, y_train_XOM, y_test_XOM = train_test_split(df[df['StockSymbol'] == 'XOM'][['country_isUS', 'articleDate', 'n_companies', 'source', 'positive_sentiment', 'negative_sentiment',\n",
    "    'neutral_sentiment', 'title_polarity', 'title_subjectivity', 'open_marketcap', 'high', 'low', 'StockSymbol']],\n",
    "                                                                            df[df['StockSymbol'] == 'XOM'][['close_marketcap',\n",
    "                                                                                                               'StockSymbol']], test_size = .60)\n",
    "    df_MSFT = df [ df['StockSymbol'] == 'MSFT' ]\n",
    "    X_train_MSFT, X_test_MSFT, y_train_MSFT, y_test_MSFT = train_test_split(df[df['StockSymbol'] == 'MSFT'][['country_isUS', 'articleDate', 'n_companies', 'source', 'positive_sentiment', 'negative_sentiment',\n",
    "    'neutral_sentiment', 'title_polarity', 'title_subjectivity', 'open_marketcap', 'high', 'low', 'StockSymbol']],\n",
    "                                                                            df[df['StockSymbol'] == 'MSFT'][['close_marketcap',\n",
    "                                                                                                               'StockSymbol']], test_size = .60)\n",
    "    df_GOOGL = df [ df['StockSymbol'] == 'GOOGL' ]\n",
    "    X_train_GOOGL, X_test_GOOGL, y_train_GOOGL, y_test_GOOGL = train_test_split(df[df['StockSymbol'] == 'GOOGL'][['country_isUS', 'articleDate', 'n_companies', 'source', 'positive_sentiment', 'negative_sentiment',\n",
    "    'neutral_sentiment', 'title_polarity', 'title_subjectivity', 'open_marketcap', 'high', 'low', 'StockSymbol']],\n",
    "                                                                            df[df['StockSymbol'] == 'GOOGL'][['close_marketcap',\n",
    "                                                                                                               'StockSymbol']], test_size = .60)\n",
    "    df_META = df [ df['StockSymbol'] == 'META' ]\n",
    "    X_train_META, X_test_META, y_train_META, y_test_META = train_test_split(df[df['StockSymbol'] == 'META'][['country_isUS', 'articleDate', 'n_companies', 'source', 'positive_sentiment', 'negative_sentiment',\n",
    "    'neutral_sentiment', 'title_polarity', 'title_subjectivity', 'open_marketcap', 'high', 'low', 'StockSymbol']],\n",
    "                                                                            df[df['StockSymbol'] == 'META'][['close_marketcap',\n",
    "                                                                                                             'StockSymbol']], test_size = .60)\n",
    "           \n",
    "    df_AAPL = df [ df['StockSymbol'] == 'AAPL' ]\n",
    "    X_train_AAPL, X_test_AAPL, y_train_AAPL, y_test_AAPL = train_test_split(df[df['StockSymbol'] == 'AAPL'][['country_isUS', 'articleDate', 'n_companies', 'source', 'positive_sentiment', 'negative_sentiment',\n",
    "    'neutral_sentiment', 'title_polarity', 'title_subjectivity', 'open_marketcap', 'high', 'low', 'StockSymbol']],\n",
    "                                                                            df[df['StockSymbol'] == 'AAPL'][['close_marketcap',\n",
    "                                                                                                             'StockSymbol']], test_size = .60)\n",
    "         \n",
    "    df_JPM = df [ df['StockSymbol'] == 'JPM' ]\n",
    "    X_train_JPM, X_test_JPM, y_train_JPM, y_test_JPM = train_test_split(df[df['StockSymbol'] == 'JPM'][['country_isUS', 'articleDate', 'n_companies', 'source', 'positive_sentiment', 'negative_sentiment',\n",
    "    'neutral_sentiment', 'title_polarity', 'title_subjectivity', 'open_marketcap', 'high', 'low', 'StockSymbol']],\n",
    "                                                                            df[df['StockSymbol'] == 'JPM'][['close_marketcap',\n",
    "                                                                                                            'StockSymbol']], test_size = .60)\n",
    "    \n",
    "    df_TSLA = df [ df['StockSymbol'] == 'TSLA' ]\n",
    "    X_train_TSLA, X_test_TSLA, y_train_TSLA, y_test_TSLA = train_test_split(df[df['StockSymbol'] == 'TSLA'][['country_isUS', 'articleDate', 'n_companies', 'source', 'positive_sentiment', 'negative_sentiment',\n",
    "    'neutral_sentiment', 'title_polarity', 'title_subjectivity', 'open_marketcap', 'high', 'low', 'StockSymbol']],\n",
    "                                                                            df[df['StockSymbol'] == 'TSLA'][['close_marketcap',\n",
    "                                                                                                            'StockSymbol']], test_size = .60)\n",
    "    \n",
    "    df_MA = df [ df['StockSymbol'] == 'MA' ]\n",
    "    X_train_MA, X_test_MA, y_train_MA, y_test_MA = train_test_split(df[df['StockSymbol'] == 'MA'][['country_isUS', 'articleDate', 'n_companies', 'source', 'positive_sentiment', 'negative_sentiment',\n",
    "    'neutral_sentiment', 'title_polarity', 'title_subjectivity', 'open_marketcap', 'high', 'low', 'StockSymbol']],\n",
    "                                                                            df[df['StockSymbol'] == 'MA'][['close_marketcap',\n",
    "                                                                                                            'StockSymbol']], test_size = .60)\n",
    "    \n",
    "                                                                                                            \n",
    "    df_AMZN = df [ df['StockSymbol'] == 'AMZN' ]\n",
    "    X_train_AMZN, X_test_AMZN, y_train_AMZN, y_test_AMZN = train_test_split(df[df['StockSymbol'] == 'AMZN'][['country_isUS', 'articleDate', 'n_companies', 'source', 'positive_sentiment', 'negative_sentiment',\n",
    "    'neutral_sentiment', 'title_polarity', 'title_subjectivity', 'open_marketcap', 'high', 'low', 'StockSymbol']],\n",
    "                                                                            df[df['StockSymbol'] == 'AMZN'][['close_marketcap',\n",
    "                                                                                                            'StockSymbol']], test_size = .60)\n",
    "    \n",
    "    df_JNJ = df [ df['StockSymbol'] == 'JNJ' ]\n",
    "    X_train_JNJ, X_test_JNJ, y_train_JNJ, y_test_JNJ = train_test_split(df[df['StockSymbol'] == 'JNJ'][['country_isUS', 'articleDate', 'n_companies', 'source', 'positive_sentiment', 'negative_sentiment',\n",
    "    'neutral_sentiment', 'title_polarity', 'title_subjectivity', 'open_marketcap', 'high', 'low', 'StockSymbol']],\n",
    "                                                                            df[df['StockSymbol'] == 'JNJ'][['close_marketcap',\n",
    "                                                                                                            'StockSymbol']], test_size = .40)\n",
    "    \n",
    "    df_LLY = df [ df['StockSymbol'] == 'LLY' ]\n",
    "    X_train_LLY, X_test_LLY, y_train_LLY, y_test_LLY = train_test_split(df[df['StockSymbol'] == 'LLY'][['country_isUS', 'articleDate', 'n_companies', 'source', 'positive_sentiment', 'negative_sentiment',\n",
    "    'neutral_sentiment', 'title_polarity', 'title_subjectivity', 'open_marketcap', 'high', 'low', 'StockSymbol']],\n",
    "                                                                            df[df['StockSymbol'] == 'LLY'][['close_marketcap',\n",
    "                                                                                                            'StockSymbol']], test_size = .40)\n",
    "    \n",
    "    df_V = df [ df['StockSymbol'] == 'V' ]\n",
    "    X_train_V, X_test_V, y_train_V, y_test_V = train_test_split(df[df['StockSymbol'] == 'V'][['country_isUS', 'articleDate', 'n_companies', 'source', 'positive_sentiment', 'negative_sentiment',\n",
    "    'neutral_sentiment', 'title_polarity', 'title_subjectivity', 'open_marketcap', 'high', 'low', 'StockSymbol']],\n",
    "                                                                            df[df['StockSymbol'] == 'V'][['close_marketcap',\n",
    "                                                                                                            'StockSymbol']], test_size = .60)\n",
    "  \n",
    "    df_PG = df [ df['StockSymbol'] == 'PG' ]\n",
    "    X_train_PG, X_test_PG, y_train_PG, y_test_PG = train_test_split(df[df['StockSymbol'] == 'PG'][['country_isUS', 'articleDate', 'n_companies', 'source', 'positive_sentiment', 'negative_sentiment',\n",
    "    'neutral_sentiment', 'title_polarity', 'title_subjectivity', 'open_marketcap', 'high', 'low', 'StockSymbol']],\n",
    "                                                                            df[df['StockSymbol'] == 'PG'][['close_marketcap',\n",
    "                                                                                                            'StockSymbol']], test_size = .60)\n",
    "  \n",
    "    df_AVGO = df [ df['StockSymbol'] == 'AVGO' ]\n",
    "    X_train_AVGO, X_test_AVGO, y_train_AVGO, y_test_AVGO = train_test_split(df[df['StockSymbol'] == 'AVGO'][['country_isUS', 'articleDate', 'n_companies', 'source', 'positive_sentiment', 'negative_sentiment',\n",
    "    'neutral_sentiment', 'title_polarity', 'title_subjectivity', 'open_marketcap', 'high', 'low', 'StockSymbol']],\n",
    "                                                                            df[df['StockSymbol'] == 'AVGO'][['close_marketcap',\n",
    "                                                                                                            'StockSymbol']], test_size = .60)\n",
    "  \n",
    "    df_UNH = df [ df['StockSymbol'] == 'UNH' ]\n",
    "    X_train_UNH, X_test_UNH, y_train_UNH, y_test_UNH = train_test_split(df[df['StockSymbol'] == 'UNH'][['country_isUS', 'articleDate', 'n_companies', 'source', 'positive_sentiment', 'negative_sentiment',\n",
    "    'neutral_sentiment', 'title_polarity', 'title_subjectivity', 'open_marketcap', 'high', 'low', 'StockSymbol']],\n",
    "                                                                            df[df['StockSymbol'] == 'UNH'][['close_marketcap',\n",
    "                                                                                                            'StockSymbol']], test_size = .60)\n",
    "  \n",
    "    df_NVDA = df [ df['StockSymbol'] == 'NVDA' ]\n",
    "    X_train_NVDA, X_test_NVDA, y_train_NVDA, y_test_NVDA = train_test_split(df[df['StockSymbol'] == 'NVDA'][['country_isUS', 'articleDate', 'n_companies', 'source', 'positive_sentiment', 'negative_sentiment',\n",
    "    'neutral_sentiment', 'title_polarity', 'title_subjectivity', 'open_marketcap', 'high', 'low', 'StockSymbol']],\n",
    "                                                                            df[df['StockSymbol'] == 'NVDA'][['close_marketcap',\n",
    "                                                                                                            'StockSymbol']], test_size = .60)\n",
    "  \n",
    "    df_ABNB = df [ df['StockSymbol'] == 'ABNB' ]\n",
    "    X_train_ABNB, X_test_ABNB, y_train_ABNB, y_test_ABNB = train_test_split(df[df['StockSymbol'] == 'ABNB'][['country_isUS', 'articleDate', 'n_companies', 'source', 'positive_sentiment', 'negative_sentiment',\n",
    "    'neutral_sentiment', 'title_polarity', 'title_subjectivity', 'open_marketcap', 'high', 'low', 'StockSymbol']],\n",
    "                                                                            df[df['StockSymbol'] == 'ABNB'][['close_marketcap',\n",
    "                                                                                                            'StockSymbol']], test_size = .60)\n",
    "  \n",
    "    \n",
    "    X_train_joined = pd.concat([X_train_XOM, X_train_MSFT, X_train_GOOGL, X_train_META, X_train_AAPL, X_train_JPM, X_train_TSLA, X_train_MA, X_train_AMZN, X_train_JNJ, X_train_LLY, X_train_V, X_train_PG, X_train_AVGO, X_train_UNH, X_train_NVDA, X_train_ABNB],\n",
    "                          ignore_index=True)\n",
    "    X_test_joined =  pd.concat([X_test_XOM, X_test_MSFT, X_test_GOOGL, X_test_META, X_test_AAPL, X_test_JPM, X_test_TSLA, X_test_MA, X_test_AMZN, X_test_JNJ, X_test_LLY, X_test_V, X_test_PG, X_test_AVGO, X_test_UNH, X_test_NVDA, X_test_ABNB],\n",
    "                          ignore_index=True)\n",
    "    y_train_joined =  pd.concat([y_train_XOM, y_train_MSFT, y_train_GOOGL, y_train_META, y_train_AAPL, y_train_JPM, y_train_TSLA, y_train_MA, y_train_AMZN, y_train_JNJ, y_train_LLY, y_train_V, y_train_PG, y_train_AVGO, y_train_UNH, y_train_NVDA, y_train_ABNB],\n",
    "                          ignore_index=True)\n",
    "    y_test_joined = pd.concat([y_test_XOM, y_test_MSFT, y_test_GOOGL, y_test_META, y_test_AAPL, y_test_JPM, y_test_TSLA, y_test_MA, y_test_AMZN, y_test_JNJ, y_test_LLY, y_test_V, y_test_PG, y_test_AVGO, y_test_UNH, y_test_NVDA, y_test_ABNB],\n",
    "                          ignore_index=True)\n",
    "    return X_train_joined, X_test_joined,  y_train_joined, y_test_joined"
   ]
  },
  {
   "cell_type": "code",
   "execution_count": 46,
   "id": "687638c4-02b1-4735-8e49-3409c884f3a7",
   "metadata": {
    "tags": []
   },
   "outputs": [],
   "source": [
    "X_train_joined, X_test_joined,  y_train_joined, y_test_joined = train_test_full(df)"
   ]
  },
  {
   "cell_type": "code",
   "execution_count": 47,
   "id": "cfd9db9a-da25-41a4-b315-bde7ca99e862",
   "metadata": {
    "tags": []
   },
   "outputs": [
    {
     "data": {
      "text/plain": [
       "(7359, 13)"
      ]
     },
     "execution_count": 47,
     "metadata": {},
     "output_type": "execute_result"
    }
   ],
   "source": [
    "X_train_joined.shape"
   ]
  },
  {
   "cell_type": "code",
   "execution_count": 48,
   "id": "4ad0a47b-3276-4305-82d6-88f5272fc9e3",
   "metadata": {
    "tags": []
   },
   "outputs": [
    {
     "data": {
      "text/plain": [
       "country_isUS          0\n",
       "articleDate           0\n",
       "n_companies           0\n",
       "source                0\n",
       "positive_sentiment    0\n",
       "negative_sentiment    0\n",
       "neutral_sentiment     0\n",
       "title_polarity        0\n",
       "title_subjectivity    0\n",
       "open_marketcap        0\n",
       "high                  0\n",
       "low                   0\n",
       "StockSymbol           0\n",
       "dtype: int64"
      ]
     },
     "execution_count": 48,
     "metadata": {},
     "output_type": "execute_result"
    }
   ],
   "source": [
    "X_train_joined.isna().sum()"
   ]
  },
  {
   "cell_type": "code",
   "execution_count": 49,
   "id": "5f9bd65a-4cf4-45fc-94b2-4e0bd48cf34f",
   "metadata": {
    "tags": []
   },
   "outputs": [
    {
     "data": {
      "text/plain": [
       "(10112, 13)"
      ]
     },
     "execution_count": 49,
     "metadata": {},
     "output_type": "execute_result"
    }
   ],
   "source": [
    "X_test_joined.shape"
   ]
  },
  {
   "cell_type": "code",
   "execution_count": 50,
   "id": "bf46af1b-fa22-4372-98a5-8548b65d8998",
   "metadata": {
    "tags": []
   },
   "outputs": [
    {
     "data": {
      "text/plain": [
       "country_isUS          0\n",
       "articleDate           0\n",
       "n_companies           0\n",
       "source                0\n",
       "positive_sentiment    0\n",
       "negative_sentiment    0\n",
       "neutral_sentiment     0\n",
       "title_polarity        0\n",
       "title_subjectivity    0\n",
       "open_marketcap        0\n",
       "high                  0\n",
       "low                   0\n",
       "StockSymbol           0\n",
       "dtype: int64"
      ]
     },
     "execution_count": 50,
     "metadata": {},
     "output_type": "execute_result"
    }
   ],
   "source": [
    "X_test_joined.isna().sum()"
   ]
  },
  {
   "cell_type": "code",
   "execution_count": 51,
   "id": "cabe1b25-3eae-474d-bf01-fc750c3362d0",
   "metadata": {
    "tags": []
   },
   "outputs": [
    {
     "data": {
      "text/plain": [
       "(7359, 2)"
      ]
     },
     "execution_count": 51,
     "metadata": {},
     "output_type": "execute_result"
    }
   ],
   "source": [
    "y_train_joined.shape"
   ]
  },
  {
   "cell_type": "code",
   "execution_count": 52,
   "id": "40457d08-87a0-4154-9962-3026909cb308",
   "metadata": {
    "tags": []
   },
   "outputs": [
    {
     "data": {
      "text/plain": [
       "(10112, 2)"
      ]
     },
     "execution_count": 52,
     "metadata": {},
     "output_type": "execute_result"
    }
   ],
   "source": [
    "y_test_joined.shape"
   ]
  },
  {
   "cell_type": "code",
   "execution_count": 53,
   "id": "12763175-eff4-4fb6-ab59-dcc2a5ebf338",
   "metadata": {
    "tags": []
   },
   "outputs": [
    {
     "data": {
      "text/plain": [
       "close_marketcap    0\n",
       "StockSymbol        0\n",
       "dtype: int64"
      ]
     },
     "execution_count": 53,
     "metadata": {},
     "output_type": "execute_result"
    }
   ],
   "source": [
    "y_train_joined.isna().sum()"
   ]
  },
  {
   "cell_type": "code",
   "execution_count": 55,
   "id": "185cc53e-a557-475a-8e7b-4f9181358e7a",
   "metadata": {
    "tags": []
   },
   "outputs": [
    {
     "data": {
      "text/plain": [
       "close_marketcap    0\n",
       "StockSymbol        0\n",
       "dtype: int64"
      ]
     },
     "execution_count": 55,
     "metadata": {},
     "output_type": "execute_result"
    }
   ],
   "source": [
    "y_test_joined.isna().sum()"
   ]
  },
  {
   "cell_type": "code",
   "execution_count": null,
   "id": "cfb70d07-d377-4363-b707-9606c06d0c56",
   "metadata": {},
   "outputs": [],
   "source": [
    "y_train.drop(columns=['StockSymbol']) "
   ]
  },
  {
   "cell_type": "code",
   "execution_count": 97,
   "id": "7e8987ca-4d72-463f-bd7e-39d9eb8a674e",
   "metadata": {
    "tags": []
   },
   "outputs": [],
   "source": [
    "X = df[ ['country_isUS', 'articleDate', 'n_companies', 'source', 'positive_sentiment', 'negative_sentiment',\n",
    "'neutral_sentiment', 'title_polarity', 'title_subjectivity', 'open_marketcap', 'high', 'low', 'StockSymbol'] ]\n",
    "y = df[ ['close_marketcap', 'StockSymbol'] ]\n",
    "\n",
    "\n"
   ]
  },
  {
   "cell_type": "code",
   "execution_count": 92,
   "id": "96e10445-e6df-46f5-a1b2-a79f1e5ba053",
   "metadata": {},
   "outputs": [],
   "source": [
    "#create a subset of the data based off a ticker input\n",
    "\n",
    "#full splitter\n",
    "\n",
    "def selectStockX(X):\n",
    "    stock = input(\"Input the Stock Ticker of the company you would like to predict.\")\n",
    "    X_test_subset = X_test[X_test['StockSymbol'] == stock]\n",
    "    return X_test_subset  #is this necessary?\n",
    "\n",
    "def selectStockY(y):\n",
    "    stock = input(\"Input the Stock Ticker of the company you would like to predict.\")\n",
    "    y_test_subset = y_test[y_test['StockSymbol'] == stock]\n",
    "    return y_test_subset"
   ]
  },
  {
   "cell_type": "code",
   "execution_count": 60,
   "id": "e1c4e750-3259-4c54-9bee-e130b54358a6",
   "metadata": {
    "tags": []
   },
   "outputs": [
    {
     "name": "stdin",
     "output_type": "stream",
     "text": [
      "Input the Stock Ticker of the company you would like to predict. MSFT\n"
     ]
    }
   ],
   "source": [
    "X_test_subset = selectStockX(df)"
   ]
  },
  {
   "cell_type": "code",
   "execution_count": 62,
   "id": "0ab13d1c-673c-4e30-a674-acfc34c274bd",
   "metadata": {
    "tags": []
   },
   "outputs": [
    {
     "name": "stdin",
     "output_type": "stream",
     "text": [
      "Input the Stock Ticker of the company you would like to predict. MSFT\n"
     ]
    }
   ],
   "source": [
    "y_test_subset = selectStockY(df)"
   ]
  },
  {
   "cell_type": "code",
   "execution_count": 63,
   "id": "fb986ece-552d-4758-b1c3-be4c4429e027",
   "metadata": {
    "tags": []
   },
   "outputs": [
    {
     "data": {
      "text/plain": [
       "(528, 13)"
      ]
     },
     "execution_count": 63,
     "metadata": {},
     "output_type": "execute_result"
    }
   ],
   "source": [
    "X_test_subset.shape"
   ]
  },
  {
   "cell_type": "code",
   "execution_count": 64,
   "id": "aac23720-a4cd-4b73-9446-10412d38a2f1",
   "metadata": {
    "tags": []
   },
   "outputs": [
    {
     "data": {
      "text/plain": [
       "(528, 2)"
      ]
     },
     "execution_count": 64,
     "metadata": {},
     "output_type": "execute_result"
    }
   ],
   "source": [
    "y_test_subset.shape"
   ]
  },
  {
   "cell_type": "code",
   "execution_count": null,
   "id": "c39ea0d8-2968-42e7-b487-f7160af22db3",
   "metadata": {},
   "outputs": [],
   "source": [
    "def stock_picker(X_train_joined, X_train_joined, y_test_joined, X_train_joined):\n",
    "    stock_input = input(\"Enter the Stock Symbol of the company you would like to predict: \")\n",
    "        if stock_input not in stock_list:\n",
    "            while stock_input not in stock_list:\n",
    "                print(\"You have entered stock symbol that is not recognized by our model.\")\n",
    "                stock_input = input(\"Please enter the Stock Symbol of the company you would like to predict: \")\n",
    "    X_test_stockinput = X_test_joined[  X_test_joined['StockSymbol'] == stock_input ]\n",
    "    X_train_stockinput = X_train_joined[ X_train_joined['StockSymbol'] == stock_input ]\n",
    "    y_test_stockinput = y_test_joined[ y_test_joined['StockSymbol'] == stock_input ]\n",
    "    X_train_stockinput = X_train_joined[ X_train_joined['StockSymbol'] == stock_input ]\n",
    "    #y_train = y_train.drop(columns=['StockSymbol']) \n",
    "    #y_test = y_train.drop(columns=['StockSymbol']) \n",
    "    "
   ]
  },
  {
   "cell_type": "code",
   "execution_count": 65,
   "id": "72021146-3483-44b1-9be7-8905c7958e98",
   "metadata": {
    "tags": []
   },
   "outputs": [],
   "source": [
    "X_test_subset = X_test_subset.drop(columns=['StockSymbol'])\n",
    "y_test_subset = y_test_subset.drop(columns=['StockSymbol']) \n",
    "#put the above two lines in the selectStock functions\n",
    "\n"
   ]
  },
  {
   "cell_type": "code",
   "execution_count": 72,
   "id": "05d5faee-3ea8-470f-8888-e144fb4d627d",
   "metadata": {
    "tags": []
   },
   "outputs": [],
   "source": [
    "X_train = X_train.drop(columns=['StockSymbol'])\n",
    "y_train = y_train.drop(columns=['StockSymbol']) "
   ]
  },
  {
   "cell_type": "code",
   "execution_count": 66,
   "id": "a2a33106-cf88-4da0-ba4f-ba3be84dd722",
   "metadata": {
    "tags": []
   },
   "outputs": [
    {
     "data": {
      "text/html": [
       "<div>\n",
       "<style scoped>\n",
       "    .dataframe tbody tr th:only-of-type {\n",
       "        vertical-align: middle;\n",
       "    }\n",
       "\n",
       "    .dataframe tbody tr th {\n",
       "        vertical-align: top;\n",
       "    }\n",
       "\n",
       "    .dataframe thead th {\n",
       "        text-align: right;\n",
       "    }\n",
       "</style>\n",
       "<table border=\"1\" class=\"dataframe\">\n",
       "  <thead>\n",
       "    <tr style=\"text-align: right;\">\n",
       "      <th></th>\n",
       "      <th>close_marketcap</th>\n",
       "      <th>StockSymbol</th>\n",
       "    </tr>\n",
       "  </thead>\n",
       "  <tbody>\n",
       "    <tr>\n",
       "      <th>11055</th>\n",
       "      <td>19485952712</td>\n",
       "      <td>NVDA</td>\n",
       "    </tr>\n",
       "    <tr>\n",
       "      <th>10637</th>\n",
       "      <td>11679930154</td>\n",
       "      <td>MSFT</td>\n",
       "    </tr>\n",
       "    <tr>\n",
       "      <th>4828</th>\n",
       "      <td>23848202850</td>\n",
       "      <td>JNJ</td>\n",
       "    </tr>\n",
       "    <tr>\n",
       "      <th>9406</th>\n",
       "      <td>10663817094</td>\n",
       "      <td>META</td>\n",
       "    </tr>\n",
       "    <tr>\n",
       "      <th>11665</th>\n",
       "      <td>5212864770</td>\n",
       "      <td>PG</td>\n",
       "    </tr>\n",
       "    <tr>\n",
       "      <th>...</th>\n",
       "      <td>...</td>\n",
       "      <td>...</td>\n",
       "    </tr>\n",
       "    <tr>\n",
       "      <th>11810</th>\n",
       "      <td>8675629891</td>\n",
       "      <td>PG</td>\n",
       "    </tr>\n",
       "    <tr>\n",
       "      <th>10749</th>\n",
       "      <td>14090257118</td>\n",
       "      <td>MSFT</td>\n",
       "    </tr>\n",
       "    <tr>\n",
       "      <th>6380</th>\n",
       "      <td>9915032285</td>\n",
       "      <td>JPM</td>\n",
       "    </tr>\n",
       "    <tr>\n",
       "      <th>15731</th>\n",
       "      <td>15336413000</td>\n",
       "      <td>XOM</td>\n",
       "    </tr>\n",
       "    <tr>\n",
       "      <th>8149</th>\n",
       "      <td>8919628697</td>\n",
       "      <td>MA</td>\n",
       "    </tr>\n",
       "  </tbody>\n",
       "</table>\n",
       "<p>8971 rows × 2 columns</p>\n",
       "</div>"
      ],
      "text/plain": [
       "       close_marketcap StockSymbol\n",
       "11055      19485952712        NVDA\n",
       "10637      11679930154        MSFT\n",
       "4828       23848202850         JNJ\n",
       "9406       10663817094        META\n",
       "11665       5212864770          PG\n",
       "...                ...         ...\n",
       "11810       8675629891          PG\n",
       "10749      14090257118        MSFT\n",
       "6380        9915032285         JPM\n",
       "15731      15336413000         XOM\n",
       "8149        8919628697          MA\n",
       "\n",
       "[8971 rows x 2 columns]"
      ]
     },
     "execution_count": 66,
     "metadata": {},
     "output_type": "execute_result"
    }
   ],
   "source": [
    "y_train"
   ]
  },
  {
   "cell_type": "code",
   "execution_count": 44,
   "id": "d13aec40-d37d-440e-b065-3c2c2cce9c9e",
   "metadata": {
    "tags": []
   },
   "outputs": [
    {
     "data": {
      "text/plain": [
       "close_marketcap    0\n",
       "StockSymbol        0\n",
       "dtype: int64"
      ]
     },
     "execution_count": 44,
     "metadata": {},
     "output_type": "execute_result"
    }
   ],
   "source": [
    "y_test.isna().sum()"
   ]
  },
  {
   "cell_type": "code",
   "execution_count": 84,
   "id": "bfd447c8-348a-4817-80b4-9dc567b7bdd4",
   "metadata": {
    "tags": []
   },
   "outputs": [
    {
     "data": {
      "text/html": [
       "<style>#sk-container-id-14 {color: black;}#sk-container-id-14 pre{padding: 0;}#sk-container-id-14 div.sk-toggleable {background-color: white;}#sk-container-id-14 label.sk-toggleable__label {cursor: pointer;display: block;width: 100%;margin-bottom: 0;padding: 0.3em;box-sizing: border-box;text-align: center;}#sk-container-id-14 label.sk-toggleable__label-arrow:before {content: \"▸\";float: left;margin-right: 0.25em;color: #696969;}#sk-container-id-14 label.sk-toggleable__label-arrow:hover:before {color: black;}#sk-container-id-14 div.sk-estimator:hover label.sk-toggleable__label-arrow:before {color: black;}#sk-container-id-14 div.sk-toggleable__content {max-height: 0;max-width: 0;overflow: hidden;text-align: left;background-color: #f0f8ff;}#sk-container-id-14 div.sk-toggleable__content pre {margin: 0.2em;color: black;border-radius: 0.25em;background-color: #f0f8ff;}#sk-container-id-14 input.sk-toggleable__control:checked~div.sk-toggleable__content {max-height: 200px;max-width: 100%;overflow: auto;}#sk-container-id-14 input.sk-toggleable__control:checked~label.sk-toggleable__label-arrow:before {content: \"▾\";}#sk-container-id-14 div.sk-estimator input.sk-toggleable__control:checked~label.sk-toggleable__label {background-color: #d4ebff;}#sk-container-id-14 div.sk-label input.sk-toggleable__control:checked~label.sk-toggleable__label {background-color: #d4ebff;}#sk-container-id-14 input.sk-hidden--visually {border: 0;clip: rect(1px 1px 1px 1px);clip: rect(1px, 1px, 1px, 1px);height: 1px;margin: -1px;overflow: hidden;padding: 0;position: absolute;width: 1px;}#sk-container-id-14 div.sk-estimator {font-family: monospace;background-color: #f0f8ff;border: 1px dotted black;border-radius: 0.25em;box-sizing: border-box;margin-bottom: 0.5em;}#sk-container-id-14 div.sk-estimator:hover {background-color: #d4ebff;}#sk-container-id-14 div.sk-parallel-item::after {content: \"\";width: 100%;border-bottom: 1px solid gray;flex-grow: 1;}#sk-container-id-14 div.sk-label:hover label.sk-toggleable__label {background-color: #d4ebff;}#sk-container-id-14 div.sk-serial::before {content: \"\";position: absolute;border-left: 1px solid gray;box-sizing: border-box;top: 0;bottom: 0;left: 50%;z-index: 0;}#sk-container-id-14 div.sk-serial {display: flex;flex-direction: column;align-items: center;background-color: white;padding-right: 0.2em;padding-left: 0.2em;position: relative;}#sk-container-id-14 div.sk-item {position: relative;z-index: 1;}#sk-container-id-14 div.sk-parallel {display: flex;align-items: stretch;justify-content: center;background-color: white;position: relative;}#sk-container-id-14 div.sk-item::before, #sk-container-id-14 div.sk-parallel-item::before {content: \"\";position: absolute;border-left: 1px solid gray;box-sizing: border-box;top: 0;bottom: 0;left: 50%;z-index: -1;}#sk-container-id-14 div.sk-parallel-item {display: flex;flex-direction: column;z-index: 1;position: relative;background-color: white;}#sk-container-id-14 div.sk-parallel-item:first-child::after {align-self: flex-end;width: 50%;}#sk-container-id-14 div.sk-parallel-item:last-child::after {align-self: flex-start;width: 50%;}#sk-container-id-14 div.sk-parallel-item:only-child::after {width: 0;}#sk-container-id-14 div.sk-dashed-wrapped {border: 1px dashed gray;margin: 0 0.4em 0.5em 0.4em;box-sizing: border-box;padding-bottom: 0.4em;background-color: white;}#sk-container-id-14 div.sk-label label {font-family: monospace;font-weight: bold;display: inline-block;line-height: 1.2em;}#sk-container-id-14 div.sk-label-container {text-align: center;}#sk-container-id-14 div.sk-container {/* jupyter's `normalize.less` sets `[hidden] { display: none; }` but bootstrap.min.css set `[hidden] { display: none !important; }` so we also need the `!important` here to be able to override the default hidden behavior on the sphinx rendered scikit-learn.org. See: https://github.com/scikit-learn/scikit-learn/issues/21755 */display: inline-block !important;position: relative;}#sk-container-id-14 div.sk-text-repr-fallback {display: none;}</style><div id=\"sk-container-id-14\" class=\"sk-top-container\"><div class=\"sk-text-repr-fallback\"><pre>Pipeline(steps=[(&#x27;preprocessor&#x27;,\n",
       "                 FeatureUnion(transformer_list=[(&#x27;cat&#x27;,\n",
       "                                                 Pipeline(steps=[(&#x27;selector&#x27;,\n",
       "                                                                  ColumnTransformer(transformers=[(&#x27;selector&#x27;,\n",
       "                                                                                                   &#x27;passthrough&#x27;,\n",
       "                                                                                                   [&#x27;articleDate&#x27;,\n",
       "                                                                                                    &#x27;source&#x27;,\n",
       "                                                                                                    &#x27;country_isUS&#x27;])])),\n",
       "                                                                 (&#x27;encoder&#x27;,\n",
       "                                                                  OneHotEncoder(drop=&#x27;first&#x27;,\n",
       "                                                                                dtype=&lt;class &#x27;int&#x27;&gt;,\n",
       "                                                                                sparse_output=False))])),\n",
       "                                                (&#x27;num&#x27;,\n",
       "                                                 Pipeline(steps=[(&#x27;selector&#x27;,\n",
       "                                                                  ColumnTransformer(transformers=[(&#x27;selector&#x27;,\n",
       "                                                                                                   &#x27;passthrough&#x27;,\n",
       "                                                                                                   [&#x27;open_marketcap&#x27;,\n",
       "                                                                                                    &#x27;high&#x27;,\n",
       "                                                                                                    &#x27;low&#x27;,\n",
       "                                                                                                    &#x27;positive_sentiment&#x27;,\n",
       "                                                                                                    &#x27;negative_sentiment&#x27;,\n",
       "                                                                                                    &#x27;neutral_sentiment&#x27;,\n",
       "                                                                                                    &#x27;title_polarity&#x27;,\n",
       "                                                                                                    &#x27;title_subjectivity&#x27;,\n",
       "                                                                                                    &#x27;n_companies&#x27;])])),\n",
       "                                                                 (&#x27;scaler&#x27;,\n",
       "                                                                  StandardScaler())]))])),\n",
       "                (&#x27;gradient&#x27;, GradientBoostingRegressor())],\n",
       "         verbose=True)</pre><b>In a Jupyter environment, please rerun this cell to show the HTML representation or trust the notebook. <br />On GitHub, the HTML representation is unable to render, please try loading this page with nbviewer.org.</b></div><div class=\"sk-container\" hidden><div class=\"sk-item sk-dashed-wrapped\"><div class=\"sk-label-container\"><div class=\"sk-label sk-toggleable\"><input class=\"sk-toggleable__control sk-hidden--visually\" id=\"sk-estimator-id-144\" type=\"checkbox\" ><label for=\"sk-estimator-id-144\" class=\"sk-toggleable__label sk-toggleable__label-arrow\">Pipeline</label><div class=\"sk-toggleable__content\"><pre>Pipeline(steps=[(&#x27;preprocessor&#x27;,\n",
       "                 FeatureUnion(transformer_list=[(&#x27;cat&#x27;,\n",
       "                                                 Pipeline(steps=[(&#x27;selector&#x27;,\n",
       "                                                                  ColumnTransformer(transformers=[(&#x27;selector&#x27;,\n",
       "                                                                                                   &#x27;passthrough&#x27;,\n",
       "                                                                                                   [&#x27;articleDate&#x27;,\n",
       "                                                                                                    &#x27;source&#x27;,\n",
       "                                                                                                    &#x27;country_isUS&#x27;])])),\n",
       "                                                                 (&#x27;encoder&#x27;,\n",
       "                                                                  OneHotEncoder(drop=&#x27;first&#x27;,\n",
       "                                                                                dtype=&lt;class &#x27;int&#x27;&gt;,\n",
       "                                                                                sparse_output=False))])),\n",
       "                                                (&#x27;num&#x27;,\n",
       "                                                 Pipeline(steps=[(&#x27;selector&#x27;,\n",
       "                                                                  ColumnTransformer(transformers=[(&#x27;selector&#x27;,\n",
       "                                                                                                   &#x27;passthrough&#x27;,\n",
       "                                                                                                   [&#x27;open_marketcap&#x27;,\n",
       "                                                                                                    &#x27;high&#x27;,\n",
       "                                                                                                    &#x27;low&#x27;,\n",
       "                                                                                                    &#x27;positive_sentiment&#x27;,\n",
       "                                                                                                    &#x27;negative_sentiment&#x27;,\n",
       "                                                                                                    &#x27;neutral_sentiment&#x27;,\n",
       "                                                                                                    &#x27;title_polarity&#x27;,\n",
       "                                                                                                    &#x27;title_subjectivity&#x27;,\n",
       "                                                                                                    &#x27;n_companies&#x27;])])),\n",
       "                                                                 (&#x27;scaler&#x27;,\n",
       "                                                                  StandardScaler())]))])),\n",
       "                (&#x27;gradient&#x27;, GradientBoostingRegressor())],\n",
       "         verbose=True)</pre></div></div></div><div class=\"sk-serial\"><div class=\"sk-item sk-dashed-wrapped\"><div class=\"sk-label-container\"><div class=\"sk-label sk-toggleable\"><input class=\"sk-toggleable__control sk-hidden--visually\" id=\"sk-estimator-id-145\" type=\"checkbox\" ><label for=\"sk-estimator-id-145\" class=\"sk-toggleable__label sk-toggleable__label-arrow\">preprocessor: FeatureUnion</label><div class=\"sk-toggleable__content\"><pre>FeatureUnion(transformer_list=[(&#x27;cat&#x27;,\n",
       "                                Pipeline(steps=[(&#x27;selector&#x27;,\n",
       "                                                 ColumnTransformer(transformers=[(&#x27;selector&#x27;,\n",
       "                                                                                  &#x27;passthrough&#x27;,\n",
       "                                                                                  [&#x27;articleDate&#x27;,\n",
       "                                                                                   &#x27;source&#x27;,\n",
       "                                                                                   &#x27;country_isUS&#x27;])])),\n",
       "                                                (&#x27;encoder&#x27;,\n",
       "                                                 OneHotEncoder(drop=&#x27;first&#x27;,\n",
       "                                                               dtype=&lt;class &#x27;int&#x27;&gt;,\n",
       "                                                               sparse_output=False))])),\n",
       "                               (&#x27;num&#x27;,\n",
       "                                Pipeline(steps=[(&#x27;selector&#x27;,\n",
       "                                                 ColumnTransformer(transformers=[(&#x27;selector&#x27;,\n",
       "                                                                                  &#x27;passthrough&#x27;,\n",
       "                                                                                  [&#x27;open_marketcap&#x27;,\n",
       "                                                                                   &#x27;high&#x27;,\n",
       "                                                                                   &#x27;low&#x27;,\n",
       "                                                                                   &#x27;positive_sentiment&#x27;,\n",
       "                                                                                   &#x27;negative_sentiment&#x27;,\n",
       "                                                                                   &#x27;neutral_sentiment&#x27;,\n",
       "                                                                                   &#x27;title_polarity&#x27;,\n",
       "                                                                                   &#x27;title_subjectivity&#x27;,\n",
       "                                                                                   &#x27;n_companies&#x27;])])),\n",
       "                                                (&#x27;scaler&#x27;,\n",
       "                                                 StandardScaler())]))])</pre></div></div></div><div class=\"sk-parallel\"><div class=\"sk-parallel-item\"><div class=\"sk-item\"><div class=\"sk-label-container\"><div class=\"sk-label sk-toggleable\"><label>cat</label></div></div><div class=\"sk-serial\"><div class=\"sk-item\"><div class=\"sk-serial\"><div class=\"sk-item sk-dashed-wrapped\"><div class=\"sk-label-container\"><div class=\"sk-label sk-toggleable\"><input class=\"sk-toggleable__control sk-hidden--visually\" id=\"sk-estimator-id-146\" type=\"checkbox\" ><label for=\"sk-estimator-id-146\" class=\"sk-toggleable__label sk-toggleable__label-arrow\">selector: ColumnTransformer</label><div class=\"sk-toggleable__content\"><pre>ColumnTransformer(transformers=[(&#x27;selector&#x27;, &#x27;passthrough&#x27;,\n",
       "                                 [&#x27;articleDate&#x27;, &#x27;source&#x27;, &#x27;country_isUS&#x27;])])</pre></div></div></div><div class=\"sk-parallel\"><div class=\"sk-parallel-item\"><div class=\"sk-item\"><div class=\"sk-label-container\"><div class=\"sk-label sk-toggleable\"><input class=\"sk-toggleable__control sk-hidden--visually\" id=\"sk-estimator-id-147\" type=\"checkbox\" ><label for=\"sk-estimator-id-147\" class=\"sk-toggleable__label sk-toggleable__label-arrow\">selector</label><div class=\"sk-toggleable__content\"><pre>[&#x27;articleDate&#x27;, &#x27;source&#x27;, &#x27;country_isUS&#x27;]</pre></div></div></div><div class=\"sk-serial\"><div class=\"sk-item\"><div class=\"sk-estimator sk-toggleable\"><input class=\"sk-toggleable__control sk-hidden--visually\" id=\"sk-estimator-id-148\" type=\"checkbox\" ><label for=\"sk-estimator-id-148\" class=\"sk-toggleable__label sk-toggleable__label-arrow\">passthrough</label><div class=\"sk-toggleable__content\"><pre>passthrough</pre></div></div></div></div></div></div></div></div><div class=\"sk-item\"><div class=\"sk-estimator sk-toggleable\"><input class=\"sk-toggleable__control sk-hidden--visually\" id=\"sk-estimator-id-149\" type=\"checkbox\" ><label for=\"sk-estimator-id-149\" class=\"sk-toggleable__label sk-toggleable__label-arrow\">OneHotEncoder</label><div class=\"sk-toggleable__content\"><pre>OneHotEncoder(drop=&#x27;first&#x27;, dtype=&lt;class &#x27;int&#x27;&gt;, sparse_output=False)</pre></div></div></div></div></div></div></div></div><div class=\"sk-parallel-item\"><div class=\"sk-item\"><div class=\"sk-label-container\"><div class=\"sk-label sk-toggleable\"><label>num</label></div></div><div class=\"sk-serial\"><div class=\"sk-item\"><div class=\"sk-serial\"><div class=\"sk-item sk-dashed-wrapped\"><div class=\"sk-label-container\"><div class=\"sk-label sk-toggleable\"><input class=\"sk-toggleable__control sk-hidden--visually\" id=\"sk-estimator-id-150\" type=\"checkbox\" ><label for=\"sk-estimator-id-150\" class=\"sk-toggleable__label sk-toggleable__label-arrow\">selector: ColumnTransformer</label><div class=\"sk-toggleable__content\"><pre>ColumnTransformer(transformers=[(&#x27;selector&#x27;, &#x27;passthrough&#x27;,\n",
       "                                 [&#x27;open_marketcap&#x27;, &#x27;high&#x27;, &#x27;low&#x27;,\n",
       "                                  &#x27;positive_sentiment&#x27;, &#x27;negative_sentiment&#x27;,\n",
       "                                  &#x27;neutral_sentiment&#x27;, &#x27;title_polarity&#x27;,\n",
       "                                  &#x27;title_subjectivity&#x27;, &#x27;n_companies&#x27;])])</pre></div></div></div><div class=\"sk-parallel\"><div class=\"sk-parallel-item\"><div class=\"sk-item\"><div class=\"sk-label-container\"><div class=\"sk-label sk-toggleable\"><input class=\"sk-toggleable__control sk-hidden--visually\" id=\"sk-estimator-id-151\" type=\"checkbox\" ><label for=\"sk-estimator-id-151\" class=\"sk-toggleable__label sk-toggleable__label-arrow\">selector</label><div class=\"sk-toggleable__content\"><pre>[&#x27;open_marketcap&#x27;, &#x27;high&#x27;, &#x27;low&#x27;, &#x27;positive_sentiment&#x27;, &#x27;negative_sentiment&#x27;, &#x27;neutral_sentiment&#x27;, &#x27;title_polarity&#x27;, &#x27;title_subjectivity&#x27;, &#x27;n_companies&#x27;]</pre></div></div></div><div class=\"sk-serial\"><div class=\"sk-item\"><div class=\"sk-estimator sk-toggleable\"><input class=\"sk-toggleable__control sk-hidden--visually\" id=\"sk-estimator-id-152\" type=\"checkbox\" ><label for=\"sk-estimator-id-152\" class=\"sk-toggleable__label sk-toggleable__label-arrow\">passthrough</label><div class=\"sk-toggleable__content\"><pre>passthrough</pre></div></div></div></div></div></div></div></div><div class=\"sk-item\"><div class=\"sk-estimator sk-toggleable\"><input class=\"sk-toggleable__control sk-hidden--visually\" id=\"sk-estimator-id-153\" type=\"checkbox\" ><label for=\"sk-estimator-id-153\" class=\"sk-toggleable__label sk-toggleable__label-arrow\">StandardScaler</label><div class=\"sk-toggleable__content\"><pre>StandardScaler()</pre></div></div></div></div></div></div></div></div></div></div><div class=\"sk-item\"><div class=\"sk-estimator sk-toggleable\"><input class=\"sk-toggleable__control sk-hidden--visually\" id=\"sk-estimator-id-154\" type=\"checkbox\" ><label for=\"sk-estimator-id-154\" class=\"sk-toggleable__label sk-toggleable__label-arrow\">GradientBoostingRegressor</label><div class=\"sk-toggleable__content\"><pre>GradientBoostingRegressor()</pre></div></div></div></div></div></div></div>"
      ],
      "text/plain": [
       "Pipeline(steps=[('preprocessor',\n",
       "                 FeatureUnion(transformer_list=[('cat',\n",
       "                                                 Pipeline(steps=[('selector',\n",
       "                                                                  ColumnTransformer(transformers=[('selector',\n",
       "                                                                                                   'passthrough',\n",
       "                                                                                                   ['articleDate',\n",
       "                                                                                                    'source',\n",
       "                                                                                                    'country_isUS'])])),\n",
       "                                                                 ('encoder',\n",
       "                                                                  OneHotEncoder(drop='first',\n",
       "                                                                                dtype=<class 'int'>,\n",
       "                                                                                sparse_output=False))])),\n",
       "                                                ('num',\n",
       "                                                 Pipeline(steps=[('selector',\n",
       "                                                                  ColumnTransformer(transformers=[('selector',\n",
       "                                                                                                   'passthrough',\n",
       "                                                                                                   ['open_marketcap',\n",
       "                                                                                                    'high',\n",
       "                                                                                                    'low',\n",
       "                                                                                                    'positive_sentiment',\n",
       "                                                                                                    'negative_sentiment',\n",
       "                                                                                                    'neutral_sentiment',\n",
       "                                                                                                    'title_polarity',\n",
       "                                                                                                    'title_subjectivity',\n",
       "                                                                                                    'n_companies'])])),\n",
       "                                                                 ('scaler',\n",
       "                                                                  StandardScaler())]))])),\n",
       "                ('gradient', GradientBoostingRegressor())],\n",
       "         verbose=True)"
      ]
     },
     "execution_count": 84,
     "metadata": {},
     "output_type": "execute_result"
    }
   ],
   "source": [
    "lstNum = ['open_marketcap', 'high', 'low', 'positive_sentiment', 'negative_sentiment', 'neutral_sentiment', 'title_polarity', 'title_subjectivity', 'n_companies']    \n",
    "lstCat = ['articleDate','source', 'country_isUS']\n",
    "\n",
    "pipeNum = Pipeline( [\n",
    "    ('selector', ColumnTransformer([ ('selector', 'passthrough', lstNum) ] )),\n",
    "    ('scaler', StandardScaler()) ])\n",
    "\n",
    "pipeCat = Pipeline([\n",
    "('selector', ColumnTransformer([ ('selector', 'passthrough', lstCat ) ] )),\n",
    "('encoder', OneHotEncoder( dtype=int, drop='first', sparse_output = False ) ) ])\n",
    "\n",
    "preprocessor = FeatureUnion([('cat', pipeCat), ('num', pipeNum)])\n",
    "\n",
    "pipeGbr1 = Pipeline([\n",
    "    ('preprocessor', preprocessor ), ('gradient', GradientBoostingRegressor())\n",
    "], verbose=True )\n",
    "pipeGbr1"
   ]
  },
  {
   "cell_type": "code",
   "execution_count": null,
   "id": "f095c84c-1e3d-4a6d-a740-9bde39c35527",
   "metadata": {},
   "outputs": [],
   "source": []
  },
  {
   "cell_type": "code",
   "execution_count": null,
   "id": "f244a257-afc9-4344-a140-bfcf5e9c1953",
   "metadata": {},
   "outputs": [],
   "source": []
  }
 ],
 "metadata": {
  "kernelspec": {
   "display_name": "Python 3 (ipykernel)",
   "language": "python",
   "name": "python3"
  },
  "language_info": {
   "codemirror_mode": {
    "name": "ipython",
    "version": 3
   },
   "file_extension": ".py",
   "mimetype": "text/x-python",
   "name": "python",
   "nbconvert_exporter": "python",
   "pygments_lexer": "ipython3",
   "version": "3.11.5"
  }
 },
 "nbformat": 4,
 "nbformat_minor": 5
}
