{
 "cells": [
  {
   "cell_type": "code",
   "execution_count": 125,
   "id": "fc4eaecc-a4a9-4a7f-9822-5c14e208eae4",
   "metadata": {
    "tags": []
   },
   "outputs": [
    {
     "name": "stdout",
     "output_type": "stream",
     "text": [
      "                                                 url       authorsByline  \\\n",
      "0  https://metanews.com/apple-is-planning-new-vr-...  Michelle D. Madsen   \n",
      "\n",
      "                          articleId                         clusterId  \\\n",
      "0  1547c46f151e44958c13c55b7d2a62c3  ea338e867b2742788d161e10eac0ad8a   \n",
      "\n",
      "                                         source  \\\n",
      "0  {'domain': 'metanews.com', 'location': None}   \n",
      "\n",
      "                                            imageUrl country language  \\\n",
      "0  https://metanews.com/wp-content/uploads/2022/0...      us       en   \n",
      "\n",
      "                     pubDate                    addDate  ...  \\\n",
      "0  2022-03-03T23:17:31+00:00  2022-03-03T23:17:31+00:00  ...   \n",
      "\n",
      "                                            entities  \\\n",
      "0  [{'data': 'Apple', 'type': 'ORG', 'mentions': ...   \n",
      "\n",
      "                                           companies  \\\n",
      "0  [{'id': '5985872d662c4a3f941a9c581a9fce71', 'n...   \n",
      "\n",
      "                                           sentiment  \\\n",
      "0  {'positive': 0.06747531, 'negative': 0.0125826...   \n",
      "\n",
      "                                             summary translation locations  \\\n",
      "0  BlackRock has launched a thematic equity fund ...                    []   \n",
      "\n",
      "  reprint                    reprintGroupId places  \\\n",
      "0   False  c7d554a704c349c4a2b137c8302f855a     []   \n",
      "\n",
      "                                              people  \n",
      "0  [{'wikidataId': 'Q36215', 'name': 'Mark Zucker...  \n",
      "\n",
      "[1 rows x 34 columns]\n"
     ]
    },
    {
     "data": {
      "text/plain": [
       "url                object\n",
       "authorsByline      object\n",
       "articleId          object\n",
       "clusterId          object\n",
       "source             object\n",
       "imageUrl           object\n",
       "country            object\n",
       "language           object\n",
       "pubDate            object\n",
       "addDate            object\n",
       "refreshDate        object\n",
       "score             float64\n",
       "title              object\n",
       "description        object\n",
       "content            object\n",
       "medium             object\n",
       "links              object\n",
       "labels             object\n",
       "matchedAuthors     object\n",
       "claim              object\n",
       "verdict            object\n",
       "keywords           object\n",
       "topics             object\n",
       "categories         object\n",
       "entities           object\n",
       "companies          object\n",
       "sentiment          object\n",
       "summary            object\n",
       "translation        object\n",
       "locations          object\n",
       "reprint              bool\n",
       "reprintGroupId     object\n",
       "places             object\n",
       "people             object\n",
       "dtype: object"
      ]
     },
     "execution_count": 125,
     "metadata": {},
     "output_type": "execute_result"
    }
   ],
   "source": [
    "import requests\n",
    "import pandas as pd\n",
    "\n",
    "API_KEY = \"d6c772a3-c100-49b4-88f2-87c130e4bca0\"\n",
    "url = f\"https://api.goperigon.com/v1/all?companySymbol=AAPL&from=2022-03-01&to=2022-03-10&apiKey={API_KEY}\"\n",
    "\n",
    "resp = requests.get(url)\n",
    "#print(resp)\n",
    "data = resp.json()\n",
    "data = data['articles']\n",
    "#print(data)\n",
    "df = pd.DataFrame(data)\n",
    "print(df.head(1))\n",
    "\n",
    "#pubDate\n",
    "#addDate\n",
    "\n",
    "#entities\n",
    "#companies\n",
    "#sentiment\n",
    "\n",
    "#summary\n",
    "#source\n",
    "\n",
    "\n",
    "df.dtypes"
   ]
  },
  {
   "cell_type": "code",
   "execution_count": 186,
   "id": "e580f79f-216d-4b78-ac14-ffea7c0f073c",
   "metadata": {
    "tags": []
   },
   "outputs": [],
   "source": [
    "import numpy as np"
   ]
  },
  {
   "cell_type": "code",
   "execution_count": 126,
   "id": "5ad99cf8-457a-4502-acce-b217c83011fe",
   "metadata": {
    "tags": []
   },
   "outputs": [
    {
     "data": {
      "text/plain": [
       "url                object\n",
       "authorsByline      object\n",
       "articleId          object\n",
       "clusterId          object\n",
       "source             object\n",
       "imageUrl           object\n",
       "country            object\n",
       "language           object\n",
       "pubDate            object\n",
       "addDate            object\n",
       "refreshDate        object\n",
       "score             float64\n",
       "title              object\n",
       "description        object\n",
       "content            object\n",
       "medium             object\n",
       "links              object\n",
       "labels             object\n",
       "matchedAuthors     object\n",
       "claim              object\n",
       "verdict            object\n",
       "keywords           object\n",
       "topics             object\n",
       "categories         object\n",
       "entities           object\n",
       "companies          object\n",
       "sentiment          object\n",
       "summary            object\n",
       "translation        object\n",
       "locations          object\n",
       "reprint              bool\n",
       "reprintGroupId     object\n",
       "places             object\n",
       "people             object\n",
       "dtype: object"
      ]
     },
     "execution_count": 126,
     "metadata": {},
     "output_type": "execute_result"
    }
   ],
   "source": [
    "df.dtypes"
   ]
  },
  {
   "cell_type": "code",
   "execution_count": 127,
   "id": "252e4213-e52f-43b2-a6f7-2df9ddec016d",
   "metadata": {
    "tags": []
   },
   "outputs": [
    {
     "data": {
      "text/plain": [
       "pubDate\n",
       "2022-03-03T23:17:31+00:00           1\n",
       "2022-03-09T19:44:13.633000+00:00    1\n",
       "2022-03-09T15:41:27.013000+00:00    1\n",
       "2022-03-10T14:02:55.784000+00:00    1\n",
       "2022-03-02T19:57:17.098000+00:00    1\n",
       "2022-03-08T21:17:11.626000+00:00    1\n",
       "2022-03-01T21:16:56.190000+00:00    1\n",
       "2022-03-02T05:00:34.085000+00:00    1\n",
       "2022-03-04T12:30:34.902000+00:00    1\n",
       "2022-03-04T05:00:17.180000+00:00    1\n",
       "Name: count, dtype: int64"
      ]
     },
     "execution_count": 127,
     "metadata": {},
     "output_type": "execute_result"
    }
   ],
   "source": [
    "df['pubDate'].value_counts()"
   ]
  },
  {
   "cell_type": "code",
   "execution_count": 128,
   "id": "94893e84-7e5c-4a00-91d6-976ef89e23c1",
   "metadata": {
    "tags": []
   },
   "outputs": [],
   "source": [
    "#cleaning the date formats\n",
    "df['pubDate'] = df['pubDate'].apply(lambda x: x.split('T')[0])\n",
    "df['addDate'] = df['addDate'].apply(lambda x: x.split('T')[0])"
   ]
  },
  {
   "cell_type": "code",
   "execution_count": null,
   "id": "d68b0257-25d0-4c09-bb34-c873cc730908",
   "metadata": {
    "collapsed": true,
    "jupyter": {
     "outputs_hidden": true
    },
    "tags": []
   },
   "outputs": [],
   "source": []
  },
  {
   "cell_type": "code",
   "execution_count": 129,
   "id": "7db8f46c-39a0-4b0d-a5ee-80a637fb0c92",
   "metadata": {
    "tags": []
   },
   "outputs": [
    {
     "data": {
      "text/plain": [
       "companies\n",
       "[{'id': '5985872d662c4a3f941a9c581a9fce71', 'name': 'Apple Inc.', 'domains': ['apple.com'], 'symbols': ['AAPL', 'APC.DE', 'APC.F']}]                                                                                                                                                                                                                                                                                                                                                                                                                                                                                                                                                                                                                                                                                                                                                                                                                                                                                         2\n",
       "[{'id': '6ab4c974fe5f4a5bbf2a535185a6ae42', 'name': 'Activision Publishing', 'domains': ['activision.com'], 'symbols': []}, {'id': '2069a416008f4285bd8daaaf03071360', 'name': 'Amazon Robotics', 'domains': ['amazonrobotics.com'], 'symbols': []}, {'id': '5985872d662c4a3f941a9c581a9fce71', 'name': 'Apple Inc.', 'domains': ['apple.com'], 'symbols': ['AAPL', 'APC.DE', 'APC.F']}, {'id': '555bf40e1b874ea896086a6841a6a37e', 'name': 'Activision Blizzard Inc', 'domains': ['activisionblizzard.com'], 'symbols': ['AIY.DE']}, {'id': '4de51cf8472b4ce7a5aecdf52a1de4c0', 'name': 'Microsoft Corporation', 'domains': ['microsoft.com'], 'symbols': ['4338.HK', 'MSF.BR', 'MSF.DE', 'MSFT']}]                                                                                                                                                                                                                                                                                                                         1\n",
       "[{'id': '5985872d662c4a3f941a9c581a9fce71', 'name': 'Apple Inc.', 'domains': ['apple.com'], 'symbols': ['AAPL', 'APC.DE', 'APC.F']}, {'id': '0a84288153cd4b5eae6b2b424c90bab2', 'name': 'ISS A/S', 'domains': ['issworld.com'], 'symbols': ['ISS.CO', 'ISSDY']}]                                                                                                                                                                                                                                                                                                                                                                                                                                                                                                                                                                                                                                                                                                                                                             1\n",
       "[{'id': '806457af1fd9418db78388760f52c06f', 'name': 'Alphabet Inc.', 'domains': ['abc.xyz'], 'symbols': ['ABEA.DE', 'ABEC.DE', 'GOOG', 'GOOGL', 'GOOGL.SW']}, {'id': '94bbd0512cd04cc4b7041d78d9d4cf73', 'name': 'NVIDIA Corporation', 'domains': ['nvidia.com'], 'symbols': ['NVD.DE', 'NVDA']}, {'id': '52aba656de004336a08604ce33e374ed', 'name': 'Big Apple Donuts and Coffee', 'domains': ['bigappledonuts.com'], 'symbols': []}, {'id': '5985872d662c4a3f941a9c581a9fce71', 'name': 'Apple Inc.', 'domains': ['apple.com'], 'symbols': ['AAPL', 'APC.DE', 'APC.F']}]                                                                                                                                                                                                                                                                                                                                                                                                                                                   1\n",
       "[{'id': '5985872d662c4a3f941a9c581a9fce71', 'name': 'Apple Inc.', 'domains': ['apple.com'], 'symbols': ['AAPL', 'APC.DE', 'APC.F']}, {'id': '14344799bb5e4342aedbc9cabe80cf3b', 'name': 'Netflix, Inc.', 'domains': ['netflix.com'], 'symbols': ['NFC.DE', 'NFLX']}, {'id': '92b5b29d8fd64746ada1cfac49719f2e', 'name': 'Telefonaktiebolaget LM Ericsson (publ)', 'domains': ['ericsson.com'], 'symbols': ['ERCB.DE', 'ERCG.DE', 'ERIBR.HE', 'ERIC', 'ERIC-A.ST', 'ERIC-B.ST']}, {'id': 'ff6fe1f6c4914d6591c1d44de1bf8d3c', 'name': 'Ford Motor Company', 'domains': ['ford.com'], 'symbols': ['F', 'FMC1.DE']}, {'id': '515cbd7c18094ee983cb796a151fe9c1', 'name': 'Palantir Technologies Inc.', 'domains': ['palantir.com'], 'symbols': ['PLTR']}, {'id': 'c359929d3a3d485382616329677078b6', 'name': 'Huawei', 'domains': ['huawei.com'], 'symbols': []}, {'id': '806457af1fd9418db78388760f52c06f', 'name': 'Alphabet Inc.', 'domains': ['abc.xyz'], 'symbols': ['ABEA.DE', 'ABEC.DE', 'GOOG', 'GOOGL', 'GOOGL.SW']}]    1\n",
       "[{'id': '5985872d662c4a3f941a9c581a9fce71', 'name': 'Apple Inc.', 'domains': ['apple.com'], 'symbols': ['AAPL', 'APC.DE', 'APC.F']}, {'id': '2c3d7e5ad5794137b758c59364adddd5', 'name': 'Snap Inc.', 'domains': ['snap.com'], 'symbols': ['1SI.DE', 'SNAP']}]                                                                                                                                                                                                                                                                                                                                                                                                                                                                                                                                                                                                                                                                                                                                                                1\n",
       "[{'id': '5985872d662c4a3f941a9c581a9fce71', 'name': 'Apple Inc.', 'domains': ['apple.com'], 'symbols': ['AAPL', 'APC.DE', 'APC.F']}, {'id': '8581c3ca7a2c452a9c396442615b7b6b', 'name': 'Unilever Philippines', 'domains': ['unilever.com.ph'], 'symbols': []}, {'id': 'e42053bfa8374e4aa1bccb8204ced8dd', 'name': 'Pfizer Limited', 'domains': ['pfizerindia.com'], 'symbols': ['PFIZER.NS']}]                                                                                                                                                                                                                                                                                                                                                                                                                                                                                                                                                                                                                              1\n",
       "[{'id': 'daee55bf2049483f98b84c277b7f2f89', 'name': 'BP p.l.c.', 'domains': ['bp.com'], 'symbols': ['BP', 'BP.L', 'BP.SW', 'BPE.DE', 'BPE5.DE']}, {'id': '5985872d662c4a3f941a9c581a9fce71', 'name': 'Apple Inc.', 'domains': ['apple.com'], 'symbols': ['AAPL', 'APC.DE', 'APC.F']}, {'id': '0992374d6ef544239294fd760b20482b', 'name': 'Polymetal International plc', 'domains': ['polymetalinternational.com'], 'symbols': ['AUCOY', 'POLY.L', 'POLY.ME']}, {'id': '219ef5b237e84c7bbe43693c790b0807', 'name': 'Lex Mundi', 'domains': ['lexmundi.com'], 'symbols': []}]                                                                                                                                                                                                                                                                                                                                                                                                                                                  1\n",
       "[{'id': '5985872d662c4a3f941a9c581a9fce71', 'name': 'Apple Inc.', 'domains': ['apple.com'], 'symbols': ['AAPL', 'APC.DE', 'APC.F']}, {'id': '806457af1fd9418db78388760f52c06f', 'name': 'Alphabet Inc.', 'domains': ['abc.xyz'], 'symbols': ['ABEA.DE', 'ABEC.DE', 'GOOG', 'GOOGL', 'GOOGL.SW']}]                                                                                                                                                                                                                                                                                                                                                                                                                                                                                                                                                                                                                                                                                                                            1\n",
       "Name: count, dtype: int64"
      ]
     },
     "execution_count": 129,
     "metadata": {},
     "output_type": "execute_result"
    }
   ],
   "source": [
    "df['companies'].value_counts()"
   ]
  },
  {
   "cell_type": "code",
   "execution_count": 130,
   "id": "d124fb2b-dff1-47fd-b913-ff1656cd7071",
   "metadata": {
    "tags": []
   },
   "outputs": [
    {
     "data": {
      "text/plain": [
       "source\n",
       "{'domain': 'ft.com', 'paywall': True, 'location': None}    9\n",
       "{'domain': 'metanews.com', 'location': None}               1\n",
       "Name: count, dtype: int64"
      ]
     },
     "execution_count": 130,
     "metadata": {},
     "output_type": "execute_result"
    }
   ],
   "source": [
    "df['source'].value_counts()"
   ]
  },
  {
   "cell_type": "code",
   "execution_count": 131,
   "id": "3d36696e-aee0-4257-9da1-5b212cf526c2",
   "metadata": {
    "tags": []
   },
   "outputs": [
    {
     "data": {
      "text/plain": [
       "entities\n",
       "[{'data': 'Apple', 'type': 'ORG', 'mentions': 2}, {'data': 'BlackRock', 'type': 'ORG', 'mentions': 7}, {'data': 'ETF Strategy', 'type': 'ORG', 'mentions': 1}, {'data': 'Morningstar', 'type': 'ORG', 'mentions': 1}, {'data': 'Global Equity Research', 'type': 'ORG', 'mentions': 1}, {'data': 'Meta Platforms', 'type': 'ORG', 'mentions': 4}, {'data': 'Nvidia', 'type': 'ORG', 'mentions': 1}, {'data': 'Netease', 'type': 'ORG', 'mentions': 1}, {'data': 'Roblox', 'type': 'ORG', 'mentions': 1}, {'data': 'Facebook', 'type': 'ORG', 'mentions': 2}, {'data': 'KPMG', 'type': 'ORG', 'mentions': 1}, {'data': 'Microsoft', 'type': 'ORG', 'mentions': 2}, {'data': 'iShares', 'type': 'ORG', 'mentions': 1}, {'data': 'New York', 'type': 'GPE', 'mentions': 1}, {'data': 'US', 'type': 'GPE', 'mentions': 4}, {'data': 'James Lord', 'type': 'PERSON', 'mentions': 1}, {'data': 'Neal Stephenson', 'type': 'PERSON', 'mentions': 1}, {'data': 'Mark Zuckerberg', 'type': 'PERSON', 'mentions': 1}, {'data': 'Laurence Fink', 'type': 'PERSON', 'mentions': 1}]                                                                                                                                                                                                                                                                                                                                                                                                                                                                                                                                                                                                                                                                                                                                                                                                                                                                                                                                                                                                                                                                                                                                                                                                                                                                                                                                                                                                                                                                                                                                                                                           1\n",
       "[{'data': 'US', 'type': 'GPE', 'mentions': 11}, {'data': 'Ukraine', 'type': 'GPE', 'mentions': 7}, {'data': 'Romania', 'type': 'GPE', 'mentions': 1}, {'data': 'China', 'type': 'GPE', 'mentions': 2}, {'data': 'Russian', 'type': 'NORP', 'mentions': 7}, {'data': 'American', 'type': 'NORP', 'mentions': 1}, {'data': 'Californian', 'type': 'NORP', 'mentions': 1}, {'data': 'Ukrainian', 'type': 'NORP', 'mentions': 1}, {'data': 'Chinese', 'type': 'NORP', 'mentions': 1}, {'data': 'the Ukrainian Railways’', 'type': 'ORG', 'mentions': 1}, {'data': 'Fortinet', 'type': 'ORG', 'mentions': 1}, {'data': 'Xiaomi', 'type': 'ORG', 'mentions': 1}, {'data': 'Oppo', 'type': 'ORG', 'mentions': 1}, {'data': 'Huawei', 'type': 'ORG', 'mentions': 1}, {'data': 'Lex', 'type': 'ORG', 'mentions': 1}, {'data': 'Nasdaq', 'type': 'ORG', 'mentions': 1}, {'data': 'Activision', 'type': 'ORG', 'mentions': 3}, {'data': 'Microsoft', 'type': 'ORG', 'mentions': 2}, {'data': 'Department of Justice', 'type': 'ORG', 'mentions': 2}, {'data': 'Securities and Exchange Commission', 'type': 'ORG', 'mentions': 1}, {'data': 'SEC', 'type': 'ORG', 'mentions': 1}, {'data': 'Amazon', 'type': 'ORG', 'mentions': 2}, {'data': 'Congress', 'type': 'ORG', 'mentions': 1}, {'data': 'House Judiciary committee', 'type': 'ORG', 'mentions': 1}, {'data': 'Apple', 'type': 'ORG', 'mentions': 1}, {'data': 'Gillian Tett', 'type': 'PERSON', 'mentions': 1}, {'data': 'Robin Wigglesworth', 'type': 'PERSON', 'mentions': 1}, {'data': 'Diller', 'type': 'PERSON', 'mentions': 3}, {'data': 'David Geffen', 'type': 'PERSON', 'mentions': 2}, {'data': 'Merrick Garland', 'type': 'PERSON', 'mentions': 1}, {'data': 'Patrick McGee', 'type': 'PERSON', 'mentions': 1}, {'data': 'Online Safety Bill', 'type': 'LAW', 'mentions': 1}, {'data': 'The Mac Studio', 'type': 'PRODUCT', 'mentions': 2}, {'data': 'M1 Max', 'type': 'PRODUCT', 'mentions': 2}, {'data': 'Ultra', 'type': 'PRODUCT', 'mentions': 1}, {'data': 'Studio Display —', 'type': 'PRODUCT', 'mentions': 1}]                                                                                                                                                                                                                                                                                                                                                                                                                                                                                                                                                                                   1\n",
       "[{'data': 'Tim Cook', 'type': 'PERSON', 'mentions': 3}, {'data': 'ISS', 'type': 'ORG', 'mentions': 12}, {'data': 'Sequoia Capital', 'type': 'ORG', 'mentions': 1}, {'data': 'Apple', 'type': 'ORG', 'mentions': 4}, {'data': 'Institutional Shareholder Services', 'type': 'ORG', 'mentions': 1}, {'data': 'Cook', 'type': 'ORG', 'mentions': 2}, {'data': 'Glass Lewis', 'type': 'ORG', 'mentions': 1}, {'data': 'Moody’s', 'type': 'ORG', 'mentions': 2}, {'data': 'Fitch', 'type': 'ORG', 'mentions': 1}, {'data': 'America', 'type': 'GPE', 'mentions': 1}]                                                                                                                                                                                                                                                                                                                                                                                                                                                                                                                                                                                                                                                                                                                                                                                                                                                                                                                                                                                                                                                                                                                                                                                                                                                                                                                                                                                                                                                                                                                                                                                                                                                                                                                                                                                                                                                                                                                                                                                                                                                                                                   1\n",
       "[{'data': 'Steve Jobs', 'type': 'PERSON', 'mentions': 2}, {'data': 'Apple', 'type': 'ORG', 'mentions': 8}, {'data': 'Intel', 'type': 'ORG', 'mentions': 2}, {'data': 'Google', 'type': 'ORG', 'mentions': 4}, {'data': 'Amazon Web Services’', 'type': 'ORG', 'mentions': 1}, {'data': 'Tesla', 'type': 'ORG', 'mentions': 1}, {'data': 'TSMC', 'type': 'ORG', 'mentions': 1}, {'data': 'AWS', 'type': 'ORG', 'mentions': 2}, {'data': 'Annapurna', 'type': 'ORG', 'mentions': 1}, {'data': 'Nvidia', 'type': 'ORG', 'mentions': 3}, {'data': 'iPad', 'type': 'PRODUCT', 'mentions': 1}, {'data': 'Mac', 'type': 'PRODUCT', 'mentions': 1}, {'data': 'M1', 'type': 'PRODUCT', 'mentions': 4}, {'data': 'Graviton', 'type': 'PRODUCT', 'mentions': 1}, {'data': 'Arm', 'type': 'PRODUCT', 'mentions': 1}, {'data': 'X86', 'type': 'PRODUCT', 'mentions': 1}, {'data': 'Trainium', 'type': 'PRODUCT', 'mentions': 1}]                                                                                                                                                                                                                                                                                                                                                                                                                                                                                                                                                                                                                                                                                                                                                                                                                                                                                                                                                                                                                                                                                                                                                                                                                                                                                                                                                                                                                                                                                                                                                                                                                                                                                                                                               1\n",
       "[{'data': 'Apple', 'type': 'ORG', 'mentions': 10}, {'data': 'Russia Today', 'type': 'ORG', 'mentions': 1}, {'data': 'Sputnik', 'type': 'ORG', 'mentions': 1}, {'data': 'Facebook', 'type': 'ORG', 'mentions': 1}, {'data': 'YouTube', 'type': 'ORG', 'mentions': 1}, {'data': 'TikTok', 'type': 'ORG', 'mentions': 1}, {'data': 'Google', 'type': 'ORG', 'mentions': 2}, {'data': 'Counterpoint Research', 'type': 'ORG', 'mentions': 1}, {'data': 'Sensor Tower', 'type': 'ORG', 'mentions': 1}, {'data': 'Ford', 'type': 'ORG', 'mentions': 3}, {'data': 'Nike', 'type': 'ORG', 'mentions': 1}, {'data': 'Palantir', 'type': 'ORG', 'mentions': 2}, {'data': 'NHS', 'type': 'ORG', 'mentions': 2}, {'data': 'Netflix', 'type': 'ORG', 'mentions': 2}, {'data': 'Next Games', 'type': 'ORG', 'mentions': 1}, {'data': 'Ericsson', 'type': 'ORG', 'mentions': 1}, {'data': 'Huawei', 'type': 'ORG', 'mentions': 3}, {'data': 'Intel', 'type': 'ORG', 'mentions': 1}, {'data': 'Russian', 'type': 'NORP', 'mentions': 6}, {'data': 'Finnish', 'type': 'NORP', 'mentions': 1}, {'data': 'Swedish', 'type': 'NORP', 'mentions': 1}, {'data': 'Chinese', 'type': 'NORP', 'mentions': 1}, {'data': 'Russia', 'type': 'GPE', 'mentions': 8}, {'data': 'Ukraine', 'type': 'GPE', 'mentions': 4}, {'data': 'California', 'type': 'GPE', 'mentions': 1}, {'data': 'Iraq', 'type': 'GPE', 'mentions': 2}, {'data': 'Japan', 'type': 'GPE', 'mentions': 2}, {'data': 'Tokyo', 'type': 'GPE', 'mentions': 1}, {'data': 'Barcelona', 'type': 'GPE', 'mentions': 1}, {'data': 'iPhones', 'type': 'PRODUCT', 'mentions': 4}, {'data': 'the MatePad Paper', 'type': 'PRODUCT', 'mentions': 1}, {'data': 'M-Pencil', 'type': 'PRODUCT', 'mentions': 1}, {'data': 'the MateBook X Pro', 'type': 'PRODUCT', 'mentions': 2}, {'data': 'i7', 'type': 'PRODUCT', 'mentions': 1}, {'data': 'MateStation X', 'type': 'PRODUCT', 'mentions': 1}, {'data': 'PixLab X1', 'type': 'PRODUCT', 'mentions': 1}, {'data': 'Sound Joy', 'type': 'PRODUCT', 'mentions': 1}, {'data': 'Tim Bradshaw', 'type': 'PERSON', 'mentions': 2}, {'data': 'Mykhailo Fedorov', 'type': 'PERSON', 'mentions': 1}, {'data': 'Cook', 'type': 'PERSON', 'mentions': 1}, {'data': 'Madhumita Murgia', 'type': 'PERSON', 'mentions': 1}, {'data': 'Leo Lewis', 'type': 'PERSON', 'mentions': 1}, {'data': 'Europe', 'type': 'LOC', 'mentions': 1}, {'data': 'Silicon Valley’s', 'type': 'LOC', 'mentions': 1}, {'data': 'Stranger Things', 'type': 'WORK_OF_ART', 'mentions': 1}, {'data': 'Mobile World Congress', 'type': 'EVENT', 'mentions': 1}]                                                                 1\n",
       "[{'data': 'Apple', 'type': 'ORG', 'mentions': 9}, {'data': 'Intel', 'type': 'ORG', 'mentions': 2}, {'data': 'Samsung', 'type': 'ORG', 'mentions': 1}, {'data': 'Gartner', 'type': 'ORG', 'mentions': 2}, {'data': 'CCS Insight', 'type': 'ORG', 'mentions': 1}, {'data': 'Android', 'type': 'ORG', 'mentions': 1}, {'data': 'Creative Strategies', 'type': 'ORG', 'mentions': 1}, {'data': 'M1', 'type': 'PRODUCT', 'mentions': 5}, {'data': 'The Mac Studio', 'type': 'PRODUCT', 'mentions': 3}, {'data': 'iPhone', 'type': 'PRODUCT', 'mentions': 5}, {'data': 'Ultra', 'type': 'PRODUCT', 'mentions': 1}, {'data': '5', 'type': 'PRODUCT', 'mentions': 2}, {'data': 'A15 Bionic', 'type': 'PRODUCT', 'mentions': 1}, {'data': 'Tim Cook', 'type': 'PERSON', 'mentions': 1}, {'data': 'Ben Wood', 'type': 'PERSON', 'mentions': 1}, {'data': 'Carolina Milanesi', 'type': 'PERSON', 'mentions': 1}, {'data': '5G', 'type': 'TIME', 'mentions': 1}]                                                                                                                                                                                                                                                                                                                                                                                                                                                                                                                                                                                                                                                                                                                                                                                                                                                                                                                                                                                                                                                                                                                                                                                                                                                                                                                                                                                                                                                                                                                                                                                                                                                                                                              1\n",
       "[{'data': 'Apple', 'type': 'ORG', 'mentions': 12}, {'data': 'Russia Today', 'type': 'ORG', 'mentions': 2}, {'data': 'Sputnik', 'type': 'ORG', 'mentions': 2}, {'data': 'App Store', 'type': 'ORG', 'mentions': 2}, {'data': 'Ford', 'type': 'ORG', 'mentions': 1}, {'data': 'Nike', 'type': 'ORG', 'mentions': 1}, {'data': 'Boeing', 'type': 'ORG', 'mentions': 1}, {'data': 'Walt Disney', 'type': 'ORG', 'mentions': 1}, {'data': 'Warner Bros', 'type': 'ORG', 'mentions': 1}, {'data': 'AlixPartners', 'type': 'ORG', 'mentions': 1}, {'data': 'Veracity Worldwide', 'type': 'ORG', 'mentions': 1}, {'data': 'Levi Strauss', 'type': 'ORG', 'mentions': 1}, {'data': 'Coca-Cola', 'type': 'ORG', 'mentions': 1}, {'data': 'PepsiCo', 'type': 'ORG', 'mentions': 1}, {'data': 'Estée Lauder', 'type': 'ORG', 'mentions': 1}, {'data': 'Kimberly-Clark', 'type': 'ORG', 'mentions': 1}, {'data': 'Mondelez', 'type': 'ORG', 'mentions': 1}, {'data': 'Facebook', 'type': 'ORG', 'mentions': 1}, {'data': 'YouTube', 'type': 'ORG', 'mentions': 1}, {'data': 'TikTok', 'type': 'ORG', 'mentions': 1}, {'data': 'Google', 'type': 'ORG', 'mentions': 2}, {'data': 'Snapchat', 'type': 'ORG', 'mentions': 2}, {'data': '10 Downing Street', 'type': 'ORG', 'mentions': 1}, {'data': 'Counterpoint Research', 'type': 'ORG', 'mentions': 1}, {'data': 'Sensor Tower', 'type': 'ORG', 'mentions': 1}, {'data': 'the Federal Security Service', 'type': 'ORG', 'mentions': 1}, {'data': 'FSB', 'type': 'ORG', 'mentions': 3}, {'data': 'Russia', 'type': 'GPE', 'mentions': 21}, {'data': 'Ukraine', 'type': 'GPE', 'mentions': 6}, {'data': 'Kyiv', 'type': 'GPE', 'mentions': 1}, {'data': 'Moscow', 'type': 'GPE', 'mentions': 1}, {'data': 'Chicago', 'type': 'GPE', 'mentions': 1}, {'data': 'New York', 'type': 'GPE', 'mentions': 1}, {'data': 'iPhone', 'type': 'PRODUCT', 'mentions': 5}, {'data': 'Secure Enclave', 'type': 'PRODUCT', 'mentions': 1}, {'data': 'Russian', 'type': 'NORP', 'mentions': 7}, {'data': 'German', 'type': 'NORP', 'mentions': 1}, {'data': 'Swiss', 'type': 'NORP', 'mentions': 1}, {'data': 'Simon Freakley', 'type': 'PERSON', 'mentions': 1}, {'data': 'Steven Fox', 'type': 'PERSON', 'mentions': 1}, {'data': 'Mykhailo Fedorov', 'type': 'PERSON', 'mentions': 1}, {'data': 'Tim Cook', 'type': 'PERSON', 'mentions': 1}, {'data': 'Poppy Wood', 'type': 'PERSON', 'mentions': 1}, {'data': 'Steff Chávez', 'type': 'PERSON', 'mentions': 1}, {'data': 'Matthew Rocco', 'type': 'PERSON', 'mentions': 1}, {'data': 'the Cold War', 'type': 'EVENT', 'mentions': 1}, {'data': 'Europe', 'type': 'LOC', 'mentions': 1}]    1\n",
       "[{'data': 'Europe', 'type': 'LOC', 'mentions': 4}, {'data': 'West', 'type': 'LOC', 'mentions': 1}, {'data': 'Silicon Valley', 'type': 'LOC', 'mentions': 1}, {'data': 'Ukraine', 'type': 'GPE', 'mentions': 4}, {'data': 'Beijing', 'type': 'GPE', 'mentions': 1}, {'data': 'Russia', 'type': 'GPE', 'mentions': 7}, {'data': 'Turkey', 'type': 'GPE', 'mentions': 1}, {'data': 'Germany', 'type': 'GPE', 'mentions': 1}, {'data': 'Italy', 'type': 'GPE', 'mentions': 1}, {'data': 'China', 'type': 'GPE', 'mentions': 4}, {'data': 'Chinese', 'type': 'NORP', 'mentions': 2}, {'data': 'European', 'type': 'NORP', 'mentions': 1}, {'data': 'Russian', 'type': 'NORP', 'mentions': 2}, {'data': 'Germans', 'type': 'NORP', 'mentions': 2}, {'data': 'Vladimir Putin', 'type': 'PERSON', 'mentions': 2}, {'data': 'Xi Jinping', 'type': 'PERSON', 'mentions': 1}, {'data': 'Jay Powell', 'type': 'PERSON', 'mentions': 1}, {'data': 'Nathan Rothschild’s', 'type': 'PERSON', 'mentions': 1}, {'data': 'Simon Edelsten', 'type': 'PERSON', 'mentions': 1}, {'data': 'Apple', 'type': 'ORG', 'mentions': 1}, {'data': 'Unilever', 'type': 'ORG', 'mentions': 1}, {'data': 'Beiersdorf', 'type': 'ORG', 'mentions': 1}, {'data': 'Nivea', 'type': 'ORG', 'mentions': 1}, {'data': 'Henkel', 'type': 'ORG', 'mentions': 1}, {'data': 'Home Depot', 'type': 'ORG', 'mentions': 1}, {'data': 'Walmart', 'type': 'ORG', 'mentions': 1}, {'data': 'Adidas', 'type': 'ORG', 'mentions': 1}, {'data': 'Inditex', 'type': 'ORG', 'mentions': 1}, {'data': 'Zara', 'type': 'ORG', 'mentions': 1}, {'data': 'Roche', 'type': 'ORG', 'mentions': 1}, {'data': 'Merck', 'type': 'ORG', 'mentions': 1}, {'data': 'Pfizer', 'type': 'ORG', 'mentions': 1}, {'data': 'Google', 'type': 'ORG', 'mentions': 1}, {'data': 'Microsoft', 'type': 'ORG', 'mentions': 1}, {'data': 'Amazon', 'type': 'ORG', 'mentions': 1}, {'data': 'the US Federal Reserve', 'type': 'ORG', 'mentions': 2}, {'data': 'Standard & Poor’s', 'type': 'ORG', 'mentions': 1}, {'data': 'the Artemis Global Select Fund', 'type': 'ORG', 'mentions': 1}, {'data': 'iPhones', 'type': 'PRODUCT', 'mentions': 1}]                                                                                                                                                                                                                                                                                                                                                                                                                                                                                               1\n",
       "[{'data': 'The Lex Newsletter', 'type': 'ORG', 'mentions': 9}, {'data': 'CFRA', 'type': 'ORG', 'mentions': 1}, {'data': 'World Semiconductor Trade Statistics', 'type': 'ORG', 'mentions': 1}, {'data': 'Apple', 'type': 'ORG', 'mentions': 2}, {'data': 'Nike', 'type': 'ORG', 'mentions': 1}, {'data': 'Disney', 'type': 'ORG', 'mentions': 1}, {'data': 'BP', 'type': 'ORG', 'mentions': 4}, {'data': 'Shell', 'type': 'ORG', 'mentions': 1}, {'data': 'ExxonMobil', 'type': 'ORG', 'mentions': 1}, {'data': 'MSCI', 'type': 'ORG', 'mentions': 1}, {'data': 'FTSE Russell', 'type': 'ORG', 'mentions': 1}, {'data': 'Rosneft', 'type': 'ORG', 'mentions': 2}, {'data': 'Rheinmetall', 'type': 'ORG', 'mentions': 1}, {'data': 'BDSV', 'type': 'ORG', 'mentions': 1}, {'data': 'EU', 'type': 'ORG', 'mentions': 2}, {'data': 'Polymetal International', 'type': 'ORG', 'mentions': 1}, {'data': 'LSE', 'type': 'ORG', 'mentions': 1}, {'data': 'Refinitiv', 'type': 'ORG', 'mentions': 1}, {'data': 'Cheniere Energy’s', 'type': 'ORG', 'mentions': 1}, {'data': 'UN General Assembly', 'type': 'ORG', 'mentions': 1}, {'data': 'LastPass', 'type': 'ORG', 'mentions': 1}, {'data': 'Russia', 'type': 'GPE', 'mentions': 20}, {'data': 'China', 'type': 'GPE', 'mentions': 4}, {'data': 'Germany', 'type': 'GPE', 'mentions': 1}, {'data': 'London', 'type': 'GPE', 'mentions': 1}, {'data': 'City', 'type': 'GPE', 'mentions': 1}, {'data': 'Ukraine', 'type': 'GPE', 'mentions': 3}, {'data': 'Joe Biden', 'type': 'PERSON', 'mentions': 1}, {'data': 'iPhones', 'type': 'PRODUCT', 'mentions': 1}, {'data': 'Swift', 'type': 'PRODUCT', 'mentions': 2}, {'data': 'Password1', 'type': 'PRODUCT', 'mentions': 1}, {'data': 'Cross-Border Interbank Payment System', 'type': 'PRODUCT', 'mentions': 1}, {'data': 'Russian', 'type': 'NORP', 'mentions': 9}, {'data': 'German', 'type': 'NORP', 'mentions': 1}, {'data': 'Chinese', 'type': 'NORP', 'mentions': 1}, {'data': 'Europe', 'type': 'LOC', 'mentions': 1}, {'data': 'Gulf Coast', 'type': 'LOC', 'mentions': 1}]                                                                                                                                                                                                                                                                                                                                                                                                                                                                                                                                                                                    1\n",
       "[{'data': 'Ukraine', 'type': 'GPE', 'mentions': 7}, {'data': 'Russia', 'type': 'GPE', 'mentions': 6}, {'data': 'California', 'type': 'GPE', 'mentions': 1}, {'data': 'Kyiv', 'type': 'GPE', 'mentions': 1}, {'data': 'Kharkiv', 'type': 'GPE', 'mentions': 1}, {'data': 'Wuhan', 'type': 'GPE', 'mentions': 2}, {'data': 'China', 'type': 'GPE', 'mentions': 3}, {'data': 'London', 'type': 'GPE', 'mentions': 1}, {'data': 'Soho', 'type': 'GPE', 'mentions': 1}, {'data': 'Philippines', 'type': 'GPE', 'mentions': 1}, {'data': 'Vietnam', 'type': 'GPE', 'mentions': 1}, {'data': 'The Soviet Union', 'type': 'GPE', 'mentions': 1}, {'data': 'Moscow', 'type': 'GPE', 'mentions': 1}, {'data': 'Craigavon', 'type': 'GPE', 'mentions': 1}, {'data': 'County Armagh', 'type': 'GPE', 'mentions': 1}, {'data': 'Apple', 'type': 'ORG', 'mentions': 3}, {'data': 'Google', 'type': 'ORG', 'mentions': 3}, {'data': 'the Financial Times’', 'type': 'ORG', 'mentions': 1}, {'data': 'Institute of Virology', 'type': 'ORG', 'mentions': 1}, {'data': 'Kremlin', 'type': 'ORG', 'mentions': 1}, {'data': 'KGB', 'type': 'ORG', 'mentions': 1}, {'data': 'Maxar', 'type': 'ORG', 'mentions': 1}, {'data': 'Capella Space', 'type': 'ORG', 'mentions': 1}, {'data': 'Planet', 'type': 'ORG', 'mentions': 1}, {'data': 'Oligarch Jets', 'type': 'ORG', 'mentions': 1}, {'data': 'Liveuamap', 'type': 'ORG', 'mentions': 1}, {'data': 'FT', 'type': 'ORG', 'mentions': 1}, {'data': 'iPhones', 'type': 'PRODUCT', 'mentions': 1}, {'data': 'Ukrainian', 'type': 'NORP', 'mentions': 1}, {'data': 'Russian', 'type': 'NORP', 'mentions': 4}, {'data': 'Asian', 'type': 'NORP', 'mentions': 1}, {'data': 'Soviet', 'type': 'NORP', 'mentions': 1}, {'data': 'the Dnipro river', 'type': 'LOC', 'mentions': 1}, {'data': 'the South China Sea', 'type': 'LOC', 'mentions': 1}, {'data': 'the Huanan Seafood Wholesale Market', 'type': 'FAC', 'mentions': 1}, {'data': 'John Snow', 'type': 'PERSON', 'mentions': 1}, {'data': 'Tamburlaine', 'type': 'PERSON', 'mentions': 1}, {'data': 'Christopher Marlowe’s', 'type': 'PERSON', 'mentions': 1}, {'data': 'Vladimir Putin’s', 'type': 'PERSON', 'mentions': 1}, {'data': 'Nikita Krushchev', 'type': 'PERSON', 'mentions': 1}, {'data': 'Mark Monmonier', 'type': 'PERSON', 'mentions': 1}, {'data': 'Roman Abramovich', 'type': 'PERSON', 'mentions': 1}, {'data': 'Oleg Deripaska', 'type': 'PERSON', 'mentions': 1}, {'data': 'Antonia Phinnemore', 'type': 'PERSON', 'mentions': 1}, {'data': 'How to Lie with Maps', 'type': 'WORK_OF_ART', 'mentions': 1}]                                                      1\n",
       "Name: count, dtype: int64"
      ]
     },
     "execution_count": 131,
     "metadata": {},
     "output_type": "execute_result"
    }
   ],
   "source": [
    "df['entities'].value_counts()"
   ]
  },
  {
   "cell_type": "code",
   "execution_count": 172,
   "id": "7726fe9f-d9ad-4e3b-b7c2-635d206e87d3",
   "metadata": {
    "tags": []
   },
   "outputs": [],
   "source": [
    "#different cleaning functions to apply to attributes\n",
    "#only take company values when they have corresponding symbols in the data frame\n",
    "\n",
    "\n",
    "def clean_companies_dictionary(example):\n",
    "        if example['symbols'] != '':\n",
    "            return [{'name': example['name'], 'symbols': example['symbols']}]\n",
    "\n",
    "def clean_source_dictionary(example):\n",
    "    return {'domain': example['domain']}\n",
    "\n",
    "#the below function will only return dictionaries where the value of the 'type' attribute is 'ORG'.\n",
    "#def clean_entities_dictionary(example):\n",
    "#    try:\n",
    "#        return {example['data']: example['mentions']}\n",
    "#    except example['type'] != 'ORG':\n",
    " #       return None\n",
    "        \n",
    "def clean_sentiment_positive_dictionary(example):\n",
    "    return example['positive']\n",
    "        \n",
    "def clean_sentiment_negative_dictionary(example):\n",
    "    return example['negative']\n",
    "\n",
    "def clean_sentiment_neutral_dictionary(example):\n",
    "    return example['neutral']"
   ]
  },
  {
   "cell_type": "code",
   "execution_count": 133,
   "id": "9b791621-0170-41fe-9fba-55bc28caebbc",
   "metadata": {
    "tags": []
   },
   "outputs": [],
   "source": [
    "#cleaning 'company' attribute\n",
    "df['companies'] = df['companies'].apply(clean_company_dictionary)"
   ]
  },
  {
   "cell_type": "code",
   "execution_count": 134,
   "id": "e58787d7-fb06-4d8b-bf0f-59189549282e",
   "metadata": {
    "tags": []
   },
   "outputs": [],
   "source": [
    "#creating three new attributes for the positive, negative, and neutral scores\n",
    "#each score is the percentage of the article that is either positive, negative, or neutral. \n",
    "#these three attributes for any given example add up to 1. \n",
    "df['positive_sentiment'] = df['sentiment'].apply(clean_sentiment_positive_dictionary)\n",
    "df['negative_sentiment'] = df['sentiment'].apply(clean_sentiment_negative_dictionary)\n",
    "df['neutral_sentiment'] = df['sentiment'].apply(clean_sentiment_neutral_dictionary)"
   ]
  },
  {
   "cell_type": "code",
   "execution_count": 161,
   "id": "b5379b0a-0805-4018-a9d6-13afa7af800a",
   "metadata": {
    "tags": []
   },
   "outputs": [],
   "source": [
    "#NEW attribute, must rerun code\n",
    "df['n_companies'] = df['companies'].apply(len)"
   ]
  },
  {
   "cell_type": "code",
   "execution_count": 162,
   "id": "2a74984f-8e9b-40c4-8d45-32005750f492",
   "metadata": {
    "tags": []
   },
   "outputs": [
    {
     "data": {
      "text/plain": [
       "<bound method IndexOpsMixin.value_counts of 0    1\n",
       "1    5\n",
       "2    2\n",
       "3    4\n",
       "4    7\n",
       "5    1\n",
       "6    2\n",
       "7    3\n",
       "8    4\n",
       "9    2\n",
       "Name: n_companies, dtype: int64>"
      ]
     },
     "execution_count": 162,
     "metadata": {},
     "output_type": "execute_result"
    }
   ],
   "source": [
    "df['n_companies'].value_counts"
   ]
  },
  {
   "cell_type": "code",
   "execution_count": 146,
   "id": "1d78ff34-b7ec-44f2-8e69-64f1e1b184ed",
   "metadata": {
    "collapsed": true,
    "jupyter": {
     "outputs_hidden": true
    },
    "tags": []
   },
   "outputs": [
    {
     "ename": "TypeError",
     "evalue": "list indices must be integers or slices, not str",
     "output_type": "error",
     "traceback": [
      "\u001b[0;31m---------------------------------------------------------------------------\u001b[0m",
      "\u001b[0;31mTypeError\u001b[0m                                 Traceback (most recent call last)",
      "Cell \u001b[0;32mIn[146], line 2\u001b[0m\n\u001b[1;32m      1\u001b[0m \u001b[38;5;66;03m#cleaning source attribute, but we can just include the value of the dictionary\u001b[39;00m\n\u001b[0;32m----> 2\u001b[0m df[\u001b[38;5;124m'\u001b[39m\u001b[38;5;124msource\u001b[39m\u001b[38;5;124m'\u001b[39m] \u001b[38;5;241m=\u001b[39m df[\u001b[38;5;124m'\u001b[39m\u001b[38;5;124msource\u001b[39m\u001b[38;5;124m'\u001b[39m]\u001b[38;5;241m.\u001b[39mapply(clean_source_dictionary)\n",
      "File \u001b[0;32m~/anaconda3/lib/python3.11/site-packages/pandas/core/series.py:4764\u001b[0m, in \u001b[0;36mSeries.apply\u001b[0;34m(self, func, convert_dtype, args, by_row, **kwargs)\u001b[0m\n\u001b[1;32m   4629\u001b[0m \u001b[38;5;28;01mdef\u001b[39;00m \u001b[38;5;21mapply\u001b[39m(\n\u001b[1;32m   4630\u001b[0m     \u001b[38;5;28mself\u001b[39m,\n\u001b[1;32m   4631\u001b[0m     func: AggFuncType,\n\u001b[0;32m   (...)\u001b[0m\n\u001b[1;32m   4636\u001b[0m     \u001b[38;5;241m*\u001b[39m\u001b[38;5;241m*\u001b[39mkwargs,\n\u001b[1;32m   4637\u001b[0m ) \u001b[38;5;241m-\u001b[39m\u001b[38;5;241m>\u001b[39m DataFrame \u001b[38;5;241m|\u001b[39m Series:\n\u001b[1;32m   4638\u001b[0m \u001b[38;5;250m    \u001b[39m\u001b[38;5;124;03m\"\"\"\u001b[39;00m\n\u001b[1;32m   4639\u001b[0m \u001b[38;5;124;03m    Invoke function on values of Series.\u001b[39;00m\n\u001b[1;32m   4640\u001b[0m \n\u001b[0;32m   (...)\u001b[0m\n\u001b[1;32m   4755\u001b[0m \u001b[38;5;124;03m    dtype: float64\u001b[39;00m\n\u001b[1;32m   4756\u001b[0m \u001b[38;5;124;03m    \"\"\"\u001b[39;00m\n\u001b[1;32m   4757\u001b[0m     \u001b[38;5;28;01mreturn\u001b[39;00m SeriesApply(\n\u001b[1;32m   4758\u001b[0m         \u001b[38;5;28mself\u001b[39m,\n\u001b[1;32m   4759\u001b[0m         func,\n\u001b[1;32m   4760\u001b[0m         convert_dtype\u001b[38;5;241m=\u001b[39mconvert_dtype,\n\u001b[1;32m   4761\u001b[0m         by_row\u001b[38;5;241m=\u001b[39mby_row,\n\u001b[1;32m   4762\u001b[0m         args\u001b[38;5;241m=\u001b[39margs,\n\u001b[1;32m   4763\u001b[0m         kwargs\u001b[38;5;241m=\u001b[39mkwargs,\n\u001b[0;32m-> 4764\u001b[0m     )\u001b[38;5;241m.\u001b[39mapply()\n",
      "File \u001b[0;32m~/anaconda3/lib/python3.11/site-packages/pandas/core/apply.py:1209\u001b[0m, in \u001b[0;36mSeriesApply.apply\u001b[0;34m(self)\u001b[0m\n\u001b[1;32m   1206\u001b[0m     \u001b[38;5;28;01mreturn\u001b[39;00m \u001b[38;5;28mself\u001b[39m\u001b[38;5;241m.\u001b[39mapply_compat()\n\u001b[1;32m   1208\u001b[0m \u001b[38;5;66;03m# self.func is Callable\u001b[39;00m\n\u001b[0;32m-> 1209\u001b[0m \u001b[38;5;28;01mreturn\u001b[39;00m \u001b[38;5;28mself\u001b[39m\u001b[38;5;241m.\u001b[39mapply_standard()\n",
      "File \u001b[0;32m~/anaconda3/lib/python3.11/site-packages/pandas/core/apply.py:1289\u001b[0m, in \u001b[0;36mSeriesApply.apply_standard\u001b[0;34m(self)\u001b[0m\n\u001b[1;32m   1283\u001b[0m \u001b[38;5;66;03m# row-wise access\u001b[39;00m\n\u001b[1;32m   1284\u001b[0m \u001b[38;5;66;03m# apply doesn't have a `na_action` keyword and for backward compat reasons\u001b[39;00m\n\u001b[1;32m   1285\u001b[0m \u001b[38;5;66;03m# we need to give `na_action=\"ignore\"` for categorical data.\u001b[39;00m\n\u001b[1;32m   1286\u001b[0m \u001b[38;5;66;03m# TODO: remove the `na_action=\"ignore\"` when that default has been changed in\u001b[39;00m\n\u001b[1;32m   1287\u001b[0m \u001b[38;5;66;03m#  Categorical (GH51645).\u001b[39;00m\n\u001b[1;32m   1288\u001b[0m action \u001b[38;5;241m=\u001b[39m \u001b[38;5;124m\"\u001b[39m\u001b[38;5;124mignore\u001b[39m\u001b[38;5;124m\"\u001b[39m \u001b[38;5;28;01mif\u001b[39;00m \u001b[38;5;28misinstance\u001b[39m(obj\u001b[38;5;241m.\u001b[39mdtype, CategoricalDtype) \u001b[38;5;28;01melse\u001b[39;00m \u001b[38;5;28;01mNone\u001b[39;00m\n\u001b[0;32m-> 1289\u001b[0m mapped \u001b[38;5;241m=\u001b[39m obj\u001b[38;5;241m.\u001b[39m_map_values(\n\u001b[1;32m   1290\u001b[0m     mapper\u001b[38;5;241m=\u001b[39mcurried, na_action\u001b[38;5;241m=\u001b[39maction, convert\u001b[38;5;241m=\u001b[39m\u001b[38;5;28mself\u001b[39m\u001b[38;5;241m.\u001b[39mconvert_dtype\n\u001b[1;32m   1291\u001b[0m )\n\u001b[1;32m   1293\u001b[0m \u001b[38;5;28;01mif\u001b[39;00m \u001b[38;5;28mlen\u001b[39m(mapped) \u001b[38;5;129;01mand\u001b[39;00m \u001b[38;5;28misinstance\u001b[39m(mapped[\u001b[38;5;241m0\u001b[39m], ABCSeries):\n\u001b[1;32m   1294\u001b[0m     \u001b[38;5;66;03m# GH#43986 Need to do list(mapped) in order to get treated as nested\u001b[39;00m\n\u001b[1;32m   1295\u001b[0m     \u001b[38;5;66;03m#  See also GH#25959 regarding EA support\u001b[39;00m\n\u001b[1;32m   1296\u001b[0m     \u001b[38;5;28;01mreturn\u001b[39;00m obj\u001b[38;5;241m.\u001b[39m_constructor_expanddim(\u001b[38;5;28mlist\u001b[39m(mapped), index\u001b[38;5;241m=\u001b[39mobj\u001b[38;5;241m.\u001b[39mindex)\n",
      "File \u001b[0;32m~/anaconda3/lib/python3.11/site-packages/pandas/core/base.py:921\u001b[0m, in \u001b[0;36mIndexOpsMixin._map_values\u001b[0;34m(self, mapper, na_action, convert)\u001b[0m\n\u001b[1;32m    918\u001b[0m \u001b[38;5;28;01mif\u001b[39;00m \u001b[38;5;28misinstance\u001b[39m(arr, ExtensionArray):\n\u001b[1;32m    919\u001b[0m     \u001b[38;5;28;01mreturn\u001b[39;00m arr\u001b[38;5;241m.\u001b[39mmap(mapper, na_action\u001b[38;5;241m=\u001b[39mna_action)\n\u001b[0;32m--> 921\u001b[0m \u001b[38;5;28;01mreturn\u001b[39;00m algorithms\u001b[38;5;241m.\u001b[39mmap_array(arr, mapper, na_action\u001b[38;5;241m=\u001b[39mna_action, convert\u001b[38;5;241m=\u001b[39mconvert)\n",
      "File \u001b[0;32m~/anaconda3/lib/python3.11/site-packages/pandas/core/algorithms.py:1814\u001b[0m, in \u001b[0;36mmap_array\u001b[0;34m(arr, mapper, na_action, convert)\u001b[0m\n\u001b[1;32m   1812\u001b[0m values \u001b[38;5;241m=\u001b[39m arr\u001b[38;5;241m.\u001b[39mastype(\u001b[38;5;28mobject\u001b[39m, copy\u001b[38;5;241m=\u001b[39m\u001b[38;5;28;01mFalse\u001b[39;00m)\n\u001b[1;32m   1813\u001b[0m \u001b[38;5;28;01mif\u001b[39;00m na_action \u001b[38;5;129;01mis\u001b[39;00m \u001b[38;5;28;01mNone\u001b[39;00m:\n\u001b[0;32m-> 1814\u001b[0m     \u001b[38;5;28;01mreturn\u001b[39;00m lib\u001b[38;5;241m.\u001b[39mmap_infer(values, mapper, convert\u001b[38;5;241m=\u001b[39mconvert)\n\u001b[1;32m   1815\u001b[0m \u001b[38;5;28;01melse\u001b[39;00m:\n\u001b[1;32m   1816\u001b[0m     \u001b[38;5;28;01mreturn\u001b[39;00m lib\u001b[38;5;241m.\u001b[39mmap_infer_mask(\n\u001b[1;32m   1817\u001b[0m         values, mapper, mask\u001b[38;5;241m=\u001b[39misna(values)\u001b[38;5;241m.\u001b[39mview(np\u001b[38;5;241m.\u001b[39muint8), convert\u001b[38;5;241m=\u001b[39mconvert\n\u001b[1;32m   1818\u001b[0m     )\n",
      "File \u001b[0;32mlib.pyx:2926\u001b[0m, in \u001b[0;36mpandas._libs.lib.map_infer\u001b[0;34m()\u001b[0m\n",
      "Cell \u001b[0;32mIn[145], line 10\u001b[0m, in \u001b[0;36mclean_source_dictionary\u001b[0;34m(example)\u001b[0m\n\u001b[1;32m      9\u001b[0m \u001b[38;5;28;01mdef\u001b[39;00m \u001b[38;5;21mclean_source_dictionary\u001b[39m(example):\n\u001b[0;32m---> 10\u001b[0m     \u001b[38;5;28;01mreturn\u001b[39;00m [{\u001b[38;5;124m'\u001b[39m\u001b[38;5;124mdomain\u001b[39m\u001b[38;5;124m'\u001b[39m: example[\u001b[38;5;124m'\u001b[39m\u001b[38;5;124mdomain\u001b[39m\u001b[38;5;124m'\u001b[39m]}]\n",
      "\u001b[0;31mTypeError\u001b[0m: list indices must be integers or slices, not str"
     ]
    }
   ],
   "source": [
    "#cleaning source attribute, but we can just include the value of the dictionary\n",
    "df['source'] = df['source'].apply(clean_source_dictionary)"
   ]
  },
  {
   "cell_type": "code",
   "execution_count": 173,
   "id": "9e0246f3-cf43-46d8-a710-dc515505cfe3",
   "metadata": {
    "tags": []
   },
   "outputs": [
    {
     "ename": "TypeError",
     "evalue": "list indices must be integers or slices, not str",
     "output_type": "error",
     "traceback": [
      "\u001b[0;31m---------------------------------------------------------------------------\u001b[0m",
      "\u001b[0;31mTypeError\u001b[0m                                 Traceback (most recent call last)",
      "Cell \u001b[0;32mIn[173], line 3\u001b[0m\n\u001b[1;32m      1\u001b[0m \u001b[38;5;66;03m#we get organization entities that are not companies\u001b[39;00m\n\u001b[1;32m      2\u001b[0m \u001b[38;5;66;03m#cleaning 'entities' attribute\u001b[39;00m\n\u001b[0;32m----> 3\u001b[0m df[\u001b[38;5;124m'\u001b[39m\u001b[38;5;124mmentions\u001b[39m\u001b[38;5;124m'\u001b[39m] \u001b[38;5;241m=\u001b[39m df[\u001b[38;5;124m'\u001b[39m\u001b[38;5;124mentities\u001b[39m\u001b[38;5;124m'\u001b[39m]\u001b[38;5;241m.\u001b[39mapply(clean_entities_dictionary)\n",
      "File \u001b[0;32m~/anaconda3/lib/python3.11/site-packages/pandas/core/series.py:4764\u001b[0m, in \u001b[0;36mSeries.apply\u001b[0;34m(self, func, convert_dtype, args, by_row, **kwargs)\u001b[0m\n\u001b[1;32m   4629\u001b[0m \u001b[38;5;28;01mdef\u001b[39;00m \u001b[38;5;21mapply\u001b[39m(\n\u001b[1;32m   4630\u001b[0m     \u001b[38;5;28mself\u001b[39m,\n\u001b[1;32m   4631\u001b[0m     func: AggFuncType,\n\u001b[0;32m   (...)\u001b[0m\n\u001b[1;32m   4636\u001b[0m     \u001b[38;5;241m*\u001b[39m\u001b[38;5;241m*\u001b[39mkwargs,\n\u001b[1;32m   4637\u001b[0m ) \u001b[38;5;241m-\u001b[39m\u001b[38;5;241m>\u001b[39m DataFrame \u001b[38;5;241m|\u001b[39m Series:\n\u001b[1;32m   4638\u001b[0m \u001b[38;5;250m    \u001b[39m\u001b[38;5;124;03m\"\"\"\u001b[39;00m\n\u001b[1;32m   4639\u001b[0m \u001b[38;5;124;03m    Invoke function on values of Series.\u001b[39;00m\n\u001b[1;32m   4640\u001b[0m \n\u001b[0;32m   (...)\u001b[0m\n\u001b[1;32m   4755\u001b[0m \u001b[38;5;124;03m    dtype: float64\u001b[39;00m\n\u001b[1;32m   4756\u001b[0m \u001b[38;5;124;03m    \"\"\"\u001b[39;00m\n\u001b[1;32m   4757\u001b[0m     \u001b[38;5;28;01mreturn\u001b[39;00m SeriesApply(\n\u001b[1;32m   4758\u001b[0m         \u001b[38;5;28mself\u001b[39m,\n\u001b[1;32m   4759\u001b[0m         func,\n\u001b[1;32m   4760\u001b[0m         convert_dtype\u001b[38;5;241m=\u001b[39mconvert_dtype,\n\u001b[1;32m   4761\u001b[0m         by_row\u001b[38;5;241m=\u001b[39mby_row,\n\u001b[1;32m   4762\u001b[0m         args\u001b[38;5;241m=\u001b[39margs,\n\u001b[1;32m   4763\u001b[0m         kwargs\u001b[38;5;241m=\u001b[39mkwargs,\n\u001b[0;32m-> 4764\u001b[0m     )\u001b[38;5;241m.\u001b[39mapply()\n",
      "File \u001b[0;32m~/anaconda3/lib/python3.11/site-packages/pandas/core/apply.py:1209\u001b[0m, in \u001b[0;36mSeriesApply.apply\u001b[0;34m(self)\u001b[0m\n\u001b[1;32m   1206\u001b[0m     \u001b[38;5;28;01mreturn\u001b[39;00m \u001b[38;5;28mself\u001b[39m\u001b[38;5;241m.\u001b[39mapply_compat()\n\u001b[1;32m   1208\u001b[0m \u001b[38;5;66;03m# self.func is Callable\u001b[39;00m\n\u001b[0;32m-> 1209\u001b[0m \u001b[38;5;28;01mreturn\u001b[39;00m \u001b[38;5;28mself\u001b[39m\u001b[38;5;241m.\u001b[39mapply_standard()\n",
      "File \u001b[0;32m~/anaconda3/lib/python3.11/site-packages/pandas/core/apply.py:1289\u001b[0m, in \u001b[0;36mSeriesApply.apply_standard\u001b[0;34m(self)\u001b[0m\n\u001b[1;32m   1283\u001b[0m \u001b[38;5;66;03m# row-wise access\u001b[39;00m\n\u001b[1;32m   1284\u001b[0m \u001b[38;5;66;03m# apply doesn't have a `na_action` keyword and for backward compat reasons\u001b[39;00m\n\u001b[1;32m   1285\u001b[0m \u001b[38;5;66;03m# we need to give `na_action=\"ignore\"` for categorical data.\u001b[39;00m\n\u001b[1;32m   1286\u001b[0m \u001b[38;5;66;03m# TODO: remove the `na_action=\"ignore\"` when that default has been changed in\u001b[39;00m\n\u001b[1;32m   1287\u001b[0m \u001b[38;5;66;03m#  Categorical (GH51645).\u001b[39;00m\n\u001b[1;32m   1288\u001b[0m action \u001b[38;5;241m=\u001b[39m \u001b[38;5;124m\"\u001b[39m\u001b[38;5;124mignore\u001b[39m\u001b[38;5;124m\"\u001b[39m \u001b[38;5;28;01mif\u001b[39;00m \u001b[38;5;28misinstance\u001b[39m(obj\u001b[38;5;241m.\u001b[39mdtype, CategoricalDtype) \u001b[38;5;28;01melse\u001b[39;00m \u001b[38;5;28;01mNone\u001b[39;00m\n\u001b[0;32m-> 1289\u001b[0m mapped \u001b[38;5;241m=\u001b[39m obj\u001b[38;5;241m.\u001b[39m_map_values(\n\u001b[1;32m   1290\u001b[0m     mapper\u001b[38;5;241m=\u001b[39mcurried, na_action\u001b[38;5;241m=\u001b[39maction, convert\u001b[38;5;241m=\u001b[39m\u001b[38;5;28mself\u001b[39m\u001b[38;5;241m.\u001b[39mconvert_dtype\n\u001b[1;32m   1291\u001b[0m )\n\u001b[1;32m   1293\u001b[0m \u001b[38;5;28;01mif\u001b[39;00m \u001b[38;5;28mlen\u001b[39m(mapped) \u001b[38;5;129;01mand\u001b[39;00m \u001b[38;5;28misinstance\u001b[39m(mapped[\u001b[38;5;241m0\u001b[39m], ABCSeries):\n\u001b[1;32m   1294\u001b[0m     \u001b[38;5;66;03m# GH#43986 Need to do list(mapped) in order to get treated as nested\u001b[39;00m\n\u001b[1;32m   1295\u001b[0m     \u001b[38;5;66;03m#  See also GH#25959 regarding EA support\u001b[39;00m\n\u001b[1;32m   1296\u001b[0m     \u001b[38;5;28;01mreturn\u001b[39;00m obj\u001b[38;5;241m.\u001b[39m_constructor_expanddim(\u001b[38;5;28mlist\u001b[39m(mapped), index\u001b[38;5;241m=\u001b[39mobj\u001b[38;5;241m.\u001b[39mindex)\n",
      "File \u001b[0;32m~/anaconda3/lib/python3.11/site-packages/pandas/core/base.py:921\u001b[0m, in \u001b[0;36mIndexOpsMixin._map_values\u001b[0;34m(self, mapper, na_action, convert)\u001b[0m\n\u001b[1;32m    918\u001b[0m \u001b[38;5;28;01mif\u001b[39;00m \u001b[38;5;28misinstance\u001b[39m(arr, ExtensionArray):\n\u001b[1;32m    919\u001b[0m     \u001b[38;5;28;01mreturn\u001b[39;00m arr\u001b[38;5;241m.\u001b[39mmap(mapper, na_action\u001b[38;5;241m=\u001b[39mna_action)\n\u001b[0;32m--> 921\u001b[0m \u001b[38;5;28;01mreturn\u001b[39;00m algorithms\u001b[38;5;241m.\u001b[39mmap_array(arr, mapper, na_action\u001b[38;5;241m=\u001b[39mna_action, convert\u001b[38;5;241m=\u001b[39mconvert)\n",
      "File \u001b[0;32m~/anaconda3/lib/python3.11/site-packages/pandas/core/algorithms.py:1814\u001b[0m, in \u001b[0;36mmap_array\u001b[0;34m(arr, mapper, na_action, convert)\u001b[0m\n\u001b[1;32m   1812\u001b[0m values \u001b[38;5;241m=\u001b[39m arr\u001b[38;5;241m.\u001b[39mastype(\u001b[38;5;28mobject\u001b[39m, copy\u001b[38;5;241m=\u001b[39m\u001b[38;5;28;01mFalse\u001b[39;00m)\n\u001b[1;32m   1813\u001b[0m \u001b[38;5;28;01mif\u001b[39;00m na_action \u001b[38;5;129;01mis\u001b[39;00m \u001b[38;5;28;01mNone\u001b[39;00m:\n\u001b[0;32m-> 1814\u001b[0m     \u001b[38;5;28;01mreturn\u001b[39;00m lib\u001b[38;5;241m.\u001b[39mmap_infer(values, mapper, convert\u001b[38;5;241m=\u001b[39mconvert)\n\u001b[1;32m   1815\u001b[0m \u001b[38;5;28;01melse\u001b[39;00m:\n\u001b[1;32m   1816\u001b[0m     \u001b[38;5;28;01mreturn\u001b[39;00m lib\u001b[38;5;241m.\u001b[39mmap_infer_mask(\n\u001b[1;32m   1817\u001b[0m         values, mapper, mask\u001b[38;5;241m=\u001b[39misna(values)\u001b[38;5;241m.\u001b[39mview(np\u001b[38;5;241m.\u001b[39muint8), convert\u001b[38;5;241m=\u001b[39mconvert\n\u001b[1;32m   1818\u001b[0m     )\n",
      "File \u001b[0;32mlib.pyx:2926\u001b[0m, in \u001b[0;36mpandas._libs.lib.map_infer\u001b[0;34m()\u001b[0m\n",
      "Cell \u001b[0;32mIn[152], line 16\u001b[0m, in \u001b[0;36mclean_entities_dictionary\u001b[0;34m(example)\u001b[0m\n\u001b[1;32m     14\u001b[0m \u001b[38;5;28;01mfor\u001b[39;00m i \u001b[38;5;129;01min\u001b[39;00m example:\n\u001b[1;32m     15\u001b[0m     \u001b[38;5;28;01mif\u001b[39;00m i[\u001b[38;5;124m'\u001b[39m\u001b[38;5;124mtype\u001b[39m\u001b[38;5;124m'\u001b[39m] \u001b[38;5;241m==\u001b[39m \u001b[38;5;124m'\u001b[39m\u001b[38;5;124mORG\u001b[39m\u001b[38;5;124m'\u001b[39m:\n\u001b[0;32m---> 16\u001b[0m         \u001b[38;5;28;01mreturn\u001b[39;00m [{example[\u001b[38;5;124m'\u001b[39m\u001b[38;5;124mdata\u001b[39m\u001b[38;5;124m'\u001b[39m]: example[\u001b[38;5;124m'\u001b[39m\u001b[38;5;124mmentions\u001b[39m\u001b[38;5;124m'\u001b[39m]}]\n",
      "\u001b[0;31mTypeError\u001b[0m: list indices must be integers or slices, not str"
     ]
    }
   ],
   "source": [
    "#we get organization entities that are not companies\n",
    "#cleaning 'entities' attribute\n",
    "df['mentions'] = df['entities'].apply(clean_entities_dictionary)"
   ]
  },
  {
   "cell_type": "code",
   "execution_count": 137,
   "id": "8576f199-02b2-410d-b8af-e53e04abd5c5",
   "metadata": {
    "tags": []
   },
   "outputs": [
    {
     "data": {
      "text/plain": [
       "<bound method IndexOpsMixin.value_counts of 0    0.067475\n",
       "1    0.018021\n",
       "2    0.042381\n",
       "3    0.178955\n",
       "4    0.010662\n",
       "5    0.282916\n",
       "6    0.009059\n",
       "7    0.136892\n",
       "8    0.024666\n",
       "9    0.036282\n",
       "Name: positive_sentiment, dtype: float64>"
      ]
     },
     "execution_count": 137,
     "metadata": {},
     "output_type": "execute_result"
    }
   ],
   "source": [
    "#summaries are pretty objective\n",
    "df['positive_sentiment'].value_counts"
   ]
  },
  {
   "cell_type": "code",
   "execution_count": 138,
   "id": "11ef6b6e-8a88-43c5-961c-7feab8fdd81a",
   "metadata": {
    "tags": []
   },
   "outputs": [
    {
     "data": {
      "text/plain": [
       "<bound method IndexOpsMixin.value_counts of 0                   Apple is planning new VR lens tech\n",
       "1              US strengthens Ukraine’s cyber defences\n",
       "2    Tim Cook pay vote shows ISS should not be judg...\n",
       "3                    Big Tech raises its bets on chips\n",
       "4                           Apple’s Russian withdrawal\n",
       "5    Apple launches high-end PC in drive to leverag...\n",
       "6    Apple joins companies pulling back from Russia...\n",
       "7                           Investing in a time of war\n",
       "8    The Lex Newsletter: sanctions against Russia s...\n",
       "9    War in Ukraine reminds us that maps can be wea...\n",
       "Name: title, dtype: object>"
      ]
     },
     "execution_count": 138,
     "metadata": {},
     "output_type": "execute_result"
    }
   ],
   "source": [
    "#run sentiment analyzer on the title \n",
    "\n",
    "df['title'].value_counts"
   ]
  },
  {
   "cell_type": "code",
   "execution_count": 139,
   "id": "31091b05-f653-44c3-bf4c-fc33bfcdb85b",
   "metadata": {
    "tags": []
   },
   "outputs": [
    {
     "data": {
      "text/plain": [
       "<bound method IndexOpsMixin.value_counts of 0                                   Michelle D. Madsen\n",
       "1                                        Chris Nuttall\n",
       "2                                       Michael Moritz\n",
       "3                                       Richard Waters\n",
       "4                                        Chris Nuttall\n",
       "5                                        Patrick McGee\n",
       "6    Tim Bradshaw, Andrew Edgecliffe-Johnson, Patri...\n",
       "7                                       Simon Edelsten\n",
       "8                                         Elaine Moore\n",
       "9                                          John Gapper\n",
       "Name: authorsByline, dtype: object>"
      ]
     },
     "execution_count": 139,
     "metadata": {},
     "output_type": "execute_result"
    }
   ],
   "source": [
    "df['authorsByline'].value_counts"
   ]
  },
  {
   "cell_type": "code",
   "execution_count": 78,
   "id": "9b7e84e3-1919-4ccb-bdf3-7f229cc2a297",
   "metadata": {
    "tags": []
   },
   "outputs": [
    {
     "data": {
      "text/plain": [
       "0    {'positive': 0.06747531, 'negative': 0.0125826...\n",
       "1    {'positive': 0.018021135, 'negative': 0.934290...\n",
       "2    {'positive': 0.042381383, 'negative': 0.078485...\n",
       "3    {'positive': 0.17895535, 'negative': 0.0150967...\n",
       "4    {'positive': 0.010662383, 'negative': 0.912274...\n",
       "5    {'positive': 0.28291592, 'negative': 0.0345823...\n",
       "6    {'positive': 0.00905919, 'negative': 0.9386143...\n",
       "7    {'positive': 0.13689183, 'negative': 0.429763,...\n",
       "8    {'positive': 0.024665909, 'negative': 0.909453...\n",
       "9    {'positive': 0.03628214, 'negative': 0.3008344...\n",
       "Name: sentiment, dtype: object"
      ]
     },
     "execution_count": 78,
     "metadata": {},
     "output_type": "execute_result"
    }
   ],
   "source": []
  },
  {
   "cell_type": "code",
   "execution_count": 163,
   "id": "a242072b-a52c-4627-8476-2f62c01559eb",
   "metadata": {
    "tags": []
   },
   "outputs": [],
   "source": [
    "df_try = df[['summary','title','pubDate','addDate','n_companies','authorsByline','source','companies','entities','positive_sentiment', 'negative_sentiment', 'neutral_sentiment']]"
   ]
  },
  {
   "cell_type": "code",
   "execution_count": 164,
   "id": "ad5a16c7-fe10-45b1-b75a-6552eb141469",
   "metadata": {
    "tags": []
   },
   "outputs": [
    {
     "data": {
      "text/plain": [
       "(10, 12)"
      ]
     },
     "execution_count": 164,
     "metadata": {},
     "output_type": "execute_result"
    }
   ],
   "source": [
    "df_try.shape"
   ]
  },
  {
   "cell_type": "code",
   "execution_count": 165,
   "id": "8045a36f-a100-41d4-85a4-1063924154e9",
   "metadata": {
    "tags": []
   },
   "outputs": [],
   "source": [
    "#EXPLODE, make a new row for each company.\n",
    "\n",
    "df_exploded = df_try.explode('companies')\n",
    "# Reset index to maintain the original index values\n",
    "df_exploded.reset_index(drop=True, inplace=True)"
   ]
  },
  {
   "cell_type": "code",
   "execution_count": 166,
   "id": "e277cc39-8ed5-47e1-b56f-3101a91628df",
   "metadata": {
    "tags": []
   },
   "outputs": [
    {
     "data": {
      "text/plain": [
       "(31, 12)"
      ]
     },
     "execution_count": 166,
     "metadata": {},
     "output_type": "execute_result"
    }
   ],
   "source": [
    "df_exploded.shape"
   ]
  },
  {
   "cell_type": "code",
   "execution_count": 167,
   "id": "8c561e5c-20fb-4100-93e0-23ed199073b3",
   "metadata": {
    "tags": []
   },
   "outputs": [
    {
     "data": {
      "text/plain": [
       "companies\n",
       "{'name': 'Apple Inc.', 'symbols': ['AAPL', 'APC.DE', 'APC.F']}                                                                         10\n",
       "{'name': 'Alphabet Inc.', 'symbols': ['ABEA.DE', 'ABEC.DE', 'GOOG', 'GOOGL', 'GOOGL.SW']}                                               3\n",
       "{'name': 'Ford Motor Company', 'symbols': ['F', 'FMC1.DE']}                                                                             1\n",
       "{'name': 'Polymetal International plc', 'symbols': ['AUCOY', 'POLY.L', 'POLY.ME']}                                                      1\n",
       "{'name': 'BP p.l.c.', 'symbols': ['BP', 'BP.L', 'BP.SW', 'BPE.DE', 'BPE5.DE']}                                                          1\n",
       "{'name': 'Pfizer Limited', 'symbols': ['PFIZER.NS']}                                                                                    1\n",
       "{'name': 'Unilever Philippines', 'symbols': []}                                                                                         1\n",
       "{'name': 'Snap Inc.', 'symbols': ['1SI.DE', 'SNAP']}                                                                                    1\n",
       "{'name': 'Huawei', 'symbols': []}                                                                                                       1\n",
       "{'name': 'Palantir Technologies Inc.', 'symbols': ['PLTR']}                                                                             1\n",
       "{'name': 'Telefonaktiebolaget LM Ericsson (publ)', 'symbols': ['ERCB.DE', 'ERCG.DE', 'ERIBR.HE', 'ERIC', 'ERIC-A.ST', 'ERIC-B.ST']}     1\n",
       "{'name': 'Activision Publishing', 'symbols': []}                                                                                        1\n",
       "{'name': 'Netflix, Inc.', 'symbols': ['NFC.DE', 'NFLX']}                                                                                1\n",
       "{'name': 'Big Apple Donuts and Coffee', 'symbols': []}                                                                                  1\n",
       "{'name': 'NVIDIA Corporation', 'symbols': ['NVD.DE', 'NVDA']}                                                                           1\n",
       "{'name': 'ISS A/S', 'symbols': ['ISS.CO', 'ISSDY']}                                                                                     1\n",
       "{'name': 'Microsoft Corporation', 'symbols': ['4338.HK', 'MSF.BR', 'MSF.DE', 'MSFT']}                                                   1\n",
       "{'name': 'Activision Blizzard Inc', 'symbols': ['AIY.DE']}                                                                              1\n",
       "{'name': 'Amazon Robotics', 'symbols': []}                                                                                              1\n",
       "{'name': 'Lex Mundi', 'symbols': []}                                                                                                    1\n",
       "Name: count, dtype: int64"
      ]
     },
     "execution_count": 167,
     "metadata": {},
     "output_type": "execute_result"
    }
   ],
   "source": [
    "df_exploded['companies'].value_counts()"
   ]
  },
  {
   "cell_type": "code",
   "execution_count": 159,
   "id": "e5e108fa-19e9-49a1-82f2-aa73c51169cf",
   "metadata": {
    "tags": []
   },
   "outputs": [
    {
     "data": {
      "text/html": [
       "<div>\n",
       "<style scoped>\n",
       "    .dataframe tbody tr th:only-of-type {\n",
       "        vertical-align: middle;\n",
       "    }\n",
       "\n",
       "    .dataframe tbody tr th {\n",
       "        vertical-align: top;\n",
       "    }\n",
       "\n",
       "    .dataframe thead th {\n",
       "        text-align: right;\n",
       "    }\n",
       "</style>\n",
       "<table border=\"1\" class=\"dataframe\">\n",
       "  <thead>\n",
       "    <tr style=\"text-align: right;\">\n",
       "      <th></th>\n",
       "      <th>summary</th>\n",
       "      <th>title</th>\n",
       "      <th>pubDate</th>\n",
       "      <th>addDate</th>\n",
       "      <th>authorsByline</th>\n",
       "      <th>source</th>\n",
       "      <th>companies</th>\n",
       "      <th>entities</th>\n",
       "      <th>positive_sentiment</th>\n",
       "      <th>negative_sentiment</th>\n",
       "      <th>neutral_sentiment</th>\n",
       "    </tr>\n",
       "  </thead>\n",
       "  <tbody>\n",
       "    <tr>\n",
       "      <th>0</th>\n",
       "      <td>BlackRock has launched a thematic equity fund ...</td>\n",
       "      <td>Apple is planning new VR lens tech</td>\n",
       "      <td>2022-03-03</td>\n",
       "      <td>2022-03-03</td>\n",
       "      <td>Michelle D. Madsen</td>\n",
       "      <td>[{'domain': 'metanews.com'}]</td>\n",
       "      <td>{'name': 'Apple Inc.', 'symbols': ['AAPL', 'AP...</td>\n",
       "      <td>[{'data': 'Apple', 'type': 'ORG', 'mentions': ...</td>\n",
       "      <td>0.067475</td>\n",
       "      <td>0.012583</td>\n",
       "      <td>0.919942</td>\n",
       "    </tr>\n",
       "    <tr>\n",
       "      <th>1</th>\n",
       "      <td>The US has strengthened its cyber defences in ...</td>\n",
       "      <td>US strengthens Ukraine’s cyber defences</td>\n",
       "      <td>2022-03-09</td>\n",
       "      <td>2022-03-09</td>\n",
       "      <td>Chris Nuttall</td>\n",
       "      <td>[{'domain': 'ft.com'}]</td>\n",
       "      <td>{'name': 'Activision Publishing', 'symbols': []}</td>\n",
       "      <td>[{'data': 'US', 'type': 'GPE', 'mentions': 11}...</td>\n",
       "      <td>0.018021</td>\n",
       "      <td>0.934290</td>\n",
       "      <td>0.047688</td>\n",
       "    </tr>\n",
       "  </tbody>\n",
       "</table>\n",
       "</div>"
      ],
      "text/plain": [
       "                                             summary  \\\n",
       "0  BlackRock has launched a thematic equity fund ...   \n",
       "1  The US has strengthened its cyber defences in ...   \n",
       "\n",
       "                                     title     pubDate     addDate  \\\n",
       "0       Apple is planning new VR lens tech  2022-03-03  2022-03-03   \n",
       "1  US strengthens Ukraine’s cyber defences  2022-03-09  2022-03-09   \n",
       "\n",
       "        authorsByline                        source  \\\n",
       "0  Michelle D. Madsen  [{'domain': 'metanews.com'}]   \n",
       "1       Chris Nuttall        [{'domain': 'ft.com'}]   \n",
       "\n",
       "                                           companies  \\\n",
       "0  {'name': 'Apple Inc.', 'symbols': ['AAPL', 'AP...   \n",
       "1   {'name': 'Activision Publishing', 'symbols': []}   \n",
       "\n",
       "                                            entities  positive_sentiment  \\\n",
       "0  [{'data': 'Apple', 'type': 'ORG', 'mentions': ...            0.067475   \n",
       "1  [{'data': 'US', 'type': 'GPE', 'mentions': 11}...            0.018021   \n",
       "\n",
       "   negative_sentiment  neutral_sentiment  \n",
       "0            0.012583           0.919942  \n",
       "1            0.934290           0.047688  "
      ]
     },
     "execution_count": 159,
     "metadata": {},
     "output_type": "execute_result"
    }
   ],
   "source": [
    "df_exploded.head(2)"
   ]
  },
  {
   "cell_type": "code",
   "execution_count": 176,
   "id": "84c58184-e411-46ca-bcd7-e2d1f4a34617",
   "metadata": {
    "collapsed": true,
    "jupyter": {
     "outputs_hidden": true
    },
    "tags": []
   },
   "outputs": [
    {
     "data": {
      "text/plain": [
       "entities\n",
       "[{'data': 'Apple', 'type': 'ORG', 'mentions': 10}, {'data': 'Russia Today', 'type': 'ORG', 'mentions': 1}, {'data': 'Sputnik', 'type': 'ORG', 'mentions': 1}, {'data': 'Facebook', 'type': 'ORG', 'mentions': 1}, {'data': 'YouTube', 'type': 'ORG', 'mentions': 1}, {'data': 'TikTok', 'type': 'ORG', 'mentions': 1}, {'data': 'Google', 'type': 'ORG', 'mentions': 2}, {'data': 'Counterpoint Research', 'type': 'ORG', 'mentions': 1}, {'data': 'Sensor Tower', 'type': 'ORG', 'mentions': 1}, {'data': 'Ford', 'type': 'ORG', 'mentions': 3}, {'data': 'Nike', 'type': 'ORG', 'mentions': 1}, {'data': 'Palantir', 'type': 'ORG', 'mentions': 2}, {'data': 'NHS', 'type': 'ORG', 'mentions': 2}, {'data': 'Netflix', 'type': 'ORG', 'mentions': 2}, {'data': 'Next Games', 'type': 'ORG', 'mentions': 1}, {'data': 'Ericsson', 'type': 'ORG', 'mentions': 1}, {'data': 'Huawei', 'type': 'ORG', 'mentions': 3}, {'data': 'Intel', 'type': 'ORG', 'mentions': 1}, {'data': 'Russian', 'type': 'NORP', 'mentions': 6}, {'data': 'Finnish', 'type': 'NORP', 'mentions': 1}, {'data': 'Swedish', 'type': 'NORP', 'mentions': 1}, {'data': 'Chinese', 'type': 'NORP', 'mentions': 1}, {'data': 'Russia', 'type': 'GPE', 'mentions': 8}, {'data': 'Ukraine', 'type': 'GPE', 'mentions': 4}, {'data': 'California', 'type': 'GPE', 'mentions': 1}, {'data': 'Iraq', 'type': 'GPE', 'mentions': 2}, {'data': 'Japan', 'type': 'GPE', 'mentions': 2}, {'data': 'Tokyo', 'type': 'GPE', 'mentions': 1}, {'data': 'Barcelona', 'type': 'GPE', 'mentions': 1}, {'data': 'iPhones', 'type': 'PRODUCT', 'mentions': 4}, {'data': 'the MatePad Paper', 'type': 'PRODUCT', 'mentions': 1}, {'data': 'M-Pencil', 'type': 'PRODUCT', 'mentions': 1}, {'data': 'the MateBook X Pro', 'type': 'PRODUCT', 'mentions': 2}, {'data': 'i7', 'type': 'PRODUCT', 'mentions': 1}, {'data': 'MateStation X', 'type': 'PRODUCT', 'mentions': 1}, {'data': 'PixLab X1', 'type': 'PRODUCT', 'mentions': 1}, {'data': 'Sound Joy', 'type': 'PRODUCT', 'mentions': 1}, {'data': 'Tim Bradshaw', 'type': 'PERSON', 'mentions': 2}, {'data': 'Mykhailo Fedorov', 'type': 'PERSON', 'mentions': 1}, {'data': 'Cook', 'type': 'PERSON', 'mentions': 1}, {'data': 'Madhumita Murgia', 'type': 'PERSON', 'mentions': 1}, {'data': 'Leo Lewis', 'type': 'PERSON', 'mentions': 1}, {'data': 'Europe', 'type': 'LOC', 'mentions': 1}, {'data': 'Silicon Valley’s', 'type': 'LOC', 'mentions': 1}, {'data': 'Stranger Things', 'type': 'WORK_OF_ART', 'mentions': 1}, {'data': 'Mobile World Congress', 'type': 'EVENT', 'mentions': 1}]                                                                 7\n",
       "[{'data': 'US', 'type': 'GPE', 'mentions': 11}, {'data': 'Ukraine', 'type': 'GPE', 'mentions': 7}, {'data': 'Romania', 'type': 'GPE', 'mentions': 1}, {'data': 'China', 'type': 'GPE', 'mentions': 2}, {'data': 'Russian', 'type': 'NORP', 'mentions': 7}, {'data': 'American', 'type': 'NORP', 'mentions': 1}, {'data': 'Californian', 'type': 'NORP', 'mentions': 1}, {'data': 'Ukrainian', 'type': 'NORP', 'mentions': 1}, {'data': 'Chinese', 'type': 'NORP', 'mentions': 1}, {'data': 'the Ukrainian Railways’', 'type': 'ORG', 'mentions': 1}, {'data': 'Fortinet', 'type': 'ORG', 'mentions': 1}, {'data': 'Xiaomi', 'type': 'ORG', 'mentions': 1}, {'data': 'Oppo', 'type': 'ORG', 'mentions': 1}, {'data': 'Huawei', 'type': 'ORG', 'mentions': 1}, {'data': 'Lex', 'type': 'ORG', 'mentions': 1}, {'data': 'Nasdaq', 'type': 'ORG', 'mentions': 1}, {'data': 'Activision', 'type': 'ORG', 'mentions': 3}, {'data': 'Microsoft', 'type': 'ORG', 'mentions': 2}, {'data': 'Department of Justice', 'type': 'ORG', 'mentions': 2}, {'data': 'Securities and Exchange Commission', 'type': 'ORG', 'mentions': 1}, {'data': 'SEC', 'type': 'ORG', 'mentions': 1}, {'data': 'Amazon', 'type': 'ORG', 'mentions': 2}, {'data': 'Congress', 'type': 'ORG', 'mentions': 1}, {'data': 'House Judiciary committee', 'type': 'ORG', 'mentions': 1}, {'data': 'Apple', 'type': 'ORG', 'mentions': 1}, {'data': 'Gillian Tett', 'type': 'PERSON', 'mentions': 1}, {'data': 'Robin Wigglesworth', 'type': 'PERSON', 'mentions': 1}, {'data': 'Diller', 'type': 'PERSON', 'mentions': 3}, {'data': 'David Geffen', 'type': 'PERSON', 'mentions': 2}, {'data': 'Merrick Garland', 'type': 'PERSON', 'mentions': 1}, {'data': 'Patrick McGee', 'type': 'PERSON', 'mentions': 1}, {'data': 'Online Safety Bill', 'type': 'LAW', 'mentions': 1}, {'data': 'The Mac Studio', 'type': 'PRODUCT', 'mentions': 2}, {'data': 'M1 Max', 'type': 'PRODUCT', 'mentions': 2}, {'data': 'Ultra', 'type': 'PRODUCT', 'mentions': 1}, {'data': 'Studio Display —', 'type': 'PRODUCT', 'mentions': 1}]                                                                                                                                                                                                                                                                                                                                                                                                                                                                                                                                                                                   5\n",
       "[{'data': 'Steve Jobs', 'type': 'PERSON', 'mentions': 2}, {'data': 'Apple', 'type': 'ORG', 'mentions': 8}, {'data': 'Intel', 'type': 'ORG', 'mentions': 2}, {'data': 'Google', 'type': 'ORG', 'mentions': 4}, {'data': 'Amazon Web Services’', 'type': 'ORG', 'mentions': 1}, {'data': 'Tesla', 'type': 'ORG', 'mentions': 1}, {'data': 'TSMC', 'type': 'ORG', 'mentions': 1}, {'data': 'AWS', 'type': 'ORG', 'mentions': 2}, {'data': 'Annapurna', 'type': 'ORG', 'mentions': 1}, {'data': 'Nvidia', 'type': 'ORG', 'mentions': 3}, {'data': 'iPad', 'type': 'PRODUCT', 'mentions': 1}, {'data': 'Mac', 'type': 'PRODUCT', 'mentions': 1}, {'data': 'M1', 'type': 'PRODUCT', 'mentions': 4}, {'data': 'Graviton', 'type': 'PRODUCT', 'mentions': 1}, {'data': 'Arm', 'type': 'PRODUCT', 'mentions': 1}, {'data': 'X86', 'type': 'PRODUCT', 'mentions': 1}, {'data': 'Trainium', 'type': 'PRODUCT', 'mentions': 1}]                                                                                                                                                                                                                                                                                                                                                                                                                                                                                                                                                                                                                                                                                                                                                                                                                                                                                                                                                                                                                                                                                                                                                                                                                                                                                                                                                                                                                                                                                                                                                                                                                                                                                                                                               4\n",
       "[{'data': 'The Lex Newsletter', 'type': 'ORG', 'mentions': 9}, {'data': 'CFRA', 'type': 'ORG', 'mentions': 1}, {'data': 'World Semiconductor Trade Statistics', 'type': 'ORG', 'mentions': 1}, {'data': 'Apple', 'type': 'ORG', 'mentions': 2}, {'data': 'Nike', 'type': 'ORG', 'mentions': 1}, {'data': 'Disney', 'type': 'ORG', 'mentions': 1}, {'data': 'BP', 'type': 'ORG', 'mentions': 4}, {'data': 'Shell', 'type': 'ORG', 'mentions': 1}, {'data': 'ExxonMobil', 'type': 'ORG', 'mentions': 1}, {'data': 'MSCI', 'type': 'ORG', 'mentions': 1}, {'data': 'FTSE Russell', 'type': 'ORG', 'mentions': 1}, {'data': 'Rosneft', 'type': 'ORG', 'mentions': 2}, {'data': 'Rheinmetall', 'type': 'ORG', 'mentions': 1}, {'data': 'BDSV', 'type': 'ORG', 'mentions': 1}, {'data': 'EU', 'type': 'ORG', 'mentions': 2}, {'data': 'Polymetal International', 'type': 'ORG', 'mentions': 1}, {'data': 'LSE', 'type': 'ORG', 'mentions': 1}, {'data': 'Refinitiv', 'type': 'ORG', 'mentions': 1}, {'data': 'Cheniere Energy’s', 'type': 'ORG', 'mentions': 1}, {'data': 'UN General Assembly', 'type': 'ORG', 'mentions': 1}, {'data': 'LastPass', 'type': 'ORG', 'mentions': 1}, {'data': 'Russia', 'type': 'GPE', 'mentions': 20}, {'data': 'China', 'type': 'GPE', 'mentions': 4}, {'data': 'Germany', 'type': 'GPE', 'mentions': 1}, {'data': 'London', 'type': 'GPE', 'mentions': 1}, {'data': 'City', 'type': 'GPE', 'mentions': 1}, {'data': 'Ukraine', 'type': 'GPE', 'mentions': 3}, {'data': 'Joe Biden', 'type': 'PERSON', 'mentions': 1}, {'data': 'iPhones', 'type': 'PRODUCT', 'mentions': 1}, {'data': 'Swift', 'type': 'PRODUCT', 'mentions': 2}, {'data': 'Password1', 'type': 'PRODUCT', 'mentions': 1}, {'data': 'Cross-Border Interbank Payment System', 'type': 'PRODUCT', 'mentions': 1}, {'data': 'Russian', 'type': 'NORP', 'mentions': 9}, {'data': 'German', 'type': 'NORP', 'mentions': 1}, {'data': 'Chinese', 'type': 'NORP', 'mentions': 1}, {'data': 'Europe', 'type': 'LOC', 'mentions': 1}, {'data': 'Gulf Coast', 'type': 'LOC', 'mentions': 1}]                                                                                                                                                                                                                                                                                                                                                                                                                                                                                                                                                                                    4\n",
       "[{'data': 'Europe', 'type': 'LOC', 'mentions': 4}, {'data': 'West', 'type': 'LOC', 'mentions': 1}, {'data': 'Silicon Valley', 'type': 'LOC', 'mentions': 1}, {'data': 'Ukraine', 'type': 'GPE', 'mentions': 4}, {'data': 'Beijing', 'type': 'GPE', 'mentions': 1}, {'data': 'Russia', 'type': 'GPE', 'mentions': 7}, {'data': 'Turkey', 'type': 'GPE', 'mentions': 1}, {'data': 'Germany', 'type': 'GPE', 'mentions': 1}, {'data': 'Italy', 'type': 'GPE', 'mentions': 1}, {'data': 'China', 'type': 'GPE', 'mentions': 4}, {'data': 'Chinese', 'type': 'NORP', 'mentions': 2}, {'data': 'European', 'type': 'NORP', 'mentions': 1}, {'data': 'Russian', 'type': 'NORP', 'mentions': 2}, {'data': 'Germans', 'type': 'NORP', 'mentions': 2}, {'data': 'Vladimir Putin', 'type': 'PERSON', 'mentions': 2}, {'data': 'Xi Jinping', 'type': 'PERSON', 'mentions': 1}, {'data': 'Jay Powell', 'type': 'PERSON', 'mentions': 1}, {'data': 'Nathan Rothschild’s', 'type': 'PERSON', 'mentions': 1}, {'data': 'Simon Edelsten', 'type': 'PERSON', 'mentions': 1}, {'data': 'Apple', 'type': 'ORG', 'mentions': 1}, {'data': 'Unilever', 'type': 'ORG', 'mentions': 1}, {'data': 'Beiersdorf', 'type': 'ORG', 'mentions': 1}, {'data': 'Nivea', 'type': 'ORG', 'mentions': 1}, {'data': 'Henkel', 'type': 'ORG', 'mentions': 1}, {'data': 'Home Depot', 'type': 'ORG', 'mentions': 1}, {'data': 'Walmart', 'type': 'ORG', 'mentions': 1}, {'data': 'Adidas', 'type': 'ORG', 'mentions': 1}, {'data': 'Inditex', 'type': 'ORG', 'mentions': 1}, {'data': 'Zara', 'type': 'ORG', 'mentions': 1}, {'data': 'Roche', 'type': 'ORG', 'mentions': 1}, {'data': 'Merck', 'type': 'ORG', 'mentions': 1}, {'data': 'Pfizer', 'type': 'ORG', 'mentions': 1}, {'data': 'Google', 'type': 'ORG', 'mentions': 1}, {'data': 'Microsoft', 'type': 'ORG', 'mentions': 1}, {'data': 'Amazon', 'type': 'ORG', 'mentions': 1}, {'data': 'the US Federal Reserve', 'type': 'ORG', 'mentions': 2}, {'data': 'Standard & Poor’s', 'type': 'ORG', 'mentions': 1}, {'data': 'the Artemis Global Select Fund', 'type': 'ORG', 'mentions': 1}, {'data': 'iPhones', 'type': 'PRODUCT', 'mentions': 1}]                                                                                                                                                                                                                                                                                                                                                                                                                                                                                               3\n",
       "[{'data': 'Tim Cook', 'type': 'PERSON', 'mentions': 3}, {'data': 'ISS', 'type': 'ORG', 'mentions': 12}, {'data': 'Sequoia Capital', 'type': 'ORG', 'mentions': 1}, {'data': 'Apple', 'type': 'ORG', 'mentions': 4}, {'data': 'Institutional Shareholder Services', 'type': 'ORG', 'mentions': 1}, {'data': 'Cook', 'type': 'ORG', 'mentions': 2}, {'data': 'Glass Lewis', 'type': 'ORG', 'mentions': 1}, {'data': 'Moody’s', 'type': 'ORG', 'mentions': 2}, {'data': 'Fitch', 'type': 'ORG', 'mentions': 1}, {'data': 'America', 'type': 'GPE', 'mentions': 1}]                                                                                                                                                                                                                                                                                                                                                                                                                                                                                                                                                                                                                                                                                                                                                                                                                                                                                                                                                                                                                                                                                                                                                                                                                                                                                                                                                                                                                                                                                                                                                                                                                                                                                                                                                                                                                                                                                                                                                                                                                                                                                                   2\n",
       "[{'data': 'Apple', 'type': 'ORG', 'mentions': 12}, {'data': 'Russia Today', 'type': 'ORG', 'mentions': 2}, {'data': 'Sputnik', 'type': 'ORG', 'mentions': 2}, {'data': 'App Store', 'type': 'ORG', 'mentions': 2}, {'data': 'Ford', 'type': 'ORG', 'mentions': 1}, {'data': 'Nike', 'type': 'ORG', 'mentions': 1}, {'data': 'Boeing', 'type': 'ORG', 'mentions': 1}, {'data': 'Walt Disney', 'type': 'ORG', 'mentions': 1}, {'data': 'Warner Bros', 'type': 'ORG', 'mentions': 1}, {'data': 'AlixPartners', 'type': 'ORG', 'mentions': 1}, {'data': 'Veracity Worldwide', 'type': 'ORG', 'mentions': 1}, {'data': 'Levi Strauss', 'type': 'ORG', 'mentions': 1}, {'data': 'Coca-Cola', 'type': 'ORG', 'mentions': 1}, {'data': 'PepsiCo', 'type': 'ORG', 'mentions': 1}, {'data': 'Estée Lauder', 'type': 'ORG', 'mentions': 1}, {'data': 'Kimberly-Clark', 'type': 'ORG', 'mentions': 1}, {'data': 'Mondelez', 'type': 'ORG', 'mentions': 1}, {'data': 'Facebook', 'type': 'ORG', 'mentions': 1}, {'data': 'YouTube', 'type': 'ORG', 'mentions': 1}, {'data': 'TikTok', 'type': 'ORG', 'mentions': 1}, {'data': 'Google', 'type': 'ORG', 'mentions': 2}, {'data': 'Snapchat', 'type': 'ORG', 'mentions': 2}, {'data': '10 Downing Street', 'type': 'ORG', 'mentions': 1}, {'data': 'Counterpoint Research', 'type': 'ORG', 'mentions': 1}, {'data': 'Sensor Tower', 'type': 'ORG', 'mentions': 1}, {'data': 'the Federal Security Service', 'type': 'ORG', 'mentions': 1}, {'data': 'FSB', 'type': 'ORG', 'mentions': 3}, {'data': 'Russia', 'type': 'GPE', 'mentions': 21}, {'data': 'Ukraine', 'type': 'GPE', 'mentions': 6}, {'data': 'Kyiv', 'type': 'GPE', 'mentions': 1}, {'data': 'Moscow', 'type': 'GPE', 'mentions': 1}, {'data': 'Chicago', 'type': 'GPE', 'mentions': 1}, {'data': 'New York', 'type': 'GPE', 'mentions': 1}, {'data': 'iPhone', 'type': 'PRODUCT', 'mentions': 5}, {'data': 'Secure Enclave', 'type': 'PRODUCT', 'mentions': 1}, {'data': 'Russian', 'type': 'NORP', 'mentions': 7}, {'data': 'German', 'type': 'NORP', 'mentions': 1}, {'data': 'Swiss', 'type': 'NORP', 'mentions': 1}, {'data': 'Simon Freakley', 'type': 'PERSON', 'mentions': 1}, {'data': 'Steven Fox', 'type': 'PERSON', 'mentions': 1}, {'data': 'Mykhailo Fedorov', 'type': 'PERSON', 'mentions': 1}, {'data': 'Tim Cook', 'type': 'PERSON', 'mentions': 1}, {'data': 'Poppy Wood', 'type': 'PERSON', 'mentions': 1}, {'data': 'Steff Chávez', 'type': 'PERSON', 'mentions': 1}, {'data': 'Matthew Rocco', 'type': 'PERSON', 'mentions': 1}, {'data': 'the Cold War', 'type': 'EVENT', 'mentions': 1}, {'data': 'Europe', 'type': 'LOC', 'mentions': 1}]    2\n",
       "[{'data': 'Ukraine', 'type': 'GPE', 'mentions': 7}, {'data': 'Russia', 'type': 'GPE', 'mentions': 6}, {'data': 'California', 'type': 'GPE', 'mentions': 1}, {'data': 'Kyiv', 'type': 'GPE', 'mentions': 1}, {'data': 'Kharkiv', 'type': 'GPE', 'mentions': 1}, {'data': 'Wuhan', 'type': 'GPE', 'mentions': 2}, {'data': 'China', 'type': 'GPE', 'mentions': 3}, {'data': 'London', 'type': 'GPE', 'mentions': 1}, {'data': 'Soho', 'type': 'GPE', 'mentions': 1}, {'data': 'Philippines', 'type': 'GPE', 'mentions': 1}, {'data': 'Vietnam', 'type': 'GPE', 'mentions': 1}, {'data': 'The Soviet Union', 'type': 'GPE', 'mentions': 1}, {'data': 'Moscow', 'type': 'GPE', 'mentions': 1}, {'data': 'Craigavon', 'type': 'GPE', 'mentions': 1}, {'data': 'County Armagh', 'type': 'GPE', 'mentions': 1}, {'data': 'Apple', 'type': 'ORG', 'mentions': 3}, {'data': 'Google', 'type': 'ORG', 'mentions': 3}, {'data': 'the Financial Times’', 'type': 'ORG', 'mentions': 1}, {'data': 'Institute of Virology', 'type': 'ORG', 'mentions': 1}, {'data': 'Kremlin', 'type': 'ORG', 'mentions': 1}, {'data': 'KGB', 'type': 'ORG', 'mentions': 1}, {'data': 'Maxar', 'type': 'ORG', 'mentions': 1}, {'data': 'Capella Space', 'type': 'ORG', 'mentions': 1}, {'data': 'Planet', 'type': 'ORG', 'mentions': 1}, {'data': 'Oligarch Jets', 'type': 'ORG', 'mentions': 1}, {'data': 'Liveuamap', 'type': 'ORG', 'mentions': 1}, {'data': 'FT', 'type': 'ORG', 'mentions': 1}, {'data': 'iPhones', 'type': 'PRODUCT', 'mentions': 1}, {'data': 'Ukrainian', 'type': 'NORP', 'mentions': 1}, {'data': 'Russian', 'type': 'NORP', 'mentions': 4}, {'data': 'Asian', 'type': 'NORP', 'mentions': 1}, {'data': 'Soviet', 'type': 'NORP', 'mentions': 1}, {'data': 'the Dnipro river', 'type': 'LOC', 'mentions': 1}, {'data': 'the South China Sea', 'type': 'LOC', 'mentions': 1}, {'data': 'the Huanan Seafood Wholesale Market', 'type': 'FAC', 'mentions': 1}, {'data': 'John Snow', 'type': 'PERSON', 'mentions': 1}, {'data': 'Tamburlaine', 'type': 'PERSON', 'mentions': 1}, {'data': 'Christopher Marlowe’s', 'type': 'PERSON', 'mentions': 1}, {'data': 'Vladimir Putin’s', 'type': 'PERSON', 'mentions': 1}, {'data': 'Nikita Krushchev', 'type': 'PERSON', 'mentions': 1}, {'data': 'Mark Monmonier', 'type': 'PERSON', 'mentions': 1}, {'data': 'Roman Abramovich', 'type': 'PERSON', 'mentions': 1}, {'data': 'Oleg Deripaska', 'type': 'PERSON', 'mentions': 1}, {'data': 'Antonia Phinnemore', 'type': 'PERSON', 'mentions': 1}, {'data': 'How to Lie with Maps', 'type': 'WORK_OF_ART', 'mentions': 1}]                                                      2\n",
       "[{'data': 'Apple', 'type': 'ORG', 'mentions': 2}, {'data': 'BlackRock', 'type': 'ORG', 'mentions': 7}, {'data': 'ETF Strategy', 'type': 'ORG', 'mentions': 1}, {'data': 'Morningstar', 'type': 'ORG', 'mentions': 1}, {'data': 'Global Equity Research', 'type': 'ORG', 'mentions': 1}, {'data': 'Meta Platforms', 'type': 'ORG', 'mentions': 4}, {'data': 'Nvidia', 'type': 'ORG', 'mentions': 1}, {'data': 'Netease', 'type': 'ORG', 'mentions': 1}, {'data': 'Roblox', 'type': 'ORG', 'mentions': 1}, {'data': 'Facebook', 'type': 'ORG', 'mentions': 2}, {'data': 'KPMG', 'type': 'ORG', 'mentions': 1}, {'data': 'Microsoft', 'type': 'ORG', 'mentions': 2}, {'data': 'iShares', 'type': 'ORG', 'mentions': 1}, {'data': 'New York', 'type': 'GPE', 'mentions': 1}, {'data': 'US', 'type': 'GPE', 'mentions': 4}, {'data': 'James Lord', 'type': 'PERSON', 'mentions': 1}, {'data': 'Neal Stephenson', 'type': 'PERSON', 'mentions': 1}, {'data': 'Mark Zuckerberg', 'type': 'PERSON', 'mentions': 1}, {'data': 'Laurence Fink', 'type': 'PERSON', 'mentions': 1}]                                                                                                                                                                                                                                                                                                                                                                                                                                                                                                                                                                                                                                                                                                                                                                                                                                                                                                                                                                                                                                                                                                                                                                                                                                                                                                                                                                                                                                                                                                                                                                                           1\n",
       "[{'data': 'Apple', 'type': 'ORG', 'mentions': 9}, {'data': 'Intel', 'type': 'ORG', 'mentions': 2}, {'data': 'Samsung', 'type': 'ORG', 'mentions': 1}, {'data': 'Gartner', 'type': 'ORG', 'mentions': 2}, {'data': 'CCS Insight', 'type': 'ORG', 'mentions': 1}, {'data': 'Android', 'type': 'ORG', 'mentions': 1}, {'data': 'Creative Strategies', 'type': 'ORG', 'mentions': 1}, {'data': 'M1', 'type': 'PRODUCT', 'mentions': 5}, {'data': 'The Mac Studio', 'type': 'PRODUCT', 'mentions': 3}, {'data': 'iPhone', 'type': 'PRODUCT', 'mentions': 5}, {'data': 'Ultra', 'type': 'PRODUCT', 'mentions': 1}, {'data': '5', 'type': 'PRODUCT', 'mentions': 2}, {'data': 'A15 Bionic', 'type': 'PRODUCT', 'mentions': 1}, {'data': 'Tim Cook', 'type': 'PERSON', 'mentions': 1}, {'data': 'Ben Wood', 'type': 'PERSON', 'mentions': 1}, {'data': 'Carolina Milanesi', 'type': 'PERSON', 'mentions': 1}, {'data': '5G', 'type': 'TIME', 'mentions': 1}]                                                                                                                                                                                                                                                                                                                                                                                                                                                                                                                                                                                                                                                                                                                                                                                                                                                                                                                                                                                                                                                                                                                                                                                                                                                                                                                                                                                                                                                                                                                                                                                                                                                                                                              1\n",
       "Name: count, dtype: int64"
      ]
     },
     "execution_count": 176,
     "metadata": {},
     "output_type": "execute_result"
    }
   ],
   "source": [
    "df_exploded['entities'].value_counts()"
   ]
  },
  {
   "cell_type": "code",
   "execution_count": 178,
   "id": "3450b1cb-f8cd-4a90-aaeb-273e63dd36ec",
   "metadata": {
    "tags": []
   },
   "outputs": [],
   "source": [
    "df_exploded.to_csv('df_exploded.csv', index=False)"
   ]
  },
  {
   "cell_type": "code",
   "execution_count": 184,
   "id": "c590f2be-79f8-4092-adce-9cb8d2a65ef8",
   "metadata": {
    "tags": []
   },
   "outputs": [
    {
     "data": {
      "text/plain": [
       "summary                       object\n",
       "title                         object\n",
       "pubDate               datetime64[ns]\n",
       "addDate               datetime64[ns]\n",
       "n_companies                    int64\n",
       "authorsByline                 object\n",
       "source                        object\n",
       "companies                     object\n",
       "entities                      object\n",
       "positive_sentiment           float64\n",
       "negative_sentiment           float64\n",
       "neutral_sentiment            float64\n",
       "dtype: object"
      ]
     },
     "execution_count": 184,
     "metadata": {},
     "output_type": "execute_result"
    }
   ],
   "source": [
    "df_exploded.dtypes"
   ]
  },
  {
   "cell_type": "code",
   "execution_count": 183,
   "id": "ab09c2c9-367f-413f-a71c-7197adc90fc9",
   "metadata": {
    "tags": []
   },
   "outputs": [],
   "source": [
    "df_exploded.pubDate = pd.to_datetime(df_exploded.pubDate)\n",
    "df_exploded.addDate = pd.to_datetime(df_exploded.addDate)"
   ]
  },
  {
   "cell_type": "code",
   "execution_count": 185,
   "id": "7059f1d0-31e8-4a82-bd9a-ac438ab8b0b8",
   "metadata": {
    "collapsed": true,
    "jupyter": {
     "outputs_hidden": true
    },
    "tags": []
   },
   "outputs": [
    {
     "data": {
      "text/plain": [
       "<bound method IndexOpsMixin.value_counts of 0    2022-03-03\n",
       "1    2022-03-09\n",
       "2    2022-03-09\n",
       "3    2022-03-09\n",
       "4    2022-03-09\n",
       "5    2022-03-09\n",
       "6    2022-03-09\n",
       "7    2022-03-09\n",
       "8    2022-03-10\n",
       "9    2022-03-10\n",
       "10   2022-03-10\n",
       "11   2022-03-10\n",
       "12   2022-03-02\n",
       "13   2022-03-02\n",
       "14   2022-03-02\n",
       "15   2022-03-02\n",
       "16   2022-03-02\n",
       "17   2022-03-02\n",
       "18   2022-03-02\n",
       "19   2022-03-08\n",
       "20   2022-03-01\n",
       "21   2022-03-01\n",
       "22   2022-03-02\n",
       "23   2022-03-02\n",
       "24   2022-03-02\n",
       "25   2022-03-04\n",
       "26   2022-03-04\n",
       "27   2022-03-04\n",
       "28   2022-03-04\n",
       "29   2022-03-04\n",
       "30   2022-03-04\n",
       "Name: pubDate, dtype: datetime64[ns]>"
      ]
     },
     "execution_count": 185,
     "metadata": {},
     "output_type": "execute_result"
    }
   ],
   "source": [
    "df_exploded['pubDate'].value_counts"
   ]
  },
  {
   "cell_type": "code",
   "execution_count": 195,
   "id": "3e5c307e-8361-4ecc-8aac-a37bb737a676",
   "metadata": {
    "tags": []
   },
   "outputs": [
    {
     "name": "stdout",
     "output_type": "stream",
     "text": [
      "       open     close  startDate    endDate ticker\n",
      "0  8.446018  7.027937 2022-03-01 2022-03-07   AAPL\n",
      "1  6.862640  5.007559 2022-03-08 2022-03-11   AAPL\n"
     ]
    }
   ],
   "source": [
    "#making a sample dataframe of yahoo to show that it works\n",
    "\n",
    "data = {\n",
    "    'open': np.random.uniform(2.00, 10.00, 2),\n",
    "    'close': np.random.uniform(2.00, 10.00, 2),\n",
    "    'startDate': pd.to_datetime(['2022-03-01', '2022-03-08']),\n",
    "    'endDate': pd.to_datetime(['2022-03-07', '2022-03-11']),\n",
    "    'ticker': ['AAPL', 'AAPL']\n",
    "}\n",
    "\n",
    "# Create the DataFrame\n",
    "yahoo = pd.DataFrame(data)\n",
    "print(yahoo)"
   ]
  },
  {
   "cell_type": "code",
   "execution_count": 200,
   "id": "19f8871d-262d-499e-ad43-9e53b8cf7826",
   "metadata": {
    "tags": []
   },
   "outputs": [],
   "source": [
    "for k, k_row in df_exploded.iterrows():\n",
    "    for i, i_row in yahoo.iterrows():\n",
    "        if yahoo.loc[i, 'startDate'] <= df_exploded.loc[k, 'pubDate'] <= yahoo.loc[i, 'endDate']:\n",
    "            df_exploded.at[k, 'open'] = yahoo.at[i, 'open']\n",
    "            df_exploded.at[k, 'close'] = yahoo.at[i, 'close']\n",
    "            df_exploded.at[k, 'ticker'] = yahoo.at[i, 'ticker']\n",
    "            break  \n",
    "#    df_exploded['high'] = yahoo['high']\n",
    " #   df_exploded['low'] = yahoo['low']\n",
    " #   df_exploded['adjclose'] = yahoo['adjclose']\n",
    "  #  df_exploded['volume'] = yahoo['volume']\n",
    "  "
   ]
  },
  {
   "cell_type": "code",
   "execution_count": 203,
   "id": "fa55d54f-c0e5-4437-b082-60c0c1f8ae12",
   "metadata": {
    "tags": []
   },
   "outputs": [
    {
     "data": {
      "text/html": [
       "<div>\n",
       "<style scoped>\n",
       "    .dataframe tbody tr th:only-of-type {\n",
       "        vertical-align: middle;\n",
       "    }\n",
       "\n",
       "    .dataframe tbody tr th {\n",
       "        vertical-align: top;\n",
       "    }\n",
       "\n",
       "    .dataframe thead th {\n",
       "        text-align: right;\n",
       "    }\n",
       "</style>\n",
       "<table border=\"1\" class=\"dataframe\">\n",
       "  <thead>\n",
       "    <tr style=\"text-align: right;\">\n",
       "      <th></th>\n",
       "      <th>summary</th>\n",
       "      <th>title</th>\n",
       "      <th>pubDate</th>\n",
       "      <th>addDate</th>\n",
       "      <th>n_companies</th>\n",
       "      <th>authorsByline</th>\n",
       "      <th>source</th>\n",
       "      <th>companies</th>\n",
       "      <th>entities</th>\n",
       "      <th>positive_sentiment</th>\n",
       "      <th>negative_sentiment</th>\n",
       "      <th>neutral_sentiment</th>\n",
       "      <th>open</th>\n",
       "      <th>close</th>\n",
       "      <th>ticker</th>\n",
       "    </tr>\n",
       "  </thead>\n",
       "  <tbody>\n",
       "    <tr>\n",
       "      <th>0</th>\n",
       "      <td>BlackRock has launched a thematic equity fund ...</td>\n",
       "      <td>Apple is planning new VR lens tech</td>\n",
       "      <td>2022-03-03</td>\n",
       "      <td>2022-03-03</td>\n",
       "      <td>1</td>\n",
       "      <td>Michelle D. Madsen</td>\n",
       "      <td>[{'domain': 'metanews.com'}]</td>\n",
       "      <td>{'name': 'Apple Inc.', 'symbols': ['AAPL', 'AP...</td>\n",
       "      <td>[{'data': 'Apple', 'type': 'ORG', 'mentions': ...</td>\n",
       "      <td>0.067475</td>\n",
       "      <td>0.012583</td>\n",
       "      <td>0.919942</td>\n",
       "      <td>8.446018</td>\n",
       "      <td>7.027937</td>\n",
       "      <td>AAPL</td>\n",
       "    </tr>\n",
       "    <tr>\n",
       "      <th>1</th>\n",
       "      <td>The US has strengthened its cyber defences in ...</td>\n",
       "      <td>US strengthens Ukraine’s cyber defences</td>\n",
       "      <td>2022-03-09</td>\n",
       "      <td>2022-03-09</td>\n",
       "      <td>5</td>\n",
       "      <td>Chris Nuttall</td>\n",
       "      <td>[{'domain': 'ft.com'}]</td>\n",
       "      <td>{'name': 'Activision Publishing', 'symbols': []}</td>\n",
       "      <td>[{'data': 'US', 'type': 'GPE', 'mentions': 11}...</td>\n",
       "      <td>0.018021</td>\n",
       "      <td>0.934290</td>\n",
       "      <td>0.047688</td>\n",
       "      <td>6.862640</td>\n",
       "      <td>5.007559</td>\n",
       "      <td>AAPL</td>\n",
       "    </tr>\n",
       "    <tr>\n",
       "      <th>2</th>\n",
       "      <td>The US has strengthened its cyber defences in ...</td>\n",
       "      <td>US strengthens Ukraine’s cyber defences</td>\n",
       "      <td>2022-03-09</td>\n",
       "      <td>2022-03-09</td>\n",
       "      <td>5</td>\n",
       "      <td>Chris Nuttall</td>\n",
       "      <td>[{'domain': 'ft.com'}]</td>\n",
       "      <td>{'name': 'Amazon Robotics', 'symbols': []}</td>\n",
       "      <td>[{'data': 'US', 'type': 'GPE', 'mentions': 11}...</td>\n",
       "      <td>0.018021</td>\n",
       "      <td>0.934290</td>\n",
       "      <td>0.047688</td>\n",
       "      <td>6.862640</td>\n",
       "      <td>5.007559</td>\n",
       "      <td>AAPL</td>\n",
       "    </tr>\n",
       "    <tr>\n",
       "      <th>3</th>\n",
       "      <td>The US has strengthened its cyber defences in ...</td>\n",
       "      <td>US strengthens Ukraine’s cyber defences</td>\n",
       "      <td>2022-03-09</td>\n",
       "      <td>2022-03-09</td>\n",
       "      <td>5</td>\n",
       "      <td>Chris Nuttall</td>\n",
       "      <td>[{'domain': 'ft.com'}]</td>\n",
       "      <td>{'name': 'Apple Inc.', 'symbols': ['AAPL', 'AP...</td>\n",
       "      <td>[{'data': 'US', 'type': 'GPE', 'mentions': 11}...</td>\n",
       "      <td>0.018021</td>\n",
       "      <td>0.934290</td>\n",
       "      <td>0.047688</td>\n",
       "      <td>6.862640</td>\n",
       "      <td>5.007559</td>\n",
       "      <td>AAPL</td>\n",
       "    </tr>\n",
       "    <tr>\n",
       "      <th>4</th>\n",
       "      <td>The US has strengthened its cyber defences in ...</td>\n",
       "      <td>US strengthens Ukraine’s cyber defences</td>\n",
       "      <td>2022-03-09</td>\n",
       "      <td>2022-03-09</td>\n",
       "      <td>5</td>\n",
       "      <td>Chris Nuttall</td>\n",
       "      <td>[{'domain': 'ft.com'}]</td>\n",
       "      <td>{'name': 'Activision Blizzard Inc', 'symbols':...</td>\n",
       "      <td>[{'data': 'US', 'type': 'GPE', 'mentions': 11}...</td>\n",
       "      <td>0.018021</td>\n",
       "      <td>0.934290</td>\n",
       "      <td>0.047688</td>\n",
       "      <td>6.862640</td>\n",
       "      <td>5.007559</td>\n",
       "      <td>AAPL</td>\n",
       "    </tr>\n",
       "    <tr>\n",
       "      <th>5</th>\n",
       "      <td>The US has strengthened its cyber defences in ...</td>\n",
       "      <td>US strengthens Ukraine’s cyber defences</td>\n",
       "      <td>2022-03-09</td>\n",
       "      <td>2022-03-09</td>\n",
       "      <td>5</td>\n",
       "      <td>Chris Nuttall</td>\n",
       "      <td>[{'domain': 'ft.com'}]</td>\n",
       "      <td>{'name': 'Microsoft Corporation', 'symbols': [...</td>\n",
       "      <td>[{'data': 'US', 'type': 'GPE', 'mentions': 11}...</td>\n",
       "      <td>0.018021</td>\n",
       "      <td>0.934290</td>\n",
       "      <td>0.047688</td>\n",
       "      <td>6.862640</td>\n",
       "      <td>5.007559</td>\n",
       "      <td>AAPL</td>\n",
       "    </tr>\n",
       "    <tr>\n",
       "      <th>6</th>\n",
       "      <td>Sequoia Capital's John Sutter argues that Inst...</td>\n",
       "      <td>Tim Cook pay vote shows ISS should not be judg...</td>\n",
       "      <td>2022-03-09</td>\n",
       "      <td>2022-03-09</td>\n",
       "      <td>2</td>\n",
       "      <td>Michael Moritz</td>\n",
       "      <td>[{'domain': 'ft.com'}]</td>\n",
       "      <td>{'name': 'Apple Inc.', 'symbols': ['AAPL', 'AP...</td>\n",
       "      <td>[{'data': 'Tim Cook', 'type': 'PERSON', 'menti...</td>\n",
       "      <td>0.042381</td>\n",
       "      <td>0.078486</td>\n",
       "      <td>0.879133</td>\n",
       "      <td>6.862640</td>\n",
       "      <td>5.007559</td>\n",
       "      <td>AAPL</td>\n",
       "    </tr>\n",
       "    <tr>\n",
       "      <th>7</th>\n",
       "      <td>Sequoia Capital's John Sutter argues that Inst...</td>\n",
       "      <td>Tim Cook pay vote shows ISS should not be judg...</td>\n",
       "      <td>2022-03-09</td>\n",
       "      <td>2022-03-09</td>\n",
       "      <td>2</td>\n",
       "      <td>Michael Moritz</td>\n",
       "      <td>[{'domain': 'ft.com'}]</td>\n",
       "      <td>{'name': 'ISS A/S', 'symbols': ['ISS.CO', 'ISS...</td>\n",
       "      <td>[{'data': 'Tim Cook', 'type': 'PERSON', 'menti...</td>\n",
       "      <td>0.042381</td>\n",
       "      <td>0.078486</td>\n",
       "      <td>0.879133</td>\n",
       "      <td>6.862640</td>\n",
       "      <td>5.007559</td>\n",
       "      <td>AAPL</td>\n",
       "    </tr>\n",
       "    <tr>\n",
       "      <th>8</th>\n",
       "      <td>Apple has become a major player in the tech in...</td>\n",
       "      <td>Big Tech raises its bets on chips</td>\n",
       "      <td>2022-03-10</td>\n",
       "      <td>2022-03-10</td>\n",
       "      <td>4</td>\n",
       "      <td>Richard Waters</td>\n",
       "      <td>[{'domain': 'ft.com'}]</td>\n",
       "      <td>{'name': 'Alphabet Inc.', 'symbols': ['ABEA.DE...</td>\n",
       "      <td>[{'data': 'Steve Jobs', 'type': 'PERSON', 'men...</td>\n",
       "      <td>0.178955</td>\n",
       "      <td>0.015097</td>\n",
       "      <td>0.805948</td>\n",
       "      <td>6.862640</td>\n",
       "      <td>5.007559</td>\n",
       "      <td>AAPL</td>\n",
       "    </tr>\n",
       "    <tr>\n",
       "      <th>9</th>\n",
       "      <td>Apple has become a major player in the tech in...</td>\n",
       "      <td>Big Tech raises its bets on chips</td>\n",
       "      <td>2022-03-10</td>\n",
       "      <td>2022-03-10</td>\n",
       "      <td>4</td>\n",
       "      <td>Richard Waters</td>\n",
       "      <td>[{'domain': 'ft.com'}]</td>\n",
       "      <td>{'name': 'NVIDIA Corporation', 'symbols': ['NV...</td>\n",
       "      <td>[{'data': 'Steve Jobs', 'type': 'PERSON', 'men...</td>\n",
       "      <td>0.178955</td>\n",
       "      <td>0.015097</td>\n",
       "      <td>0.805948</td>\n",
       "      <td>6.862640</td>\n",
       "      <td>5.007559</td>\n",
       "      <td>AAPL</td>\n",
       "    </tr>\n",
       "    <tr>\n",
       "      <th>10</th>\n",
       "      <td>Apple has become a major player in the tech in...</td>\n",
       "      <td>Big Tech raises its bets on chips</td>\n",
       "      <td>2022-03-10</td>\n",
       "      <td>2022-03-10</td>\n",
       "      <td>4</td>\n",
       "      <td>Richard Waters</td>\n",
       "      <td>[{'domain': 'ft.com'}]</td>\n",
       "      <td>{'name': 'Big Apple Donuts and Coffee', 'symbo...</td>\n",
       "      <td>[{'data': 'Steve Jobs', 'type': 'PERSON', 'men...</td>\n",
       "      <td>0.178955</td>\n",
       "      <td>0.015097</td>\n",
       "      <td>0.805948</td>\n",
       "      <td>6.862640</td>\n",
       "      <td>5.007559</td>\n",
       "      <td>AAPL</td>\n",
       "    </tr>\n",
       "    <tr>\n",
       "      <th>11</th>\n",
       "      <td>Apple has become a major player in the tech in...</td>\n",
       "      <td>Big Tech raises its bets on chips</td>\n",
       "      <td>2022-03-10</td>\n",
       "      <td>2022-03-10</td>\n",
       "      <td>4</td>\n",
       "      <td>Richard Waters</td>\n",
       "      <td>[{'domain': 'ft.com'}]</td>\n",
       "      <td>{'name': 'Apple Inc.', 'symbols': ['AAPL', 'AP...</td>\n",
       "      <td>[{'data': 'Steve Jobs', 'type': 'PERSON', 'men...</td>\n",
       "      <td>0.178955</td>\n",
       "      <td>0.015097</td>\n",
       "      <td>0.805948</td>\n",
       "      <td>6.862640</td>\n",
       "      <td>5.007559</td>\n",
       "      <td>AAPL</td>\n",
       "    </tr>\n",
       "    <tr>\n",
       "      <th>12</th>\n",
       "      <td>Apple has suspended sales of its products in R...</td>\n",
       "      <td>Apple’s Russian withdrawal</td>\n",
       "      <td>2022-03-02</td>\n",
       "      <td>2022-03-02</td>\n",
       "      <td>7</td>\n",
       "      <td>Chris Nuttall</td>\n",
       "      <td>[{'domain': 'ft.com'}]</td>\n",
       "      <td>{'name': 'Apple Inc.', 'symbols': ['AAPL', 'AP...</td>\n",
       "      <td>[{'data': 'Apple', 'type': 'ORG', 'mentions': ...</td>\n",
       "      <td>0.010662</td>\n",
       "      <td>0.912274</td>\n",
       "      <td>0.077063</td>\n",
       "      <td>8.446018</td>\n",
       "      <td>7.027937</td>\n",
       "      <td>AAPL</td>\n",
       "    </tr>\n",
       "    <tr>\n",
       "      <th>13</th>\n",
       "      <td>Apple has suspended sales of its products in R...</td>\n",
       "      <td>Apple’s Russian withdrawal</td>\n",
       "      <td>2022-03-02</td>\n",
       "      <td>2022-03-02</td>\n",
       "      <td>7</td>\n",
       "      <td>Chris Nuttall</td>\n",
       "      <td>[{'domain': 'ft.com'}]</td>\n",
       "      <td>{'name': 'Netflix, Inc.', 'symbols': ['NFC.DE'...</td>\n",
       "      <td>[{'data': 'Apple', 'type': 'ORG', 'mentions': ...</td>\n",
       "      <td>0.010662</td>\n",
       "      <td>0.912274</td>\n",
       "      <td>0.077063</td>\n",
       "      <td>8.446018</td>\n",
       "      <td>7.027937</td>\n",
       "      <td>AAPL</td>\n",
       "    </tr>\n",
       "    <tr>\n",
       "      <th>14</th>\n",
       "      <td>Apple has suspended sales of its products in R...</td>\n",
       "      <td>Apple’s Russian withdrawal</td>\n",
       "      <td>2022-03-02</td>\n",
       "      <td>2022-03-02</td>\n",
       "      <td>7</td>\n",
       "      <td>Chris Nuttall</td>\n",
       "      <td>[{'domain': 'ft.com'}]</td>\n",
       "      <td>{'name': 'Telefonaktiebolaget LM Ericsson (pub...</td>\n",
       "      <td>[{'data': 'Apple', 'type': 'ORG', 'mentions': ...</td>\n",
       "      <td>0.010662</td>\n",
       "      <td>0.912274</td>\n",
       "      <td>0.077063</td>\n",
       "      <td>8.446018</td>\n",
       "      <td>7.027937</td>\n",
       "      <td>AAPL</td>\n",
       "    </tr>\n",
       "    <tr>\n",
       "      <th>15</th>\n",
       "      <td>Apple has suspended sales of its products in R...</td>\n",
       "      <td>Apple’s Russian withdrawal</td>\n",
       "      <td>2022-03-02</td>\n",
       "      <td>2022-03-02</td>\n",
       "      <td>7</td>\n",
       "      <td>Chris Nuttall</td>\n",
       "      <td>[{'domain': 'ft.com'}]</td>\n",
       "      <td>{'name': 'Ford Motor Company', 'symbols': ['F'...</td>\n",
       "      <td>[{'data': 'Apple', 'type': 'ORG', 'mentions': ...</td>\n",
       "      <td>0.010662</td>\n",
       "      <td>0.912274</td>\n",
       "      <td>0.077063</td>\n",
       "      <td>8.446018</td>\n",
       "      <td>7.027937</td>\n",
       "      <td>AAPL</td>\n",
       "    </tr>\n",
       "    <tr>\n",
       "      <th>16</th>\n",
       "      <td>Apple has suspended sales of its products in R...</td>\n",
       "      <td>Apple’s Russian withdrawal</td>\n",
       "      <td>2022-03-02</td>\n",
       "      <td>2022-03-02</td>\n",
       "      <td>7</td>\n",
       "      <td>Chris Nuttall</td>\n",
       "      <td>[{'domain': 'ft.com'}]</td>\n",
       "      <td>{'name': 'Palantir Technologies Inc.', 'symbol...</td>\n",
       "      <td>[{'data': 'Apple', 'type': 'ORG', 'mentions': ...</td>\n",
       "      <td>0.010662</td>\n",
       "      <td>0.912274</td>\n",
       "      <td>0.077063</td>\n",
       "      <td>8.446018</td>\n",
       "      <td>7.027937</td>\n",
       "      <td>AAPL</td>\n",
       "    </tr>\n",
       "    <tr>\n",
       "      <th>17</th>\n",
       "      <td>Apple has suspended sales of its products in R...</td>\n",
       "      <td>Apple’s Russian withdrawal</td>\n",
       "      <td>2022-03-02</td>\n",
       "      <td>2022-03-02</td>\n",
       "      <td>7</td>\n",
       "      <td>Chris Nuttall</td>\n",
       "      <td>[{'domain': 'ft.com'}]</td>\n",
       "      <td>{'name': 'Huawei', 'symbols': []}</td>\n",
       "      <td>[{'data': 'Apple', 'type': 'ORG', 'mentions': ...</td>\n",
       "      <td>0.010662</td>\n",
       "      <td>0.912274</td>\n",
       "      <td>0.077063</td>\n",
       "      <td>8.446018</td>\n",
       "      <td>7.027937</td>\n",
       "      <td>AAPL</td>\n",
       "    </tr>\n",
       "    <tr>\n",
       "      <th>18</th>\n",
       "      <td>Apple has suspended sales of its products in R...</td>\n",
       "      <td>Apple’s Russian withdrawal</td>\n",
       "      <td>2022-03-02</td>\n",
       "      <td>2022-03-02</td>\n",
       "      <td>7</td>\n",
       "      <td>Chris Nuttall</td>\n",
       "      <td>[{'domain': 'ft.com'}]</td>\n",
       "      <td>{'name': 'Alphabet Inc.', 'symbols': ['ABEA.DE...</td>\n",
       "      <td>[{'data': 'Apple', 'type': 'ORG', 'mentions': ...</td>\n",
       "      <td>0.010662</td>\n",
       "      <td>0.912274</td>\n",
       "      <td>0.077063</td>\n",
       "      <td>8.446018</td>\n",
       "      <td>7.027937</td>\n",
       "      <td>AAPL</td>\n",
       "    </tr>\n",
       "    <tr>\n",
       "      <th>19</th>\n",
       "      <td>Apple on Tuesday announced the launch of a hig...</td>\n",
       "      <td>Apple launches high-end PC in drive to leverag...</td>\n",
       "      <td>2022-03-08</td>\n",
       "      <td>2022-03-08</td>\n",
       "      <td>1</td>\n",
       "      <td>Patrick McGee</td>\n",
       "      <td>[{'domain': 'ft.com'}]</td>\n",
       "      <td>{'name': 'Apple Inc.', 'symbols': ['AAPL', 'AP...</td>\n",
       "      <td>[{'data': 'Apple', 'type': 'ORG', 'mentions': ...</td>\n",
       "      <td>0.282916</td>\n",
       "      <td>0.034582</td>\n",
       "      <td>0.682502</td>\n",
       "      <td>6.862640</td>\n",
       "      <td>5.007559</td>\n",
       "      <td>AAPL</td>\n",
       "    </tr>\n",
       "    <tr>\n",
       "      <th>20</th>\n",
       "      <td>Apple has suspended all product sales and acce...</td>\n",
       "      <td>Apple joins companies pulling back from Russia...</td>\n",
       "      <td>2022-03-01</td>\n",
       "      <td>2022-03-01</td>\n",
       "      <td>2</td>\n",
       "      <td>Tim Bradshaw, Andrew Edgecliffe-Johnson, Patri...</td>\n",
       "      <td>[{'domain': 'ft.com'}]</td>\n",
       "      <td>{'name': 'Apple Inc.', 'symbols': ['AAPL', 'AP...</td>\n",
       "      <td>[{'data': 'Apple', 'type': 'ORG', 'mentions': ...</td>\n",
       "      <td>0.009059</td>\n",
       "      <td>0.938614</td>\n",
       "      <td>0.052326</td>\n",
       "      <td>8.446018</td>\n",
       "      <td>7.027937</td>\n",
       "      <td>AAPL</td>\n",
       "    </tr>\n",
       "    <tr>\n",
       "      <th>21</th>\n",
       "      <td>Apple has suspended all product sales and acce...</td>\n",
       "      <td>Apple joins companies pulling back from Russia...</td>\n",
       "      <td>2022-03-01</td>\n",
       "      <td>2022-03-01</td>\n",
       "      <td>2</td>\n",
       "      <td>Tim Bradshaw, Andrew Edgecliffe-Johnson, Patri...</td>\n",
       "      <td>[{'domain': 'ft.com'}]</td>\n",
       "      <td>{'name': 'Snap Inc.', 'symbols': ['1SI.DE', 'S...</td>\n",
       "      <td>[{'data': 'Apple', 'type': 'ORG', 'mentions': ...</td>\n",
       "      <td>0.009059</td>\n",
       "      <td>0.938614</td>\n",
       "      <td>0.052326</td>\n",
       "      <td>8.446018</td>\n",
       "      <td>7.027937</td>\n",
       "      <td>AAPL</td>\n",
       "    </tr>\n",
       "    <tr>\n",
       "      <th>22</th>\n",
       "      <td>It is a long time since investors had to deal ...</td>\n",
       "      <td>Investing in a time of war</td>\n",
       "      <td>2022-03-02</td>\n",
       "      <td>2022-03-02</td>\n",
       "      <td>3</td>\n",
       "      <td>Simon Edelsten</td>\n",
       "      <td>[{'domain': 'ft.com'}]</td>\n",
       "      <td>{'name': 'Apple Inc.', 'symbols': ['AAPL', 'AP...</td>\n",
       "      <td>[{'data': 'Europe', 'type': 'LOC', 'mentions':...</td>\n",
       "      <td>0.136892</td>\n",
       "      <td>0.429763</td>\n",
       "      <td>0.433345</td>\n",
       "      <td>8.446018</td>\n",
       "      <td>7.027937</td>\n",
       "      <td>AAPL</td>\n",
       "    </tr>\n",
       "    <tr>\n",
       "      <th>23</th>\n",
       "      <td>It is a long time since investors had to deal ...</td>\n",
       "      <td>Investing in a time of war</td>\n",
       "      <td>2022-03-02</td>\n",
       "      <td>2022-03-02</td>\n",
       "      <td>3</td>\n",
       "      <td>Simon Edelsten</td>\n",
       "      <td>[{'domain': 'ft.com'}]</td>\n",
       "      <td>{'name': 'Unilever Philippines', 'symbols': []}</td>\n",
       "      <td>[{'data': 'Europe', 'type': 'LOC', 'mentions':...</td>\n",
       "      <td>0.136892</td>\n",
       "      <td>0.429763</td>\n",
       "      <td>0.433345</td>\n",
       "      <td>8.446018</td>\n",
       "      <td>7.027937</td>\n",
       "      <td>AAPL</td>\n",
       "    </tr>\n",
       "    <tr>\n",
       "      <th>24</th>\n",
       "      <td>It is a long time since investors had to deal ...</td>\n",
       "      <td>Investing in a time of war</td>\n",
       "      <td>2022-03-02</td>\n",
       "      <td>2022-03-02</td>\n",
       "      <td>3</td>\n",
       "      <td>Simon Edelsten</td>\n",
       "      <td>[{'domain': 'ft.com'}]</td>\n",
       "      <td>{'name': 'Pfizer Limited', 'symbols': ['PFIZER...</td>\n",
       "      <td>[{'data': 'Europe', 'type': 'LOC', 'mentions':...</td>\n",
       "      <td>0.136892</td>\n",
       "      <td>0.429763</td>\n",
       "      <td>0.433345</td>\n",
       "      <td>8.446018</td>\n",
       "      <td>7.027937</td>\n",
       "      <td>AAPL</td>\n",
       "    </tr>\n",
       "    <tr>\n",
       "      <th>25</th>\n",
       "      <td>The Lex newsletter argues that sanctions again...</td>\n",
       "      <td>The Lex Newsletter: sanctions against Russia s...</td>\n",
       "      <td>2022-03-04</td>\n",
       "      <td>2022-03-04</td>\n",
       "      <td>4</td>\n",
       "      <td>Elaine Moore</td>\n",
       "      <td>[{'domain': 'ft.com'}]</td>\n",
       "      <td>{'name': 'BP p.l.c.', 'symbols': ['BP', 'BP.L'...</td>\n",
       "      <td>[{'data': 'The Lex Newsletter', 'type': 'ORG',...</td>\n",
       "      <td>0.024666</td>\n",
       "      <td>0.909454</td>\n",
       "      <td>0.065881</td>\n",
       "      <td>8.446018</td>\n",
       "      <td>7.027937</td>\n",
       "      <td>AAPL</td>\n",
       "    </tr>\n",
       "    <tr>\n",
       "      <th>26</th>\n",
       "      <td>The Lex newsletter argues that sanctions again...</td>\n",
       "      <td>The Lex Newsletter: sanctions against Russia s...</td>\n",
       "      <td>2022-03-04</td>\n",
       "      <td>2022-03-04</td>\n",
       "      <td>4</td>\n",
       "      <td>Elaine Moore</td>\n",
       "      <td>[{'domain': 'ft.com'}]</td>\n",
       "      <td>{'name': 'Apple Inc.', 'symbols': ['AAPL', 'AP...</td>\n",
       "      <td>[{'data': 'The Lex Newsletter', 'type': 'ORG',...</td>\n",
       "      <td>0.024666</td>\n",
       "      <td>0.909454</td>\n",
       "      <td>0.065881</td>\n",
       "      <td>8.446018</td>\n",
       "      <td>7.027937</td>\n",
       "      <td>AAPL</td>\n",
       "    </tr>\n",
       "    <tr>\n",
       "      <th>27</th>\n",
       "      <td>The Lex newsletter argues that sanctions again...</td>\n",
       "      <td>The Lex Newsletter: sanctions against Russia s...</td>\n",
       "      <td>2022-03-04</td>\n",
       "      <td>2022-03-04</td>\n",
       "      <td>4</td>\n",
       "      <td>Elaine Moore</td>\n",
       "      <td>[{'domain': 'ft.com'}]</td>\n",
       "      <td>{'name': 'Polymetal International plc', 'symbo...</td>\n",
       "      <td>[{'data': 'The Lex Newsletter', 'type': 'ORG',...</td>\n",
       "      <td>0.024666</td>\n",
       "      <td>0.909454</td>\n",
       "      <td>0.065881</td>\n",
       "      <td>8.446018</td>\n",
       "      <td>7.027937</td>\n",
       "      <td>AAPL</td>\n",
       "    </tr>\n",
       "  </tbody>\n",
       "</table>\n",
       "</div>"
      ],
      "text/plain": [
       "                                              summary  \\\n",
       "0   BlackRock has launched a thematic equity fund ...   \n",
       "1   The US has strengthened its cyber defences in ...   \n",
       "2   The US has strengthened its cyber defences in ...   \n",
       "3   The US has strengthened its cyber defences in ...   \n",
       "4   The US has strengthened its cyber defences in ...   \n",
       "5   The US has strengthened its cyber defences in ...   \n",
       "6   Sequoia Capital's John Sutter argues that Inst...   \n",
       "7   Sequoia Capital's John Sutter argues that Inst...   \n",
       "8   Apple has become a major player in the tech in...   \n",
       "9   Apple has become a major player in the tech in...   \n",
       "10  Apple has become a major player in the tech in...   \n",
       "11  Apple has become a major player in the tech in...   \n",
       "12  Apple has suspended sales of its products in R...   \n",
       "13  Apple has suspended sales of its products in R...   \n",
       "14  Apple has suspended sales of its products in R...   \n",
       "15  Apple has suspended sales of its products in R...   \n",
       "16  Apple has suspended sales of its products in R...   \n",
       "17  Apple has suspended sales of its products in R...   \n",
       "18  Apple has suspended sales of its products in R...   \n",
       "19  Apple on Tuesday announced the launch of a hig...   \n",
       "20  Apple has suspended all product sales and acce...   \n",
       "21  Apple has suspended all product sales and acce...   \n",
       "22  It is a long time since investors had to deal ...   \n",
       "23  It is a long time since investors had to deal ...   \n",
       "24  It is a long time since investors had to deal ...   \n",
       "25  The Lex newsletter argues that sanctions again...   \n",
       "26  The Lex newsletter argues that sanctions again...   \n",
       "27  The Lex newsletter argues that sanctions again...   \n",
       "\n",
       "                                                title    pubDate    addDate  \\\n",
       "0                  Apple is planning new VR lens tech 2022-03-03 2022-03-03   \n",
       "1             US strengthens Ukraine’s cyber defences 2022-03-09 2022-03-09   \n",
       "2             US strengthens Ukraine’s cyber defences 2022-03-09 2022-03-09   \n",
       "3             US strengthens Ukraine’s cyber defences 2022-03-09 2022-03-09   \n",
       "4             US strengthens Ukraine’s cyber defences 2022-03-09 2022-03-09   \n",
       "5             US strengthens Ukraine’s cyber defences 2022-03-09 2022-03-09   \n",
       "6   Tim Cook pay vote shows ISS should not be judg... 2022-03-09 2022-03-09   \n",
       "7   Tim Cook pay vote shows ISS should not be judg... 2022-03-09 2022-03-09   \n",
       "8                   Big Tech raises its bets on chips 2022-03-10 2022-03-10   \n",
       "9                   Big Tech raises its bets on chips 2022-03-10 2022-03-10   \n",
       "10                  Big Tech raises its bets on chips 2022-03-10 2022-03-10   \n",
       "11                  Big Tech raises its bets on chips 2022-03-10 2022-03-10   \n",
       "12                         Apple’s Russian withdrawal 2022-03-02 2022-03-02   \n",
       "13                         Apple’s Russian withdrawal 2022-03-02 2022-03-02   \n",
       "14                         Apple’s Russian withdrawal 2022-03-02 2022-03-02   \n",
       "15                         Apple’s Russian withdrawal 2022-03-02 2022-03-02   \n",
       "16                         Apple’s Russian withdrawal 2022-03-02 2022-03-02   \n",
       "17                         Apple’s Russian withdrawal 2022-03-02 2022-03-02   \n",
       "18                         Apple’s Russian withdrawal 2022-03-02 2022-03-02   \n",
       "19  Apple launches high-end PC in drive to leverag... 2022-03-08 2022-03-08   \n",
       "20  Apple joins companies pulling back from Russia... 2022-03-01 2022-03-01   \n",
       "21  Apple joins companies pulling back from Russia... 2022-03-01 2022-03-01   \n",
       "22                         Investing in a time of war 2022-03-02 2022-03-02   \n",
       "23                         Investing in a time of war 2022-03-02 2022-03-02   \n",
       "24                         Investing in a time of war 2022-03-02 2022-03-02   \n",
       "25  The Lex Newsletter: sanctions against Russia s... 2022-03-04 2022-03-04   \n",
       "26  The Lex Newsletter: sanctions against Russia s... 2022-03-04 2022-03-04   \n",
       "27  The Lex Newsletter: sanctions against Russia s... 2022-03-04 2022-03-04   \n",
       "\n",
       "    n_companies                                      authorsByline  \\\n",
       "0             1                                 Michelle D. Madsen   \n",
       "1             5                                      Chris Nuttall   \n",
       "2             5                                      Chris Nuttall   \n",
       "3             5                                      Chris Nuttall   \n",
       "4             5                                      Chris Nuttall   \n",
       "5             5                                      Chris Nuttall   \n",
       "6             2                                     Michael Moritz   \n",
       "7             2                                     Michael Moritz   \n",
       "8             4                                     Richard Waters   \n",
       "9             4                                     Richard Waters   \n",
       "10            4                                     Richard Waters   \n",
       "11            4                                     Richard Waters   \n",
       "12            7                                      Chris Nuttall   \n",
       "13            7                                      Chris Nuttall   \n",
       "14            7                                      Chris Nuttall   \n",
       "15            7                                      Chris Nuttall   \n",
       "16            7                                      Chris Nuttall   \n",
       "17            7                                      Chris Nuttall   \n",
       "18            7                                      Chris Nuttall   \n",
       "19            1                                      Patrick McGee   \n",
       "20            2  Tim Bradshaw, Andrew Edgecliffe-Johnson, Patri...   \n",
       "21            2  Tim Bradshaw, Andrew Edgecliffe-Johnson, Patri...   \n",
       "22            3                                     Simon Edelsten   \n",
       "23            3                                     Simon Edelsten   \n",
       "24            3                                     Simon Edelsten   \n",
       "25            4                                       Elaine Moore   \n",
       "26            4                                       Elaine Moore   \n",
       "27            4                                       Elaine Moore   \n",
       "\n",
       "                          source  \\\n",
       "0   [{'domain': 'metanews.com'}]   \n",
       "1         [{'domain': 'ft.com'}]   \n",
       "2         [{'domain': 'ft.com'}]   \n",
       "3         [{'domain': 'ft.com'}]   \n",
       "4         [{'domain': 'ft.com'}]   \n",
       "5         [{'domain': 'ft.com'}]   \n",
       "6         [{'domain': 'ft.com'}]   \n",
       "7         [{'domain': 'ft.com'}]   \n",
       "8         [{'domain': 'ft.com'}]   \n",
       "9         [{'domain': 'ft.com'}]   \n",
       "10        [{'domain': 'ft.com'}]   \n",
       "11        [{'domain': 'ft.com'}]   \n",
       "12        [{'domain': 'ft.com'}]   \n",
       "13        [{'domain': 'ft.com'}]   \n",
       "14        [{'domain': 'ft.com'}]   \n",
       "15        [{'domain': 'ft.com'}]   \n",
       "16        [{'domain': 'ft.com'}]   \n",
       "17        [{'domain': 'ft.com'}]   \n",
       "18        [{'domain': 'ft.com'}]   \n",
       "19        [{'domain': 'ft.com'}]   \n",
       "20        [{'domain': 'ft.com'}]   \n",
       "21        [{'domain': 'ft.com'}]   \n",
       "22        [{'domain': 'ft.com'}]   \n",
       "23        [{'domain': 'ft.com'}]   \n",
       "24        [{'domain': 'ft.com'}]   \n",
       "25        [{'domain': 'ft.com'}]   \n",
       "26        [{'domain': 'ft.com'}]   \n",
       "27        [{'domain': 'ft.com'}]   \n",
       "\n",
       "                                            companies  \\\n",
       "0   {'name': 'Apple Inc.', 'symbols': ['AAPL', 'AP...   \n",
       "1    {'name': 'Activision Publishing', 'symbols': []}   \n",
       "2          {'name': 'Amazon Robotics', 'symbols': []}   \n",
       "3   {'name': 'Apple Inc.', 'symbols': ['AAPL', 'AP...   \n",
       "4   {'name': 'Activision Blizzard Inc', 'symbols':...   \n",
       "5   {'name': 'Microsoft Corporation', 'symbols': [...   \n",
       "6   {'name': 'Apple Inc.', 'symbols': ['AAPL', 'AP...   \n",
       "7   {'name': 'ISS A/S', 'symbols': ['ISS.CO', 'ISS...   \n",
       "8   {'name': 'Alphabet Inc.', 'symbols': ['ABEA.DE...   \n",
       "9   {'name': 'NVIDIA Corporation', 'symbols': ['NV...   \n",
       "10  {'name': 'Big Apple Donuts and Coffee', 'symbo...   \n",
       "11  {'name': 'Apple Inc.', 'symbols': ['AAPL', 'AP...   \n",
       "12  {'name': 'Apple Inc.', 'symbols': ['AAPL', 'AP...   \n",
       "13  {'name': 'Netflix, Inc.', 'symbols': ['NFC.DE'...   \n",
       "14  {'name': 'Telefonaktiebolaget LM Ericsson (pub...   \n",
       "15  {'name': 'Ford Motor Company', 'symbols': ['F'...   \n",
       "16  {'name': 'Palantir Technologies Inc.', 'symbol...   \n",
       "17                  {'name': 'Huawei', 'symbols': []}   \n",
       "18  {'name': 'Alphabet Inc.', 'symbols': ['ABEA.DE...   \n",
       "19  {'name': 'Apple Inc.', 'symbols': ['AAPL', 'AP...   \n",
       "20  {'name': 'Apple Inc.', 'symbols': ['AAPL', 'AP...   \n",
       "21  {'name': 'Snap Inc.', 'symbols': ['1SI.DE', 'S...   \n",
       "22  {'name': 'Apple Inc.', 'symbols': ['AAPL', 'AP...   \n",
       "23    {'name': 'Unilever Philippines', 'symbols': []}   \n",
       "24  {'name': 'Pfizer Limited', 'symbols': ['PFIZER...   \n",
       "25  {'name': 'BP p.l.c.', 'symbols': ['BP', 'BP.L'...   \n",
       "26  {'name': 'Apple Inc.', 'symbols': ['AAPL', 'AP...   \n",
       "27  {'name': 'Polymetal International plc', 'symbo...   \n",
       "\n",
       "                                             entities  positive_sentiment  \\\n",
       "0   [{'data': 'Apple', 'type': 'ORG', 'mentions': ...            0.067475   \n",
       "1   [{'data': 'US', 'type': 'GPE', 'mentions': 11}...            0.018021   \n",
       "2   [{'data': 'US', 'type': 'GPE', 'mentions': 11}...            0.018021   \n",
       "3   [{'data': 'US', 'type': 'GPE', 'mentions': 11}...            0.018021   \n",
       "4   [{'data': 'US', 'type': 'GPE', 'mentions': 11}...            0.018021   \n",
       "5   [{'data': 'US', 'type': 'GPE', 'mentions': 11}...            0.018021   \n",
       "6   [{'data': 'Tim Cook', 'type': 'PERSON', 'menti...            0.042381   \n",
       "7   [{'data': 'Tim Cook', 'type': 'PERSON', 'menti...            0.042381   \n",
       "8   [{'data': 'Steve Jobs', 'type': 'PERSON', 'men...            0.178955   \n",
       "9   [{'data': 'Steve Jobs', 'type': 'PERSON', 'men...            0.178955   \n",
       "10  [{'data': 'Steve Jobs', 'type': 'PERSON', 'men...            0.178955   \n",
       "11  [{'data': 'Steve Jobs', 'type': 'PERSON', 'men...            0.178955   \n",
       "12  [{'data': 'Apple', 'type': 'ORG', 'mentions': ...            0.010662   \n",
       "13  [{'data': 'Apple', 'type': 'ORG', 'mentions': ...            0.010662   \n",
       "14  [{'data': 'Apple', 'type': 'ORG', 'mentions': ...            0.010662   \n",
       "15  [{'data': 'Apple', 'type': 'ORG', 'mentions': ...            0.010662   \n",
       "16  [{'data': 'Apple', 'type': 'ORG', 'mentions': ...            0.010662   \n",
       "17  [{'data': 'Apple', 'type': 'ORG', 'mentions': ...            0.010662   \n",
       "18  [{'data': 'Apple', 'type': 'ORG', 'mentions': ...            0.010662   \n",
       "19  [{'data': 'Apple', 'type': 'ORG', 'mentions': ...            0.282916   \n",
       "20  [{'data': 'Apple', 'type': 'ORG', 'mentions': ...            0.009059   \n",
       "21  [{'data': 'Apple', 'type': 'ORG', 'mentions': ...            0.009059   \n",
       "22  [{'data': 'Europe', 'type': 'LOC', 'mentions':...            0.136892   \n",
       "23  [{'data': 'Europe', 'type': 'LOC', 'mentions':...            0.136892   \n",
       "24  [{'data': 'Europe', 'type': 'LOC', 'mentions':...            0.136892   \n",
       "25  [{'data': 'The Lex Newsletter', 'type': 'ORG',...            0.024666   \n",
       "26  [{'data': 'The Lex Newsletter', 'type': 'ORG',...            0.024666   \n",
       "27  [{'data': 'The Lex Newsletter', 'type': 'ORG',...            0.024666   \n",
       "\n",
       "    negative_sentiment  neutral_sentiment      open     close ticker  \n",
       "0             0.012583           0.919942  8.446018  7.027937   AAPL  \n",
       "1             0.934290           0.047688  6.862640  5.007559   AAPL  \n",
       "2             0.934290           0.047688  6.862640  5.007559   AAPL  \n",
       "3             0.934290           0.047688  6.862640  5.007559   AAPL  \n",
       "4             0.934290           0.047688  6.862640  5.007559   AAPL  \n",
       "5             0.934290           0.047688  6.862640  5.007559   AAPL  \n",
       "6             0.078486           0.879133  6.862640  5.007559   AAPL  \n",
       "7             0.078486           0.879133  6.862640  5.007559   AAPL  \n",
       "8             0.015097           0.805948  6.862640  5.007559   AAPL  \n",
       "9             0.015097           0.805948  6.862640  5.007559   AAPL  \n",
       "10            0.015097           0.805948  6.862640  5.007559   AAPL  \n",
       "11            0.015097           0.805948  6.862640  5.007559   AAPL  \n",
       "12            0.912274           0.077063  8.446018  7.027937   AAPL  \n",
       "13            0.912274           0.077063  8.446018  7.027937   AAPL  \n",
       "14            0.912274           0.077063  8.446018  7.027937   AAPL  \n",
       "15            0.912274           0.077063  8.446018  7.027937   AAPL  \n",
       "16            0.912274           0.077063  8.446018  7.027937   AAPL  \n",
       "17            0.912274           0.077063  8.446018  7.027937   AAPL  \n",
       "18            0.912274           0.077063  8.446018  7.027937   AAPL  \n",
       "19            0.034582           0.682502  6.862640  5.007559   AAPL  \n",
       "20            0.938614           0.052326  8.446018  7.027937   AAPL  \n",
       "21            0.938614           0.052326  8.446018  7.027937   AAPL  \n",
       "22            0.429763           0.433345  8.446018  7.027937   AAPL  \n",
       "23            0.429763           0.433345  8.446018  7.027937   AAPL  \n",
       "24            0.429763           0.433345  8.446018  7.027937   AAPL  \n",
       "25            0.909454           0.065881  8.446018  7.027937   AAPL  \n",
       "26            0.909454           0.065881  8.446018  7.027937   AAPL  \n",
       "27            0.909454           0.065881  8.446018  7.027937   AAPL  "
      ]
     },
     "execution_count": 203,
     "metadata": {},
     "output_type": "execute_result"
    }
   ],
   "source": [
    "df_exploded.head(28)"
   ]
  },
  {
   "cell_type": "code",
   "execution_count": 204,
   "id": "605c544c-1b92-4dda-b4ea-d3a2e5726536",
   "metadata": {
    "tags": []
   },
   "outputs": [],
   "source": [
    "df_exploded.to_csv('merged_data_sample.csv', index=False)"
   ]
  },
  {
   "cell_type": "code",
   "execution_count": null,
   "id": "1df00068-5f87-4ced-87ac-ae1245186f8a",
   "metadata": {},
   "outputs": [],
   "source": []
  }
 ],
 "metadata": {
  "kernelspec": {
   "display_name": "Python 3 (ipykernel)",
   "language": "python",
   "name": "python3"
  },
  "language_info": {
   "codemirror_mode": {
    "name": "ipython",
    "version": 3
   },
   "file_extension": ".py",
   "mimetype": "text/x-python",
   "name": "python",
   "nbconvert_exporter": "python",
   "pygments_lexer": "ipython3",
   "version": "3.11.5"
  }
 },
 "nbformat": 4,
 "nbformat_minor": 5
}
