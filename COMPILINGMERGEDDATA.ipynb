{
 "cells": [
  {
   "cell_type": "code",
   "execution_count": 3,
   "id": "710ec5a1-d227-419d-bbff-22a86d5b4647",
   "metadata": {},
   "outputs": [],
   "source": [
    "import numpy as np\n",
    "import pandas as pd\n"
   ]
  },
  {
   "cell_type": "code",
   "execution_count": 4,
   "id": "c80a163b-5c61-4537-8e43-301ec6351f43",
   "metadata": {},
   "outputs": [],
   "source": [
    "aapl = pd.read_csv(\"mergeddata_AAPL.csv\")\n",
    "abnb = pd.read_csv(\"mergeddata_ABNB.csv\")\n",
    "amzn = pd.read_csv(\"mergeddata_AMZN.csv\")\n",
    "avgo = pd.read_csv(\"mergeddata_AVGO.csv\")\n",
    "googl = pd.read_csv(\"mergeddata_GOOGL.csv\")\n",
    "jnj = pd.read_csv(\"mergeddata_JNJ.csv\")\n",
    "jpm = pd.read_csv(\"mergeddata_JPM.csv\")\n",
    "lly = pd.read_csv(\"mergeddata_LLY.csv\")\n",
    "ma = pd.read_csv(\"mergeddata_MA.csv\")\n",
    "meta = pd.read_csv(\"mergeddata_META.csv\")\n",
    "msft = pd.read_csv(\"mergeddata_MSFT.csv\")\n",
    "nvda = pd.read_csv(\"mergeddata_NVDA.csv\")\n",
    "pg = pd.read_csv(\"mergeddata_PG.csv\")\n",
    "tsla = pd.read_csv(\"mergeddata_TSLA.csv\")\n",
    "unh = pd.read_csv(\"mergeddata_UNH.csv\")\n",
    "v = pd.read_csv(\"mergeddata_V.csv\")\n",
    "xom = pd.read_csv(\"mergeddata_XOM.csv\")"
   ]
  },
  {
   "cell_type": "code",
   "execution_count": 5,
   "id": "c1cb3bf8-a60a-43c8-a0e3-9edb44deeb2f",
   "metadata": {},
   "outputs": [],
   "source": [
    "#merge all of the data\n",
    "combined_data = pd.concat([aapl, abnb, amzn, avgo, googl, jnj, jpm, lly, ma,\n",
    "                           meta, msft, nvda, pg, tsla, unh, v, xom],\n",
    "                          ignore_index=True)"
   ]
  },
  {
   "cell_type": "code",
   "execution_count": 6,
   "id": "c9629a0d-a4f8-486c-a635-34685243c66b",
   "metadata": {},
   "outputs": [],
   "source": [
    "combined_data_328 = combined_data"
   ]
  },
  {
   "cell_type": "code",
   "execution_count": 7,
   "id": "471bdbf8-d5e9-4d3a-9747-072c524610ee",
   "metadata": {},
   "outputs": [
    {
     "data": {
      "text/plain": [
       "(17095, 19)"
      ]
     },
     "execution_count": 7,
     "metadata": {},
     "output_type": "execute_result"
    }
   ],
   "source": [
    "combined_data_328.shape"
   ]
  },
  {
   "cell_type": "code",
   "execution_count": 8,
   "id": "6ef52685-6850-44cf-99c4-91b36a0f15b4",
   "metadata": {},
   "outputs": [
    {
     "data": {
      "text/plain": [
       "articleDate             0\n",
       "n_companies             0\n",
       "StockSymbol             0\n",
       "source                  0\n",
       "companies               0\n",
       "country               168\n",
       "entities                0\n",
       "positive_sentiment      0\n",
       "negative_sentiment      0\n",
       "neutral_sentiment       0\n",
       "title_polarity          0\n",
       "title_subjectivity      0\n",
       "open                  784\n",
       "close                 784\n",
       "high                  784\n",
       "low                   784\n",
       "volume_start          784\n",
       "volume_end            784\n",
       "volume_mean           784\n",
       "dtype: int64"
      ]
     },
     "execution_count": 8,
     "metadata": {},
     "output_type": "execute_result"
    }
   ],
   "source": [
    "combined_data_328.isna().sum()"
   ]
  },
  {
   "cell_type": "code",
   "execution_count": null,
   "id": "170a1927-48df-4d88-ae38-6c93afcd7b8d",
   "metadata": {},
   "outputs": [],
   "source": [
    "#if we drop all of the na values for the stock data, we still have 16k data points"
   ]
  },
  {
   "cell_type": "code",
   "execution_count": 11,
   "id": "d60674c5-23fc-466f-9887-0f586af4808b",
   "metadata": {
    "scrolled": true
   },
   "outputs": [
    {
     "data": {
      "text/plain": [
       "country\n",
       "us    12326\n",
       "gb     1622\n",
       "in     1025\n",
       "ca      490\n",
       "ng      184\n",
       "      ...  \n",
       "mt        1\n",
       "mn        1\n",
       "ps        1\n",
       "kw        1\n",
       "ch        1\n",
       "Name: count, Length: 83, dtype: int64"
      ]
     },
     "execution_count": 11,
     "metadata": {},
     "output_type": "execute_result"
    }
   ],
   "source": [
    "combined_data_328['country'].value_counts()\n",
    "#maybe we change this to the dummy variable: either is it from an American news source or a foreign one"
   ]
  },
  {
   "cell_type": "code",
   "execution_count": 17,
   "id": "c1bb85d9-a364-4024-b988-a2ac8d481075",
   "metadata": {},
   "outputs": [],
   "source": [
    "combined_data_328['country_isUS'] = np.where(combined_data_328['country'] == 'us', 1, 0)"
   ]
  },
  {
   "cell_type": "code",
   "execution_count": 19,
   "id": "d4a19f79-6596-4f13-a33c-3989053edf35",
   "metadata": {},
   "outputs": [
    {
     "data": {
      "text/plain": [
       "country_isUS\n",
       "1    11752\n",
       "0     4559\n",
       "Name: count, dtype: int64"
      ]
     },
     "execution_count": 19,
     "metadata": {},
     "output_type": "execute_result"
    }
   ],
   "source": [
    "combined_data_328['country_isUS'].value_counts()"
   ]
  },
  {
   "cell_type": "code",
   "execution_count": 13,
   "id": "e98829b5-93dd-4dea-a05b-50b9f56029a1",
   "metadata": {},
   "outputs": [],
   "source": [
    "#how can we save the NAs?\n",
    "combined_data_328.dropna(subset=['open'], inplace=True)"
   ]
  },
  {
   "cell_type": "code",
   "execution_count": 14,
   "id": "d0a6e998-a36b-410c-8168-e5a421e6d790",
   "metadata": {},
   "outputs": [
    {
     "data": {
      "text/plain": [
       "articleDate             0\n",
       "n_companies             0\n",
       "StockSymbol             0\n",
       "source                  0\n",
       "companies               0\n",
       "country               166\n",
       "entities                0\n",
       "positive_sentiment      0\n",
       "negative_sentiment      0\n",
       "neutral_sentiment       0\n",
       "title_polarity          0\n",
       "title_subjectivity      0\n",
       "open                    0\n",
       "close                   0\n",
       "high                    0\n",
       "low                     0\n",
       "volume_start            0\n",
       "volume_end              0\n",
       "volume_mean             0\n",
       "open_marketcap          0\n",
       "close_marketcap         0\n",
       "dtype: int64"
      ]
     },
     "execution_count": 14,
     "metadata": {},
     "output_type": "execute_result"
    }
   ],
   "source": [
    "combined_data_328.isna().sum()"
   ]
  },
  {
   "cell_type": "code",
   "execution_count": 15,
   "id": "3560b24b-8b4e-41fd-9b9b-1e4a2260dca9",
   "metadata": {},
   "outputs": [],
   "source": [
    "#stock price alone is not a great predictor: let's use market cap\n",
    "#market cap is a metric that is calculated from the product of the stock price and the volume\n",
    "#taking the volume for the monday and the friday, we two market cap metrics\n",
    "combined_data_328['open_marketcap'] = combined_data_328['open'] * combined_data_328['volume_start']\n",
    "combined_data_328['close_marketcap'] = combined_data_328['close'] * combined_data_328['volume_end']"
   ]
  },
  {
   "cell_type": "code",
   "execution_count": 16,
   "id": "b67ebd1a-0f2e-4735-9fee-33900b3dcb2e",
   "metadata": {},
   "outputs": [
    {
     "data": {
      "text/plain": [
       "source\n",
       "ft.com                909\n",
       "defenseworld.net      765\n",
       "finance.yahoo.com     472\n",
       "nasdaq.com            472\n",
       "benzinga.com          288\n",
       "                     ... \n",
       "nyrej.com               1\n",
       "bitcoinist.com          1\n",
       "mvariety.com            1\n",
       "westislandblog.com      1\n",
       "tennessean.com          1\n",
       "Name: count, Length: 3194, dtype: int64"
      ]
     },
     "execution_count": 16,
     "metadata": {},
     "output_type": "execute_result"
    }
   ],
   "source": [
    "#analyze the source attribute\n",
    "combined_data_328['source'].value_counts()\n",
    "#we will have to combine some sources"
   ]
  },
  {
   "cell_type": "code",
   "execution_count": null,
   "id": "92a9b2e9-dd21-4d5b-a64e-3a59b7e133e8",
   "metadata": {},
   "outputs": [],
   "source": [
    "#lets take care of the Nan values for the country\n"
   ]
  },
  {
   "cell_type": "code",
   "execution_count": 20,
   "id": "81c7d7b2-c5ef-421d-b5df-b653fd2f37c1",
   "metadata": {},
   "outputs": [
    {
     "data": {
      "text/plain": [
       "(16311, 22)"
      ]
     },
     "execution_count": 20,
     "metadata": {},
     "output_type": "execute_result"
    }
   ],
   "source": [
    "combined_data_328.shape"
   ]
  },
  {
   "cell_type": "code",
   "execution_count": null,
   "id": "768b115b-8a0d-417d-9bce-267f88b506de",
   "metadata": {},
   "outputs": [],
   "source": [
    "#rule of 10, we want 10 times the number of example as we do attributes"
   ]
  },
  {
   "cell_type": "code",
   "execution_count": 23,
   "id": "7a612408-ed5e-458a-8f18-48cae6a6ea08",
   "metadata": {},
   "outputs": [
    {
     "data": {
      "text/plain": [
       "articleDate           0\n",
       "n_companies           0\n",
       "StockSymbol           0\n",
       "source                0\n",
       "companies             0\n",
       "entities              0\n",
       "positive_sentiment    0\n",
       "negative_sentiment    0\n",
       "neutral_sentiment     0\n",
       "title_polarity        0\n",
       "title_subjectivity    0\n",
       "open                  0\n",
       "close                 0\n",
       "high                  0\n",
       "low                   0\n",
       "volume_start          0\n",
       "volume_end            0\n",
       "volume_mean           0\n",
       "open_marketcap        0\n",
       "close_marketcap       0\n",
       "country_isUS          0\n",
       "dtype: int64"
      ]
     },
     "execution_count": 23,
     "metadata": {},
     "output_type": "execute_result"
    }
   ],
   "source": [
    "combined_data_328.isna().sum()"
   ]
  },
  {
   "cell_type": "code",
   "execution_count": 22,
   "id": "d543c156-cbd7-4010-ad56-25780ab935bf",
   "metadata": {},
   "outputs": [],
   "source": [
    "combined_data_328.drop(columns=['country'], inplace=True)"
   ]
  },
  {
   "cell_type": "code",
   "execution_count": 24,
   "id": "ab062dcd-71a8-4aae-b442-736a3a75b63a",
   "metadata": {},
   "outputs": [],
   "source": [
    "combined_data_328.to_csv('complete_data_328.csv', index=False) "
   ]
  },
  {
   "cell_type": "code",
   "execution_count": null,
   "id": "b6a48358-c52a-40a6-8de0-0fbb8022ba99",
   "metadata": {},
   "outputs": [],
   "source": []
  }
 ],
 "metadata": {
  "kernelspec": {
   "display_name": "Python 3 (ipykernel)",
   "language": "python",
   "name": "python3"
  },
  "language_info": {
   "codemirror_mode": {
    "name": "ipython",
    "version": 3
   },
   "file_extension": ".py",
   "mimetype": "text/x-python",
   "name": "python",
   "nbconvert_exporter": "python",
   "pygments_lexer": "ipython3",
   "version": "3.11.7"
  }
 },
 "nbformat": 4,
 "nbformat_minor": 5
}
